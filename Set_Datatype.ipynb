{
 "cells": [
  {
   "cell_type": "markdown",
   "id": "6408ff47",
   "metadata": {},
   "source": [
    "# Set Datatype- Operations and Methods"
   ]
  },
  {
   "cell_type": "markdown",
   "id": "071a45f6",
   "metadata": {},
   "source": [
    "### Set Operations"
   ]
  },
  {
   "cell_type": "markdown",
   "id": "1bf9674a",
   "metadata": {},
   "source": [
    "###### Union"
   ]
  },
  {
   "cell_type": "code",
   "execution_count": 1,
   "id": "d397a330",
   "metadata": {},
   "outputs": [],
   "source": [
    "a={1,2,3,4,5,6,7,8,9,10,11,12,13,14,15}\n",
    "b={10,11,12,13,14,15,16,17,18,19,20,21,22,23,24,25}"
   ]
  },
  {
   "cell_type": "code",
   "execution_count": 2,
   "id": "9d9ed7eb",
   "metadata": {},
   "outputs": [
    {
     "name": "stdout",
     "output_type": "stream",
     "text": [
      "{1, 2, 3, 4, 5, 6, 7, 8, 9, 10, 11, 12, 13, 14, 15, 16, 17, 18, 19, 20, 21, 22, 23, 24, 25}\n"
     ]
    }
   ],
   "source": [
    "print(a|b) # Union can be defined as all the values from both the sets without duplication"
   ]
  },
  {
   "cell_type": "markdown",
   "id": "dab304b2",
   "metadata": {},
   "source": [
    "###### Intersection"
   ]
  },
  {
   "cell_type": "code",
   "execution_count": 3,
   "id": "20fa57ae",
   "metadata": {},
   "outputs": [],
   "source": [
    "a={1,2,3,4,5,6,7,8,9,10,11,12,13,14,15}\n",
    "b={10,11,12,13,14,15,16,17,18,19,20,21,22,23,24,25}"
   ]
  },
  {
   "cell_type": "code",
   "execution_count": 4,
   "id": "71a30cd8",
   "metadata": {},
   "outputs": [
    {
     "name": "stdout",
     "output_type": "stream",
     "text": [
      "{10, 11, 12, 13, 14, 15}\n"
     ]
    }
   ],
   "source": [
    "print(a&b)"
   ]
  },
  {
   "cell_type": "markdown",
   "id": "cebfb1d6",
   "metadata": {},
   "source": [
    "###### Difference"
   ]
  },
  {
   "cell_type": "code",
   "execution_count": 5,
   "id": "cda0bb0c",
   "metadata": {},
   "outputs": [],
   "source": [
    "a={1,2,3,4,5,6,7,8,9,10,11,12,13,14,15}\n",
    "b={10,11,12,13,14,15,16,17,18,19,20,21,22,23,24,25}"
   ]
  },
  {
   "cell_type": "code",
   "execution_count": 6,
   "id": "781fdc8f",
   "metadata": {},
   "outputs": [
    {
     "name": "stdout",
     "output_type": "stream",
     "text": [
      "{1, 2, 3, 4, 5, 6, 7, 8, 9}\n"
     ]
    }
   ],
   "source": [
    "print(a-b)"
   ]
  },
  {
   "cell_type": "code",
   "execution_count": 7,
   "id": "fdf0f34c",
   "metadata": {},
   "outputs": [
    {
     "name": "stdout",
     "output_type": "stream",
     "text": [
      "{16, 17, 18, 19, 20, 21, 22, 23, 24, 25}\n"
     ]
    }
   ],
   "source": [
    "print(b-a)"
   ]
  },
  {
   "cell_type": "markdown",
   "id": "9823ef33",
   "metadata": {},
   "source": [
    "###### Symmetric Difference"
   ]
  },
  {
   "cell_type": "code",
   "execution_count": 8,
   "id": "654456b5",
   "metadata": {},
   "outputs": [],
   "source": [
    "a={1,2,3,4,5,6,7,8,9,10,11,12,13,14,15}\n",
    "b={10,11,12,13,14,15,16,17,18,19,20,21,22,23,24,25}"
   ]
  },
  {
   "cell_type": "code",
   "execution_count": 9,
   "id": "65f58e8e",
   "metadata": {},
   "outputs": [
    {
     "name": "stdout",
     "output_type": "stream",
     "text": [
      "{1, 2, 3, 4, 5, 6, 7, 8, 9, 16, 17, 18, 19, 20, 21, 22, 23, 24, 25}\n"
     ]
    }
   ],
   "source": [
    "print(a.symmetric_difference(b)) #Returns all the Unique values of Set a & b and avoids the Common values"
   ]
  },
  {
   "cell_type": "markdown",
   "id": "f16af762",
   "metadata": {},
   "source": [
    "### Set Methods"
   ]
  },
  {
   "cell_type": "markdown",
   "id": "8e0a6fab",
   "metadata": {},
   "source": [
    "###### Add"
   ]
  },
  {
   "cell_type": "code",
   "execution_count": 10,
   "id": "eeff8437",
   "metadata": {},
   "outputs": [],
   "source": [
    "c={10,20,30,40,50,60,70,80,90}"
   ]
  },
  {
   "cell_type": "code",
   "execution_count": 11,
   "id": "d133bd72",
   "metadata": {},
   "outputs": [
    {
     "name": "stdout",
     "output_type": "stream",
     "text": [
      "{100, 70, 40, 10, 80, 50, 20, 90, 60, 30}\n"
     ]
    }
   ],
   "source": [
    "c.add(100)\n",
    "print(c)"
   ]
  },
  {
   "cell_type": "code",
   "execution_count": 12,
   "id": "7e4eca0e",
   "metadata": {},
   "outputs": [
    {
     "name": "stdout",
     "output_type": "stream",
     "text": [
      "{100, 70, 40, 10, 110, 80, 50, 20, 90, 60, 30}\n"
     ]
    }
   ],
   "source": [
    "c.add(110)\n",
    "print(c)"
   ]
  },
  {
   "cell_type": "markdown",
   "id": "8d5b59e6",
   "metadata": {},
   "source": [
    "###### Pop"
   ]
  },
  {
   "cell_type": "code",
   "execution_count": 13,
   "id": "71d3b04e",
   "metadata": {},
   "outputs": [],
   "source": [
    "d={2,4,6,8,10,12,14,16,18,20}"
   ]
  },
  {
   "cell_type": "code",
   "execution_count": 14,
   "id": "0835395a",
   "metadata": {},
   "outputs": [
    {
     "name": "stdout",
     "output_type": "stream",
     "text": [
      "{4, 6, 8, 10, 12, 14, 16, 18, 20}\n"
     ]
    }
   ],
   "source": [
    "d.pop() # Pop in Set removes the first element from the set\n",
    "print(d)"
   ]
  },
  {
   "cell_type": "code",
   "execution_count": 15,
   "id": "952b9599",
   "metadata": {},
   "outputs": [
    {
     "name": "stdout",
     "output_type": "stream",
     "text": [
      "{6, 8, 10, 12, 14, 16, 18, 20}\n"
     ]
    }
   ],
   "source": [
    "d.pop()\n",
    "print(d)"
   ]
  },
  {
   "cell_type": "markdown",
   "id": "d3162845",
   "metadata": {},
   "source": [
    "###### Remove"
   ]
  },
  {
   "cell_type": "code",
   "execution_count": 16,
   "id": "274e6f6b",
   "metadata": {},
   "outputs": [],
   "source": [
    "e={1,3,5,7,9,11,13,15,17,19,21}"
   ]
  },
  {
   "cell_type": "code",
   "execution_count": 17,
   "id": "52df2c96",
   "metadata": {},
   "outputs": [
    {
     "name": "stdout",
     "output_type": "stream",
     "text": [
      "{1, 3, 5, 7, 9, 11, 13, 15, 17, 19}\n"
     ]
    }
   ],
   "source": [
    "e.remove(21)\n",
    "print(e)"
   ]
  },
  {
   "cell_type": "code",
   "execution_count": 18,
   "id": "1bcbaddf",
   "metadata": {},
   "outputs": [
    {
     "name": "stdout",
     "output_type": "stream",
     "text": [
      "{1, 3, 7, 9, 11, 13, 15, 17, 19}\n"
     ]
    }
   ],
   "source": [
    "e.remove(5)\n",
    "print(e)"
   ]
  },
  {
   "cell_type": "markdown",
   "id": "d3abe0d5",
   "metadata": {},
   "source": [
    "###### Copy"
   ]
  },
  {
   "cell_type": "code",
   "execution_count": 19,
   "id": "fdcf2112",
   "metadata": {},
   "outputs": [],
   "source": [
    "f={11,22,33,44,55,66,77,88,99,110}"
   ]
  },
  {
   "cell_type": "code",
   "execution_count": 20,
   "id": "56bc21e4",
   "metadata": {},
   "outputs": [
    {
     "name": "stdout",
     "output_type": "stream",
     "text": [
      "{33, 66, 99, 11, 44, 77, 110, 22, 55, 88}\n"
     ]
    }
   ],
   "source": [
    "g=f.copy()\n",
    "print(g)"
   ]
  },
  {
   "cell_type": "markdown",
   "id": "444cdaf7",
   "metadata": {},
   "source": [
    "###### Clear"
   ]
  },
  {
   "cell_type": "code",
   "execution_count": 21,
   "id": "92d1f90c",
   "metadata": {},
   "outputs": [],
   "source": [
    "h={4,8,12,16,20,14,28,32,36,40}"
   ]
  },
  {
   "cell_type": "code",
   "execution_count": 22,
   "id": "474b2f17",
   "metadata": {},
   "outputs": [
    {
     "name": "stdout",
     "output_type": "stream",
     "text": [
      "set()\n"
     ]
    }
   ],
   "source": [
    "h.clear()\n",
    "print(h)"
   ]
  },
  {
   "cell_type": "markdown",
   "id": "822219d2",
   "metadata": {},
   "source": [
    "###### Union"
   ]
  },
  {
   "cell_type": "code",
   "execution_count": 23,
   "id": "b94a080f",
   "metadata": {},
   "outputs": [],
   "source": [
    "i={5,10,15,20,25}\n",
    "j={10,20,30,40,50}"
   ]
  },
  {
   "cell_type": "code",
   "execution_count": 24,
   "id": "8d0a263e",
   "metadata": {},
   "outputs": [
    {
     "name": "stdout",
     "output_type": "stream",
     "text": [
      "{5, 40, 10, 15, 50, 20, 25, 30}\n"
     ]
    }
   ],
   "source": [
    "print(i.union(j))"
   ]
  },
  {
   "cell_type": "markdown",
   "id": "f1d5ee7f",
   "metadata": {},
   "source": [
    "###### Difference"
   ]
  },
  {
   "cell_type": "code",
   "execution_count": 25,
   "id": "0e2c0c4a",
   "metadata": {},
   "outputs": [],
   "source": [
    "i={5,10,15,20,25}\n",
    "j={10,20,30,40,50}"
   ]
  },
  {
   "cell_type": "code",
   "execution_count": 26,
   "id": "1f0dde24",
   "metadata": {},
   "outputs": [
    {
     "name": "stdout",
     "output_type": "stream",
     "text": [
      "{25, 5, 15}\n"
     ]
    }
   ],
   "source": [
    "print(i.difference(j))"
   ]
  },
  {
   "cell_type": "code",
   "execution_count": 27,
   "id": "bc3dd82e",
   "metadata": {},
   "outputs": [
    {
     "name": "stdout",
     "output_type": "stream",
     "text": [
      "{40, 50, 30}\n"
     ]
    }
   ],
   "source": [
    "print(j.difference(i))"
   ]
  },
  {
   "cell_type": "markdown",
   "id": "87823bc7",
   "metadata": {},
   "source": [
    "###### Issubset"
   ]
  },
  {
   "cell_type": "code",
   "execution_count": 28,
   "id": "f14bf801",
   "metadata": {},
   "outputs": [],
   "source": [
    "k={1,2,3,4,5,6,7,8,9,10,12,11,13,14,15}\n",
    "l={2,5,8,11,14}"
   ]
  },
  {
   "cell_type": "code",
   "execution_count": 29,
   "id": "d8f2b117",
   "metadata": {},
   "outputs": [
    {
     "name": "stdout",
     "output_type": "stream",
     "text": [
      "False\n"
     ]
    }
   ],
   "source": [
    "print(k.issubset(l))"
   ]
  },
  {
   "cell_type": "code",
   "execution_count": 30,
   "id": "90c4755b",
   "metadata": {},
   "outputs": [
    {
     "name": "stdout",
     "output_type": "stream",
     "text": [
      "True\n"
     ]
    }
   ],
   "source": [
    "print(l.issubset(k))"
   ]
  },
  {
   "cell_type": "markdown",
   "id": "74c55ea2",
   "metadata": {},
   "source": [
    "###### Issuperset"
   ]
  },
  {
   "cell_type": "code",
   "execution_count": 31,
   "id": "77f535c8",
   "metadata": {},
   "outputs": [],
   "source": [
    "m={12,24,36,48,60,72,84,96,108,120}\n",
    "n={12,108,120}"
   ]
  },
  {
   "cell_type": "code",
   "execution_count": 32,
   "id": "79f9cbd8",
   "metadata": {},
   "outputs": [
    {
     "name": "stdout",
     "output_type": "stream",
     "text": [
      "True\n"
     ]
    }
   ],
   "source": [
    "print(m.issuperset(n))"
   ]
  },
  {
   "cell_type": "markdown",
   "id": "e56b21d7",
   "metadata": {},
   "source": [
    "###### Intersection"
   ]
  },
  {
   "cell_type": "code",
   "execution_count": 33,
   "id": "b6132ca2",
   "metadata": {},
   "outputs": [],
   "source": [
    "o={12,24,36,48,60,72,84,96,108,120}\n",
    "p={24,48,84,168,336}"
   ]
  },
  {
   "cell_type": "code",
   "execution_count": 34,
   "id": "9f4a4c28",
   "metadata": {},
   "outputs": [
    {
     "name": "stdout",
     "output_type": "stream",
     "text": [
      "{48, 24, 84}\n"
     ]
    }
   ],
   "source": [
    "print(o.intersection(p))"
   ]
  },
  {
   "cell_type": "markdown",
   "id": "e02bca0e",
   "metadata": {},
   "source": [
    "###### Isdisjoint"
   ]
  },
  {
   "cell_type": "code",
   "execution_count": 35,
   "id": "c99b86c9",
   "metadata": {},
   "outputs": [],
   "source": [
    "q={2,4,6,8,10}\n",
    "r={1,3,5,7,10}\n",
    "s={11,13,15,17,19}"
   ]
  },
  {
   "cell_type": "code",
   "execution_count": 36,
   "id": "c3d4ca33",
   "metadata": {},
   "outputs": [
    {
     "name": "stdout",
     "output_type": "stream",
     "text": [
      "False\n"
     ]
    }
   ],
   "source": [
    "print(q.isdisjoint(r))"
   ]
  },
  {
   "cell_type": "code",
   "execution_count": 37,
   "id": "4d05edd2",
   "metadata": {},
   "outputs": [
    {
     "name": "stdout",
     "output_type": "stream",
     "text": [
      "True\n"
     ]
    }
   ],
   "source": [
    "print(q.isdisjoint(s))"
   ]
  },
  {
   "cell_type": "code",
   "execution_count": null,
   "id": "74dd6127",
   "metadata": {},
   "outputs": [],
   "source": []
  }
 ],
 "metadata": {
  "kernelspec": {
   "display_name": "Python 3",
   "language": "python",
   "name": "python3"
  },
  "language_info": {
   "codemirror_mode": {
    "name": "ipython",
    "version": 3
   },
   "file_extension": ".py",
   "mimetype": "text/x-python",
   "name": "python",
   "nbconvert_exporter": "python",
   "pygments_lexer": "ipython3",
   "version": "3.8.8"
  }
 },
 "nbformat": 4,
 "nbformat_minor": 5
}
