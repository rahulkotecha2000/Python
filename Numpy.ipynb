{
 "cells": [
  {
   "cell_type": "markdown",
   "id": "21529481",
   "metadata": {},
   "source": [
    "# Numpy: Numerical Python"
   ]
  },
  {
   "cell_type": "markdown",
   "id": "d3941a2c",
   "metadata": {},
   "source": [
    "Numpy is a fundamental package for scientific computations in Python. Numpy stands for Numerical Python and was first created in the year 2005 by Travis Oliphant."
   ]
  },
  {
   "cell_type": "markdown",
   "id": "7cfe0fef",
   "metadata": {},
   "source": [
    "Numpy is a Python library used for working on arrays. In Python we have list datatype object that serves somewhat the same purpose as an array however the key difference is in terms of processing speed. As per a research it was found that an array object is almost 50 times faster than a list datatype object."
   ]
  },
  {
   "cell_type": "markdown",
   "id": "beb443d4",
   "metadata": {},
   "source": [
    "The array object in Numpy is called as an \"ndarray\" object. Numpy also has special functions that widen its scope of usage into the domains of linear algebra, matrices, etc."
   ]
  },
  {
   "cell_type": "markdown",
   "id": "6cfd2214",
   "metadata": {},
   "source": [
    "Nothing in Python library Numpy is saved until it is assigned a variable. Numpy consists of \"multi-dimensional\" array objects."
   ]
  },
  {
   "cell_type": "markdown",
   "id": "c9200985",
   "metadata": {},
   "source": [
    "### Importing Numpy library of Python"
   ]
  },
  {
   "cell_type": "code",
   "execution_count": 1,
   "id": "fc3a9762",
   "metadata": {},
   "outputs": [],
   "source": [
    "import numpy as np"
   ]
  },
  {
   "cell_type": "markdown",
   "id": "574cfb2f",
   "metadata": {},
   "source": [
    "### Numpy Array Creation Techniques"
   ]
  },
  {
   "cell_type": "markdown",
   "id": "53a675fd",
   "metadata": {},
   "source": [
    "###### Empty"
   ]
  },
  {
   "cell_type": "code",
   "execution_count": 2,
   "id": "01900545",
   "metadata": {},
   "outputs": [],
   "source": [
    "a=np.empty(10)"
   ]
  },
  {
   "cell_type": "code",
   "execution_count": 3,
   "id": "a654fac7",
   "metadata": {},
   "outputs": [
    {
     "name": "stdout",
     "output_type": "stream",
     "text": [
      "[0. 0. 0. 0. 0. 0. 0. 0. 0. 0.]\n"
     ]
    }
   ],
   "source": [
    "print(a)"
   ]
  },
  {
   "cell_type": "code",
   "execution_count": 4,
   "id": "1d2087ad",
   "metadata": {},
   "outputs": [],
   "source": [
    "b=np.empty((2,3),dtype=int)"
   ]
  },
  {
   "cell_type": "code",
   "execution_count": 5,
   "id": "53824bba",
   "metadata": {},
   "outputs": [
    {
     "name": "stdout",
     "output_type": "stream",
     "text": [
      "[[-1587589376       32765 -1587584864]\n",
      " [      32765     5439567          69]]\n"
     ]
    }
   ],
   "source": [
    "print(b)"
   ]
  },
  {
   "cell_type": "markdown",
   "id": "b75bba64",
   "metadata": {},
   "source": [
    "###### Zeros"
   ]
  },
  {
   "cell_type": "code",
   "execution_count": 6,
   "id": "2d48ac1d",
   "metadata": {},
   "outputs": [],
   "source": [
    "c=np.zeros(5)"
   ]
  },
  {
   "cell_type": "code",
   "execution_count": 7,
   "id": "4583a846",
   "metadata": {},
   "outputs": [
    {
     "name": "stdout",
     "output_type": "stream",
     "text": [
      "[0. 0. 0. 0. 0.]\n"
     ]
    }
   ],
   "source": [
    "print(c)"
   ]
  },
  {
   "cell_type": "code",
   "execution_count": 8,
   "id": "e3dc1bd6",
   "metadata": {},
   "outputs": [],
   "source": [
    "d=np.zeros((5,5),dtype=int)"
   ]
  },
  {
   "cell_type": "code",
   "execution_count": 9,
   "id": "11547ba6",
   "metadata": {},
   "outputs": [
    {
     "name": "stdout",
     "output_type": "stream",
     "text": [
      "[[0 0 0 0 0]\n",
      " [0 0 0 0 0]\n",
      " [0 0 0 0 0]\n",
      " [0 0 0 0 0]\n",
      " [0 0 0 0 0]]\n"
     ]
    }
   ],
   "source": [
    "print(d)"
   ]
  },
  {
   "cell_type": "markdown",
   "id": "9a978ed2",
   "metadata": {},
   "source": [
    "###### Ones"
   ]
  },
  {
   "cell_type": "code",
   "execution_count": 10,
   "id": "1fda82eb",
   "metadata": {},
   "outputs": [],
   "source": [
    "e=np.ones(5,dtype=int)"
   ]
  },
  {
   "cell_type": "code",
   "execution_count": 11,
   "id": "fcc2d809",
   "metadata": {},
   "outputs": [
    {
     "name": "stdout",
     "output_type": "stream",
     "text": [
      "[1 1 1 1 1]\n"
     ]
    }
   ],
   "source": [
    "print(e)"
   ]
  },
  {
   "cell_type": "code",
   "execution_count": 12,
   "id": "a4928b35",
   "metadata": {},
   "outputs": [],
   "source": [
    "f=np.ones((3,2))"
   ]
  },
  {
   "cell_type": "code",
   "execution_count": 13,
   "id": "cfc0a585",
   "metadata": {},
   "outputs": [
    {
     "name": "stdout",
     "output_type": "stream",
     "text": [
      "[[1. 1.]\n",
      " [1. 1.]\n",
      " [1. 1.]]\n"
     ]
    }
   ],
   "source": [
    "print(f)"
   ]
  },
  {
   "cell_type": "markdown",
   "id": "9fb0f46a",
   "metadata": {},
   "source": [
    "###### Eye"
   ]
  },
  {
   "cell_type": "code",
   "execution_count": 14,
   "id": "040aa868",
   "metadata": {},
   "outputs": [],
   "source": [
    "g=np.eye(5)"
   ]
  },
  {
   "cell_type": "code",
   "execution_count": 15,
   "id": "6a032f65",
   "metadata": {},
   "outputs": [
    {
     "name": "stdout",
     "output_type": "stream",
     "text": [
      "[[1. 0. 0. 0. 0.]\n",
      " [0. 1. 0. 0. 0.]\n",
      " [0. 0. 1. 0. 0.]\n",
      " [0. 0. 0. 1. 0.]\n",
      " [0. 0. 0. 0. 1.]]\n"
     ]
    }
   ],
   "source": [
    "print(g)"
   ]
  },
  {
   "cell_type": "code",
   "execution_count": 16,
   "id": "218fb41b",
   "metadata": {},
   "outputs": [
    {
     "name": "stdout",
     "output_type": "stream",
     "text": [
      "[[5. 0. 0. 0. 0.]\n",
      " [0. 5. 0. 0. 0.]\n",
      " [0. 0. 5. 0. 0.]\n",
      " [0. 0. 0. 5. 0.]\n",
      " [0. 0. 0. 0. 5.]]\n"
     ]
    }
   ],
   "source": [
    "print(g*5)"
   ]
  },
  {
   "cell_type": "code",
   "execution_count": 17,
   "id": "d8e44dc1",
   "metadata": {},
   "outputs": [
    {
     "name": "stdout",
     "output_type": "stream",
     "text": [
      "[[6. 5. 5. 5. 5.]\n",
      " [5. 6. 5. 5. 5.]\n",
      " [5. 5. 6. 5. 5.]\n",
      " [5. 5. 5. 6. 5.]\n",
      " [5. 5. 5. 5. 6.]]\n"
     ]
    }
   ],
   "source": [
    "print(g+5)"
   ]
  },
  {
   "cell_type": "markdown",
   "id": "922d538f",
   "metadata": {},
   "source": [
    "###### Arange"
   ]
  },
  {
   "cell_type": "code",
   "execution_count": 18,
   "id": "6763eca9",
   "metadata": {},
   "outputs": [],
   "source": [
    "h=np.arange(1,11)"
   ]
  },
  {
   "cell_type": "code",
   "execution_count": 19,
   "id": "91f37c03",
   "metadata": {},
   "outputs": [
    {
     "name": "stdout",
     "output_type": "stream",
     "text": [
      "[ 1  2  3  4  5  6  7  8  9 10]\n"
     ]
    }
   ],
   "source": [
    "print(h)"
   ]
  },
  {
   "cell_type": "code",
   "execution_count": 20,
   "id": "fcfc24fb",
   "metadata": {},
   "outputs": [
    {
     "name": "stdout",
     "output_type": "stream",
     "text": [
      "[[ 1  2  3  4  5]\n",
      " [ 6  7  8  9 10]]\n"
     ]
    }
   ],
   "source": [
    "print(h.reshape(2,5))"
   ]
  },
  {
   "cell_type": "code",
   "execution_count": 21,
   "id": "fa34c8c8",
   "metadata": {},
   "outputs": [],
   "source": [
    "i=np.arange(1,26).reshape(5,5)"
   ]
  },
  {
   "cell_type": "code",
   "execution_count": 22,
   "id": "a49ad843",
   "metadata": {},
   "outputs": [
    {
     "name": "stdout",
     "output_type": "stream",
     "text": [
      "[[ 1  2  3  4  5]\n",
      " [ 6  7  8  9 10]\n",
      " [11 12 13 14 15]\n",
      " [16 17 18 19 20]\n",
      " [21 22 23 24 25]]\n"
     ]
    }
   ],
   "source": [
    "print(i)"
   ]
  },
  {
   "cell_type": "markdown",
   "id": "c66d1633",
   "metadata": {},
   "source": [
    "###### Array"
   ]
  },
  {
   "cell_type": "code",
   "execution_count": 23,
   "id": "c72327bb",
   "metadata": {},
   "outputs": [],
   "source": [
    "j=np.array([1,2,3,4,5])"
   ]
  },
  {
   "cell_type": "code",
   "execution_count": 24,
   "id": "a8281942",
   "metadata": {},
   "outputs": [
    {
     "name": "stdout",
     "output_type": "stream",
     "text": [
      "[1 2 3 4 5]\n"
     ]
    }
   ],
   "source": [
    "print(j)"
   ]
  },
  {
   "cell_type": "code",
   "execution_count": 25,
   "id": "2897ca6d",
   "metadata": {},
   "outputs": [],
   "source": [
    "k=np.array([[1,2,3],[4,5,6],[7,8,9]])"
   ]
  },
  {
   "cell_type": "code",
   "execution_count": 26,
   "id": "b560757a",
   "metadata": {},
   "outputs": [
    {
     "name": "stdout",
     "output_type": "stream",
     "text": [
      "[[1 2 3]\n",
      " [4 5 6]\n",
      " [7 8 9]]\n"
     ]
    }
   ],
   "source": [
    "print(k)"
   ]
  },
  {
   "cell_type": "markdown",
   "id": "618f95be",
   "metadata": {},
   "source": [
    "###### Linspace"
   ]
  },
  {
   "cell_type": "code",
   "execution_count": 27,
   "id": "ab636718",
   "metadata": {},
   "outputs": [],
   "source": [
    "l=np.linspace(0.01,1,100)"
   ]
  },
  {
   "cell_type": "code",
   "execution_count": 28,
   "id": "6042d2aa",
   "metadata": {},
   "outputs": [
    {
     "name": "stdout",
     "output_type": "stream",
     "text": [
      "[[0.01 0.02 0.03 0.04 0.05 0.06 0.07 0.08 0.09 0.1 ]\n",
      " [0.11 0.12 0.13 0.14 0.15 0.16 0.17 0.18 0.19 0.2 ]\n",
      " [0.21 0.22 0.23 0.24 0.25 0.26 0.27 0.28 0.29 0.3 ]\n",
      " [0.31 0.32 0.33 0.34 0.35 0.36 0.37 0.38 0.39 0.4 ]\n",
      " [0.41 0.42 0.43 0.44 0.45 0.46 0.47 0.48 0.49 0.5 ]\n",
      " [0.51 0.52 0.53 0.54 0.55 0.56 0.57 0.58 0.59 0.6 ]\n",
      " [0.61 0.62 0.63 0.64 0.65 0.66 0.67 0.68 0.69 0.7 ]\n",
      " [0.71 0.72 0.73 0.74 0.75 0.76 0.77 0.78 0.79 0.8 ]\n",
      " [0.81 0.82 0.83 0.84 0.85 0.86 0.87 0.88 0.89 0.9 ]\n",
      " [0.91 0.92 0.93 0.94 0.95 0.96 0.97 0.98 0.99 1.  ]]\n"
     ]
    }
   ],
   "source": [
    "print(l.reshape(10,10))"
   ]
  },
  {
   "cell_type": "markdown",
   "id": "1c3bd664",
   "metadata": {},
   "source": [
    "### Numpy Multi-Dimensional Array Objects"
   ]
  },
  {
   "cell_type": "markdown",
   "id": "b77f4956",
   "metadata": {},
   "source": [
    "###### One- Dimensional Array"
   ]
  },
  {
   "cell_type": "code",
   "execution_count": 29,
   "id": "d380695b",
   "metadata": {},
   "outputs": [],
   "source": [
    "m=np.array([1,2,3,4,5])"
   ]
  },
  {
   "cell_type": "code",
   "execution_count": 30,
   "id": "88d53123",
   "metadata": {},
   "outputs": [
    {
     "name": "stdout",
     "output_type": "stream",
     "text": [
      "[1 2 3 4 5]\n"
     ]
    }
   ],
   "source": [
    "print(m)"
   ]
  },
  {
   "cell_type": "code",
   "execution_count": 31,
   "id": "fc14ffc7",
   "metadata": {},
   "outputs": [],
   "source": [
    "n=np.arange(1,21)"
   ]
  },
  {
   "cell_type": "code",
   "execution_count": 32,
   "id": "8a3f935d",
   "metadata": {},
   "outputs": [
    {
     "name": "stdout",
     "output_type": "stream",
     "text": [
      "[ 1  2  3  4  5  6  7  8  9 10 11 12 13 14 15 16 17 18 19 20]\n"
     ]
    }
   ],
   "source": [
    "print(n)"
   ]
  },
  {
   "cell_type": "markdown",
   "id": "3d01f167",
   "metadata": {},
   "source": [
    "###### Two- Dimensional Array"
   ]
  },
  {
   "cell_type": "code",
   "execution_count": 33,
   "id": "6bc3de96",
   "metadata": {},
   "outputs": [],
   "source": [
    "o=np.array([[1,2,3,4],[5,6,7,8]])"
   ]
  },
  {
   "cell_type": "code",
   "execution_count": 34,
   "id": "143d2bf2",
   "metadata": {},
   "outputs": [
    {
     "name": "stdout",
     "output_type": "stream",
     "text": [
      "[[1 2 3 4]\n",
      " [5 6 7 8]]\n"
     ]
    }
   ],
   "source": [
    "print(o)"
   ]
  },
  {
   "cell_type": "code",
   "execution_count": 35,
   "id": "8fcc853e",
   "metadata": {},
   "outputs": [],
   "source": [
    "p=np.arange(1,26).reshape(5,5)"
   ]
  },
  {
   "cell_type": "code",
   "execution_count": 36,
   "id": "35c70da6",
   "metadata": {},
   "outputs": [
    {
     "name": "stdout",
     "output_type": "stream",
     "text": [
      "[[ 1  2  3  4  5]\n",
      " [ 6  7  8  9 10]\n",
      " [11 12 13 14 15]\n",
      " [16 17 18 19 20]\n",
      " [21 22 23 24 25]]\n"
     ]
    }
   ],
   "source": [
    "print(p)"
   ]
  },
  {
   "cell_type": "markdown",
   "id": "42747cab",
   "metadata": {},
   "source": [
    "### Numpy Array Functions"
   ]
  },
  {
   "cell_type": "code",
   "execution_count": 37,
   "id": "143c70e1",
   "metadata": {},
   "outputs": [
    {
     "name": "stdout",
     "output_type": "stream",
     "text": [
      "[[ 1  2  3  4  5]\n",
      " [ 6  7  8  9 10]]\n"
     ]
    }
   ],
   "source": [
    "q=np.arange(1,11).reshape(2,5)\n",
    "print(q)"
   ]
  },
  {
   "cell_type": "code",
   "execution_count": 38,
   "id": "baf85190",
   "metadata": {},
   "outputs": [
    {
     "name": "stdout",
     "output_type": "stream",
     "text": [
      "[[11 12 13 14 15]\n",
      " [16 17 18 19 20]]\n"
     ]
    }
   ],
   "source": [
    "r=np.arange(11,21).reshape(2,5)\n",
    "print(r)"
   ]
  },
  {
   "cell_type": "code",
   "execution_count": 39,
   "id": "2d31a879",
   "metadata": {},
   "outputs": [
    {
     "name": "stdout",
     "output_type": "stream",
     "text": [
      "[1 2 3 4]\n"
     ]
    }
   ],
   "source": [
    "q1=np.array([1,2,3,4])\n",
    "print(q1)"
   ]
  },
  {
   "cell_type": "code",
   "execution_count": 40,
   "id": "3dab75fc",
   "metadata": {},
   "outputs": [
    {
     "name": "stdout",
     "output_type": "stream",
     "text": [
      "[5 6 7 8]\n"
     ]
    }
   ],
   "source": [
    "r1=np.array([5,6,7,8])\n",
    "print(r1)"
   ]
  },
  {
   "cell_type": "markdown",
   "id": "e5c25a2a",
   "metadata": {},
   "source": [
    "###### Concatenate"
   ]
  },
  {
   "cell_type": "markdown",
   "id": "9e1e3681",
   "metadata": {},
   "source": [
    "For 1-D array objects concatenate function will undertake Hstack and for 2-D array objects concatenate will undertake Vstack"
   ]
  },
  {
   "cell_type": "code",
   "execution_count": 41,
   "id": "9e1736e0",
   "metadata": {},
   "outputs": [
    {
     "data": {
      "text/plain": [
       "array([[ 1,  2,  3,  4,  5],\n",
       "       [ 6,  7,  8,  9, 10],\n",
       "       [11, 12, 13, 14, 15],\n",
       "       [16, 17, 18, 19, 20]])"
      ]
     },
     "execution_count": 41,
     "metadata": {},
     "output_type": "execute_result"
    }
   ],
   "source": [
    "np.concatenate((q,r)) #Array q and r both are 2-D array objects"
   ]
  },
  {
   "cell_type": "code",
   "execution_count": 42,
   "id": "5e44947a",
   "metadata": {},
   "outputs": [
    {
     "data": {
      "text/plain": [
       "array([1, 2, 3, 4, 5, 6, 7, 8])"
      ]
     },
     "execution_count": 42,
     "metadata": {},
     "output_type": "execute_result"
    }
   ],
   "source": [
    "np.concatenate((q1,r1)) ##Array q1 and r1 both are 1-D array objects"
   ]
  },
  {
   "cell_type": "markdown",
   "id": "f61aa780",
   "metadata": {},
   "source": [
    "###### Hstack or Horizontal stacking"
   ]
  },
  {
   "cell_type": "code",
   "execution_count": 43,
   "id": "2093776a",
   "metadata": {},
   "outputs": [
    {
     "data": {
      "text/plain": [
       "array([[ 1,  2,  3,  4,  5, 11, 12, 13, 14, 15],\n",
       "       [ 6,  7,  8,  9, 10, 16, 17, 18, 19, 20]])"
      ]
     },
     "execution_count": 43,
     "metadata": {},
     "output_type": "execute_result"
    }
   ],
   "source": [
    "np.hstack((q,r))"
   ]
  },
  {
   "cell_type": "code",
   "execution_count": 44,
   "id": "244b4792",
   "metadata": {},
   "outputs": [
    {
     "data": {
      "text/plain": [
       "array([1, 2, 3, 4, 5, 6, 7, 8])"
      ]
     },
     "execution_count": 44,
     "metadata": {},
     "output_type": "execute_result"
    }
   ],
   "source": [
    "np.hstack((q1,r1))"
   ]
  },
  {
   "cell_type": "markdown",
   "id": "ced5803a",
   "metadata": {},
   "source": [
    "###### Vstack or Vertical stacking"
   ]
  },
  {
   "cell_type": "code",
   "execution_count": 45,
   "id": "872c6ee4",
   "metadata": {},
   "outputs": [
    {
     "data": {
      "text/plain": [
       "array([[ 1,  2,  3,  4,  5],\n",
       "       [ 6,  7,  8,  9, 10],\n",
       "       [11, 12, 13, 14, 15],\n",
       "       [16, 17, 18, 19, 20]])"
      ]
     },
     "execution_count": 45,
     "metadata": {},
     "output_type": "execute_result"
    }
   ],
   "source": [
    "np.vstack((q,r))"
   ]
  },
  {
   "cell_type": "code",
   "execution_count": 46,
   "id": "eb5b6aeb",
   "metadata": {},
   "outputs": [
    {
     "data": {
      "text/plain": [
       "array([[1, 2, 3, 4],\n",
       "       [5, 6, 7, 8]])"
      ]
     },
     "execution_count": 46,
     "metadata": {},
     "output_type": "execute_result"
    }
   ],
   "source": [
    "np.vstack((q1,r1))"
   ]
  },
  {
   "cell_type": "markdown",
   "id": "63c1aeae",
   "metadata": {},
   "source": [
    "###### Append"
   ]
  },
  {
   "cell_type": "code",
   "execution_count": 47,
   "id": "61711109",
   "metadata": {},
   "outputs": [
    {
     "data": {
      "text/plain": [
       "array([ 1,  2,  3,  4,  5,  6,  7,  8,  9, 10, 11, 12, 13, 14, 15, 16, 17,\n",
       "       18, 19, 20])"
      ]
     },
     "execution_count": 47,
     "metadata": {},
     "output_type": "execute_result"
    }
   ],
   "source": [
    "np.append(q,r)"
   ]
  },
  {
   "cell_type": "code",
   "execution_count": 48,
   "id": "c695b475",
   "metadata": {},
   "outputs": [
    {
     "data": {
      "text/plain": [
       "array([1, 2, 3, 4, 5, 6, 7, 8])"
      ]
     },
     "execution_count": 48,
     "metadata": {},
     "output_type": "execute_result"
    }
   ],
   "source": [
    "np.append(q1,r1)"
   ]
  },
  {
   "cell_type": "markdown",
   "id": "729dd513",
   "metadata": {},
   "source": [
    "###### Insert"
   ]
  },
  {
   "cell_type": "code",
   "execution_count": 49,
   "id": "2768a572",
   "metadata": {},
   "outputs": [
    {
     "data": {
      "text/plain": [
       "array([ 1,  2, 30,  3,  4])"
      ]
     },
     "execution_count": 49,
     "metadata": {},
     "output_type": "execute_result"
    }
   ],
   "source": [
    "np.insert(q1,2,30)"
   ]
  },
  {
   "cell_type": "code",
   "execution_count": 50,
   "id": "735ecd16",
   "metadata": {},
   "outputs": [
    {
     "data": {
      "text/plain": [
       "array([100,   5,   6,   7,   8])"
      ]
     },
     "execution_count": 50,
     "metadata": {},
     "output_type": "execute_result"
    }
   ],
   "source": [
    "np.insert(r1,0,100)"
   ]
  },
  {
   "cell_type": "markdown",
   "id": "ac210811",
   "metadata": {},
   "source": [
    "###### Delete"
   ]
  },
  {
   "cell_type": "code",
   "execution_count": 51,
   "id": "94268e18",
   "metadata": {},
   "outputs": [
    {
     "data": {
      "text/plain": [
       "array([1, 3, 4])"
      ]
     },
     "execution_count": 51,
     "metadata": {},
     "output_type": "execute_result"
    }
   ],
   "source": [
    "np.delete(q1,1)"
   ]
  },
  {
   "cell_type": "code",
   "execution_count": 52,
   "id": "e05c7643",
   "metadata": {},
   "outputs": [
    {
     "data": {
      "text/plain": [
       "array([5, 6, 8])"
      ]
     },
     "execution_count": 52,
     "metadata": {},
     "output_type": "execute_result"
    }
   ],
   "source": [
    "np.delete(r1,2)"
   ]
  },
  {
   "cell_type": "markdown",
   "id": "ccf7f50d",
   "metadata": {},
   "source": [
    "### Numpy Array Methods"
   ]
  },
  {
   "cell_type": "markdown",
   "id": "7b167e90",
   "metadata": {},
   "source": [
    "###### Type"
   ]
  },
  {
   "cell_type": "code",
   "execution_count": 53,
   "id": "f4d151da",
   "metadata": {},
   "outputs": [],
   "source": [
    "s=np.array([1,2,3,4,5])"
   ]
  },
  {
   "cell_type": "code",
   "execution_count": 54,
   "id": "f45a129a",
   "metadata": {},
   "outputs": [
    {
     "data": {
      "text/plain": [
       "numpy.ndarray"
      ]
     },
     "execution_count": 54,
     "metadata": {},
     "output_type": "execute_result"
    }
   ],
   "source": [
    "type(s)"
   ]
  },
  {
   "cell_type": "markdown",
   "id": "a49226e2",
   "metadata": {},
   "source": [
    "###### Shape"
   ]
  },
  {
   "cell_type": "code",
   "execution_count": 55,
   "id": "d6c661f1",
   "metadata": {},
   "outputs": [],
   "source": [
    "t=np.arange(1,11)"
   ]
  },
  {
   "cell_type": "code",
   "execution_count": 56,
   "id": "d0e09e58",
   "metadata": {},
   "outputs": [
    {
     "data": {
      "text/plain": [
       "(10,)"
      ]
     },
     "execution_count": 56,
     "metadata": {},
     "output_type": "execute_result"
    }
   ],
   "source": [
    "np.shape(t)"
   ]
  },
  {
   "cell_type": "code",
   "execution_count": 57,
   "id": "907d5ba3",
   "metadata": {},
   "outputs": [],
   "source": [
    "u=np.arange(1,11).reshape(5,2)"
   ]
  },
  {
   "cell_type": "code",
   "execution_count": 58,
   "id": "58476e5a",
   "metadata": {},
   "outputs": [
    {
     "data": {
      "text/plain": [
       "(5, 2)"
      ]
     },
     "execution_count": 58,
     "metadata": {},
     "output_type": "execute_result"
    }
   ],
   "source": [
    "np.shape(u)"
   ]
  },
  {
   "cell_type": "markdown",
   "id": "a765bcfe",
   "metadata": {},
   "source": [
    "###### Size"
   ]
  },
  {
   "cell_type": "code",
   "execution_count": 59,
   "id": "36543ae7",
   "metadata": {},
   "outputs": [],
   "source": [
    "v=np.arange(1,26).reshape(5,5)"
   ]
  },
  {
   "cell_type": "code",
   "execution_count": 60,
   "id": "8694a438",
   "metadata": {},
   "outputs": [
    {
     "data": {
      "text/plain": [
       "25"
      ]
     },
     "execution_count": 60,
     "metadata": {},
     "output_type": "execute_result"
    }
   ],
   "source": [
    "np.size(v)"
   ]
  },
  {
   "cell_type": "code",
   "execution_count": 61,
   "id": "b3e6bfd4",
   "metadata": {},
   "outputs": [],
   "source": [
    "w=np.array([[1,2,3],[4,5,6],[7,8,9]])"
   ]
  },
  {
   "cell_type": "code",
   "execution_count": 62,
   "id": "0d48b883",
   "metadata": {},
   "outputs": [
    {
     "data": {
      "text/plain": [
       "9"
      ]
     },
     "execution_count": 62,
     "metadata": {},
     "output_type": "execute_result"
    }
   ],
   "source": [
    "np.size(w)"
   ]
  },
  {
   "cell_type": "markdown",
   "id": "281db59f",
   "metadata": {},
   "source": [
    "###### Reshape"
   ]
  },
  {
   "cell_type": "code",
   "execution_count": 63,
   "id": "479f6025",
   "metadata": {},
   "outputs": [
    {
     "name": "stdout",
     "output_type": "stream",
     "text": [
      "[ 1  2  3  4  5  6  7  8  9 10]\n"
     ]
    }
   ],
   "source": [
    "x=np.arange(1,11)\n",
    "print(x)"
   ]
  },
  {
   "cell_type": "code",
   "execution_count": 64,
   "id": "2d521a14",
   "metadata": {},
   "outputs": [
    {
     "data": {
      "text/plain": [
       "array([[ 1,  2,  3,  4,  5],\n",
       "       [ 6,  7,  8,  9, 10]])"
      ]
     },
     "execution_count": 64,
     "metadata": {},
     "output_type": "execute_result"
    }
   ],
   "source": [
    "x.reshape(2,5)"
   ]
  },
  {
   "cell_type": "code",
   "execution_count": 65,
   "id": "d0083245",
   "metadata": {},
   "outputs": [
    {
     "name": "stdout",
     "output_type": "stream",
     "text": [
      "[ 1.          1.09090909  1.18181818  1.27272727  1.36363636  1.45454545\n",
      "  1.54545455  1.63636364  1.72727273  1.81818182  1.90909091  2.\n",
      "  2.09090909  2.18181818  2.27272727  2.36363636  2.45454545  2.54545455\n",
      "  2.63636364  2.72727273  2.81818182  2.90909091  3.          3.09090909\n",
      "  3.18181818  3.27272727  3.36363636  3.45454545  3.54545455  3.63636364\n",
      "  3.72727273  3.81818182  3.90909091  4.          4.09090909  4.18181818\n",
      "  4.27272727  4.36363636  4.45454545  4.54545455  4.63636364  4.72727273\n",
      "  4.81818182  4.90909091  5.          5.09090909  5.18181818  5.27272727\n",
      "  5.36363636  5.45454545  5.54545455  5.63636364  5.72727273  5.81818182\n",
      "  5.90909091  6.          6.09090909  6.18181818  6.27272727  6.36363636\n",
      "  6.45454545  6.54545455  6.63636364  6.72727273  6.81818182  6.90909091\n",
      "  7.          7.09090909  7.18181818  7.27272727  7.36363636  7.45454545\n",
      "  7.54545455  7.63636364  7.72727273  7.81818182  7.90909091  8.\n",
      "  8.09090909  8.18181818  8.27272727  8.36363636  8.45454545  8.54545455\n",
      "  8.63636364  8.72727273  8.81818182  8.90909091  9.          9.09090909\n",
      "  9.18181818  9.27272727  9.36363636  9.45454545  9.54545455  9.63636364\n",
      "  9.72727273  9.81818182  9.90909091 10.        ]\n"
     ]
    }
   ],
   "source": [
    "y=np.linspace(1,10,100)\n",
    "print(y)"
   ]
  },
  {
   "cell_type": "code",
   "execution_count": 66,
   "id": "d2a70c43",
   "metadata": {},
   "outputs": [
    {
     "data": {
      "text/plain": [
       "array([[ 1.        ,  1.09090909,  1.18181818,  1.27272727,  1.36363636],\n",
       "       [ 1.45454545,  1.54545455,  1.63636364,  1.72727273,  1.81818182],\n",
       "       [ 1.90909091,  2.        ,  2.09090909,  2.18181818,  2.27272727],\n",
       "       [ 2.36363636,  2.45454545,  2.54545455,  2.63636364,  2.72727273],\n",
       "       [ 2.81818182,  2.90909091,  3.        ,  3.09090909,  3.18181818],\n",
       "       [ 3.27272727,  3.36363636,  3.45454545,  3.54545455,  3.63636364],\n",
       "       [ 3.72727273,  3.81818182,  3.90909091,  4.        ,  4.09090909],\n",
       "       [ 4.18181818,  4.27272727,  4.36363636,  4.45454545,  4.54545455],\n",
       "       [ 4.63636364,  4.72727273,  4.81818182,  4.90909091,  5.        ],\n",
       "       [ 5.09090909,  5.18181818,  5.27272727,  5.36363636,  5.45454545],\n",
       "       [ 5.54545455,  5.63636364,  5.72727273,  5.81818182,  5.90909091],\n",
       "       [ 6.        ,  6.09090909,  6.18181818,  6.27272727,  6.36363636],\n",
       "       [ 6.45454545,  6.54545455,  6.63636364,  6.72727273,  6.81818182],\n",
       "       [ 6.90909091,  7.        ,  7.09090909,  7.18181818,  7.27272727],\n",
       "       [ 7.36363636,  7.45454545,  7.54545455,  7.63636364,  7.72727273],\n",
       "       [ 7.81818182,  7.90909091,  8.        ,  8.09090909,  8.18181818],\n",
       "       [ 8.27272727,  8.36363636,  8.45454545,  8.54545455,  8.63636364],\n",
       "       [ 8.72727273,  8.81818182,  8.90909091,  9.        ,  9.09090909],\n",
       "       [ 9.18181818,  9.27272727,  9.36363636,  9.45454545,  9.54545455],\n",
       "       [ 9.63636364,  9.72727273,  9.81818182,  9.90909091, 10.        ]])"
      ]
     },
     "execution_count": 66,
     "metadata": {},
     "output_type": "execute_result"
    }
   ],
   "source": [
    "y.reshape(20,5)"
   ]
  },
  {
   "cell_type": "markdown",
   "id": "1893a7ec",
   "metadata": {},
   "source": [
    "###### Transpose"
   ]
  },
  {
   "cell_type": "code",
   "execution_count": 67,
   "id": "a5076d29",
   "metadata": {},
   "outputs": [
    {
     "name": "stdout",
     "output_type": "stream",
     "text": [
      "[[ 1  2  3  4  5]\n",
      " [ 6  7  8  9 10]\n",
      " [11 12 13 14 15]\n",
      " [16 17 18 19 20]]\n"
     ]
    }
   ],
   "source": [
    "z=np.arange(1,21).reshape(4,5)\n",
    "print(z)"
   ]
  },
  {
   "cell_type": "code",
   "execution_count": 68,
   "id": "8b71da8e",
   "metadata": {},
   "outputs": [
    {
     "data": {
      "text/plain": [
       "array([[ 1,  6, 11, 16],\n",
       "       [ 2,  7, 12, 17],\n",
       "       [ 3,  8, 13, 18],\n",
       "       [ 4,  9, 14, 19],\n",
       "       [ 5, 10, 15, 20]])"
      ]
     },
     "execution_count": 68,
     "metadata": {},
     "output_type": "execute_result"
    }
   ],
   "source": [
    "z.transpose()"
   ]
  },
  {
   "cell_type": "code",
   "execution_count": 69,
   "id": "6b2e1031",
   "metadata": {},
   "outputs": [
    {
     "name": "stdout",
     "output_type": "stream",
     "text": [
      "[[ 1  2]\n",
      " [ 3  4]\n",
      " [ 5  6]\n",
      " [ 7  8]\n",
      " [ 9 10]]\n"
     ]
    }
   ],
   "source": [
    "aa=np.arange(1,11).reshape(5,2)\n",
    "print(aa)"
   ]
  },
  {
   "cell_type": "code",
   "execution_count": 70,
   "id": "cf6792a0",
   "metadata": {},
   "outputs": [
    {
     "data": {
      "text/plain": [
       "array([[ 1,  3,  5,  7,  9],\n",
       "       [ 2,  4,  6,  8, 10]])"
      ]
     },
     "execution_count": 70,
     "metadata": {},
     "output_type": "execute_result"
    }
   ],
   "source": [
    "aa.transpose()"
   ]
  },
  {
   "cell_type": "markdown",
   "id": "75283f45",
   "metadata": {},
   "source": [
    "###### Ndim"
   ]
  },
  {
   "cell_type": "code",
   "execution_count": 71,
   "id": "83c75e39",
   "metadata": {},
   "outputs": [],
   "source": [
    "ab=np.array([1,2,3,4,5])"
   ]
  },
  {
   "cell_type": "code",
   "execution_count": 72,
   "id": "9fc4d2ab",
   "metadata": {},
   "outputs": [
    {
     "data": {
      "text/plain": [
       "1"
      ]
     },
     "execution_count": 72,
     "metadata": {},
     "output_type": "execute_result"
    }
   ],
   "source": [
    "np.ndim(ab)"
   ]
  },
  {
   "cell_type": "code",
   "execution_count": 73,
   "id": "31ada74e",
   "metadata": {},
   "outputs": [],
   "source": [
    "ac=np.array([[1,2,3,4,5],[6,7,8,9,10],[11,12,13,14,15]])"
   ]
  },
  {
   "cell_type": "code",
   "execution_count": 74,
   "id": "b3e8b4ef",
   "metadata": {},
   "outputs": [
    {
     "data": {
      "text/plain": [
       "2"
      ]
     },
     "execution_count": 74,
     "metadata": {},
     "output_type": "execute_result"
    }
   ],
   "source": [
    "np.ndim(ac)"
   ]
  },
  {
   "cell_type": "markdown",
   "id": "c89fb02f",
   "metadata": {},
   "source": [
    "### Numpy Array Subset Selection"
   ]
  },
  {
   "cell_type": "markdown",
   "id": "ded926b1",
   "metadata": {},
   "source": [
    "In case of Numpy array subset selection we deal with a concept called Masking in Numpy."
   ]
  },
  {
   "cell_type": "markdown",
   "id": "434001b5",
   "metadata": {},
   "source": [
    "Numpy offers an in-built Masked Array module called \"ma\". The masked array function of this module allows us to directly create a masked array in which the elements not satisfying the condition are rendered as False and are hidden from the output and the elements that meet the condition are rendered as True and are presented in the output."
   ]
  },
  {
   "cell_type": "markdown",
   "id": "a09b3689",
   "metadata": {},
   "source": [
    "The Subset Selection syntax is as follows:"
   ]
  },
  {
   "cell_type": "markdown",
   "id": "48865c72",
   "metadata": {},
   "source": [
    "array_name[row_start:row_stop,col_start:col_stop]"
   ]
  },
  {
   "cell_type": "code",
   "execution_count": 75,
   "id": "69165b2b",
   "metadata": {},
   "outputs": [
    {
     "name": "stdout",
     "output_type": "stream",
     "text": [
      "[[  1   2   3   4   5   6   7   8   9  10]\n",
      " [ 11  12  13  14  15  16  17  18  19  20]\n",
      " [ 21  22  23  24  25  26  27  28  29  30]\n",
      " [ 31  32  33  34  35  36  37  38  39  40]\n",
      " [ 41  42  43  44  45  46  47  48  49  50]\n",
      " [ 51  52  53  54  55  56  57  58  59  60]\n",
      " [ 61  62  63  64  65  66  67  68  69  70]\n",
      " [ 71  72  73  74  75  76  77  78  79  80]\n",
      " [ 81  82  83  84  85  86  87  88  89  90]\n",
      " [ 91  92  93  94  95  96  97  98  99 100]]\n"
     ]
    }
   ],
   "source": [
    "ad=np.arange(1,101).reshape(10,10)\n",
    "print(ad)"
   ]
  },
  {
   "cell_type": "code",
   "execution_count": 76,
   "id": "b815e885",
   "metadata": {},
   "outputs": [
    {
     "data": {
      "text/plain": [
       "array([[14, 15, 16],\n",
       "       [24, 25, 26],\n",
       "       [34, 35, 36],\n",
       "       [44, 45, 46]])"
      ]
     },
     "execution_count": 76,
     "metadata": {},
     "output_type": "execute_result"
    }
   ],
   "source": [
    "ad[1:5,3:6]"
   ]
  },
  {
   "cell_type": "code",
   "execution_count": 77,
   "id": "b26ac841",
   "metadata": {},
   "outputs": [
    {
     "data": {
      "text/plain": [
       "array([[ 91,  92,  93,  94,  95,  96,  97,  98,  99, 100]])"
      ]
     },
     "execution_count": 77,
     "metadata": {},
     "output_type": "execute_result"
    }
   ],
   "source": [
    "ad[-1:, : ]"
   ]
  },
  {
   "cell_type": "code",
   "execution_count": 78,
   "id": "4e0efa77",
   "metadata": {},
   "outputs": [
    {
     "data": {
      "text/plain": [
       "array([[ 9, 10],\n",
       "       [19, 20],\n",
       "       [29, 30]])"
      ]
     },
     "execution_count": 78,
     "metadata": {},
     "output_type": "execute_result"
    }
   ],
   "source": [
    "ad[ :3,-2:]"
   ]
  },
  {
   "cell_type": "code",
   "execution_count": 79,
   "id": "4b56864a",
   "metadata": {},
   "outputs": [
    {
     "data": {
      "text/plain": [
       "array([[ 58,  59,  60],\n",
       "       [ 68,  69,  70],\n",
       "       [ 78,  79,  80],\n",
       "       [ 88,  89,  90],\n",
       "       [ 98,  99, 100]])"
      ]
     },
     "execution_count": 79,
     "metadata": {},
     "output_type": "execute_result"
    }
   ],
   "source": [
    "ad[-5: ,-3: ]"
   ]
  },
  {
   "cell_type": "markdown",
   "id": "d70425c6",
   "metadata": {},
   "source": [
    "### Numpy Matrix Level Arithematic Operations"
   ]
  },
  {
   "cell_type": "code",
   "execution_count": 80,
   "id": "e163e5dc",
   "metadata": {},
   "outputs": [
    {
     "name": "stdout",
     "output_type": "stream",
     "text": [
      "[1 2 3]\n"
     ]
    }
   ],
   "source": [
    "a1=np.array([1,2,3])\n",
    "print(a1)"
   ]
  },
  {
   "cell_type": "code",
   "execution_count": 81,
   "id": "333ff310",
   "metadata": {},
   "outputs": [
    {
     "name": "stdout",
     "output_type": "stream",
     "text": [
      "[4 5 6]\n"
     ]
    }
   ],
   "source": [
    "a2=np.array([4,5,6])\n",
    "print(a2)"
   ]
  },
  {
   "cell_type": "code",
   "execution_count": 82,
   "id": "a85bd538",
   "metadata": {},
   "outputs": [
    {
     "name": "stdout",
     "output_type": "stream",
     "text": [
      "[[ 1  2  3  4  5]\n",
      " [ 6  7  8  9 10]]\n"
     ]
    }
   ],
   "source": [
    "a3=np.arange(1,11).reshape(2,5)\n",
    "print(a3)"
   ]
  },
  {
   "cell_type": "code",
   "execution_count": 83,
   "id": "a3660f7f",
   "metadata": {},
   "outputs": [
    {
     "name": "stdout",
     "output_type": "stream",
     "text": [
      "[[11 12 13 14 15]\n",
      " [16 17 18 19 20]]\n"
     ]
    }
   ],
   "source": [
    "a4=np.arange(11,21).reshape(2,5)\n",
    "print(a4)"
   ]
  },
  {
   "cell_type": "code",
   "execution_count": 84,
   "id": "d710e91e",
   "metadata": {},
   "outputs": [
    {
     "name": "stdout",
     "output_type": "stream",
     "text": [
      "[[ 1  2  3  4  5]\n",
      " [ 6  7  8  9 10]\n",
      " [11 12 13 14 15]\n",
      " [16 17 18 19 20]\n",
      " [21 22 23 24 25]]\n"
     ]
    }
   ],
   "source": [
    "a5=np.arange(1,26).reshape(5,5)\n",
    "print(a5)"
   ]
  },
  {
   "cell_type": "code",
   "execution_count": 85,
   "id": "0c08f369",
   "metadata": {},
   "outputs": [
    {
     "name": "stdout",
     "output_type": "stream",
     "text": [
      "[[26 27 28 29 30]\n",
      " [31 32 33 34 35]\n",
      " [36 37 38 39 40]\n",
      " [41 42 43 44 45]\n",
      " [46 47 48 49 50]]\n"
     ]
    }
   ],
   "source": [
    "a6=np.arange(26,51).reshape(5,5)\n",
    "print(a6)"
   ]
  },
  {
   "cell_type": "markdown",
   "id": "3a2e89e0",
   "metadata": {},
   "source": [
    "###### Add"
   ]
  },
  {
   "cell_type": "code",
   "execution_count": 86,
   "id": "2524996e",
   "metadata": {},
   "outputs": [
    {
     "data": {
      "text/plain": [
       "array([5, 7, 9])"
      ]
     },
     "execution_count": 86,
     "metadata": {},
     "output_type": "execute_result"
    }
   ],
   "source": [
    "np.add(a1,a2)"
   ]
  },
  {
   "cell_type": "code",
   "execution_count": 87,
   "id": "b18b6bfd",
   "metadata": {},
   "outputs": [
    {
     "data": {
      "text/plain": [
       "array([[12, 14, 16, 18, 20],\n",
       "       [22, 24, 26, 28, 30]])"
      ]
     },
     "execution_count": 87,
     "metadata": {},
     "output_type": "execute_result"
    }
   ],
   "source": [
    "np.add(a3,a4)"
   ]
  },
  {
   "cell_type": "code",
   "execution_count": 88,
   "id": "d3cd6c8d",
   "metadata": {},
   "outputs": [
    {
     "data": {
      "text/plain": [
       "array([[27, 29, 31, 33, 35],\n",
       "       [37, 39, 41, 43, 45],\n",
       "       [47, 49, 51, 53, 55],\n",
       "       [57, 59, 61, 63, 65],\n",
       "       [67, 69, 71, 73, 75]])"
      ]
     },
     "execution_count": 88,
     "metadata": {},
     "output_type": "execute_result"
    }
   ],
   "source": [
    "np.add(a5,a6)"
   ]
  },
  {
   "cell_type": "markdown",
   "id": "f64e328e",
   "metadata": {},
   "source": [
    "###### Subtract"
   ]
  },
  {
   "cell_type": "code",
   "execution_count": 89,
   "id": "214e3bfa",
   "metadata": {},
   "outputs": [
    {
     "data": {
      "text/plain": [
       "array([3, 3, 3])"
      ]
     },
     "execution_count": 89,
     "metadata": {},
     "output_type": "execute_result"
    }
   ],
   "source": [
    "np.subtract(a2,a1)"
   ]
  },
  {
   "cell_type": "code",
   "execution_count": 90,
   "id": "e99d8659",
   "metadata": {},
   "outputs": [
    {
     "data": {
      "text/plain": [
       "array([[10, 10, 10, 10, 10],\n",
       "       [10, 10, 10, 10, 10]])"
      ]
     },
     "execution_count": 90,
     "metadata": {},
     "output_type": "execute_result"
    }
   ],
   "source": [
    "np.subtract(a4,a3)"
   ]
  },
  {
   "cell_type": "code",
   "execution_count": 91,
   "id": "08521dbb",
   "metadata": {},
   "outputs": [
    {
     "data": {
      "text/plain": [
       "array([[25, 25, 25, 25, 25],\n",
       "       [25, 25, 25, 25, 25],\n",
       "       [25, 25, 25, 25, 25],\n",
       "       [25, 25, 25, 25, 25],\n",
       "       [25, 25, 25, 25, 25]])"
      ]
     },
     "execution_count": 91,
     "metadata": {},
     "output_type": "execute_result"
    }
   ],
   "source": [
    "np.subtract(a6,a5)"
   ]
  },
  {
   "cell_type": "markdown",
   "id": "3c22ce4c",
   "metadata": {},
   "source": [
    "###### Multiply"
   ]
  },
  {
   "cell_type": "code",
   "execution_count": 92,
   "id": "54205414",
   "metadata": {},
   "outputs": [
    {
     "data": {
      "text/plain": [
       "array([ 4, 10, 18])"
      ]
     },
     "execution_count": 92,
     "metadata": {},
     "output_type": "execute_result"
    }
   ],
   "source": [
    "np.multiply(a1,a2)"
   ]
  },
  {
   "cell_type": "code",
   "execution_count": 93,
   "id": "bb0cbf64",
   "metadata": {},
   "outputs": [
    {
     "data": {
      "text/plain": [
       "array([[ 11,  24,  39,  56,  75],\n",
       "       [ 96, 119, 144, 171, 200]])"
      ]
     },
     "execution_count": 93,
     "metadata": {},
     "output_type": "execute_result"
    }
   ],
   "source": [
    "np.multiply(a3,a4)"
   ]
  },
  {
   "cell_type": "code",
   "execution_count": 94,
   "id": "c718a28e",
   "metadata": {},
   "outputs": [
    {
     "data": {
      "text/plain": [
       "array([[  26,   54,   84,  116,  150],\n",
       "       [ 186,  224,  264,  306,  350],\n",
       "       [ 396,  444,  494,  546,  600],\n",
       "       [ 656,  714,  774,  836,  900],\n",
       "       [ 966, 1034, 1104, 1176, 1250]])"
      ]
     },
     "execution_count": 94,
     "metadata": {},
     "output_type": "execute_result"
    }
   ],
   "source": [
    "np.multiply(a5,a6)"
   ]
  },
  {
   "cell_type": "markdown",
   "id": "b9911efa",
   "metadata": {},
   "source": [
    "###### Divide"
   ]
  },
  {
   "cell_type": "code",
   "execution_count": 95,
   "id": "b58e29ee",
   "metadata": {},
   "outputs": [
    {
     "data": {
      "text/plain": [
       "array([0.25, 0.4 , 0.5 ])"
      ]
     },
     "execution_count": 95,
     "metadata": {},
     "output_type": "execute_result"
    }
   ],
   "source": [
    "np.divide(a1,a2)"
   ]
  },
  {
   "cell_type": "code",
   "execution_count": 96,
   "id": "b3000378",
   "metadata": {},
   "outputs": [
    {
     "data": {
      "text/plain": [
       "array([[0.09090909, 0.16666667, 0.23076923, 0.28571429, 0.33333333],\n",
       "       [0.375     , 0.41176471, 0.44444444, 0.47368421, 0.5       ]])"
      ]
     },
     "execution_count": 96,
     "metadata": {},
     "output_type": "execute_result"
    }
   ],
   "source": [
    "np.divide(a3,a4)"
   ]
  },
  {
   "cell_type": "code",
   "execution_count": 97,
   "id": "8a283acb",
   "metadata": {},
   "outputs": [
    {
     "data": {
      "text/plain": [
       "array([[0.03846154, 0.07407407, 0.10714286, 0.13793103, 0.16666667],\n",
       "       [0.19354839, 0.21875   , 0.24242424, 0.26470588, 0.28571429],\n",
       "       [0.30555556, 0.32432432, 0.34210526, 0.35897436, 0.375     ],\n",
       "       [0.3902439 , 0.4047619 , 0.41860465, 0.43181818, 0.44444444],\n",
       "       [0.45652174, 0.46808511, 0.47916667, 0.48979592, 0.5       ]])"
      ]
     },
     "execution_count": 97,
     "metadata": {},
     "output_type": "execute_result"
    }
   ],
   "source": [
    "np.divide(a5,a6)"
   ]
  },
  {
   "cell_type": "markdown",
   "id": "71f53832",
   "metadata": {},
   "source": [
    "###### Remainder"
   ]
  },
  {
   "cell_type": "code",
   "execution_count": 98,
   "id": "7da23f5e",
   "metadata": {},
   "outputs": [
    {
     "data": {
      "text/plain": [
       "array([0, 1, 0], dtype=int32)"
      ]
     },
     "execution_count": 98,
     "metadata": {},
     "output_type": "execute_result"
    }
   ],
   "source": [
    "np.remainder(a2,a1) #Element of a2 divided by element of a1 and the remainder so found"
   ]
  },
  {
   "cell_type": "code",
   "execution_count": 99,
   "id": "0036c720",
   "metadata": {},
   "outputs": [
    {
     "data": {
      "text/plain": [
       "array([[0, 0, 1, 2, 0],\n",
       "       [4, 3, 2, 1, 0]], dtype=int32)"
      ]
     },
     "execution_count": 99,
     "metadata": {},
     "output_type": "execute_result"
    }
   ],
   "source": [
    "np.remainder(a4,a3)"
   ]
  },
  {
   "cell_type": "code",
   "execution_count": 100,
   "id": "b800d65a",
   "metadata": {},
   "outputs": [
    {
     "data": {
      "text/plain": [
       "array([[ 0,  1,  1,  1,  0],\n",
       "       [ 1,  4,  1,  7,  5],\n",
       "       [ 3,  1, 12, 11, 10],\n",
       "       [ 9,  8,  7,  6,  5],\n",
       "       [ 4,  3,  2,  1,  0]], dtype=int32)"
      ]
     },
     "execution_count": 100,
     "metadata": {},
     "output_type": "execute_result"
    }
   ],
   "source": [
    "np.remainder(a6,a5)"
   ]
  },
  {
   "cell_type": "markdown",
   "id": "99aa6eb4",
   "metadata": {},
   "source": [
    "###### Matmul"
   ]
  },
  {
   "cell_type": "code",
   "execution_count": 101,
   "id": "ba23366e",
   "metadata": {},
   "outputs": [
    {
     "data": {
      "text/plain": [
       "32"
      ]
     },
     "execution_count": 101,
     "metadata": {},
     "output_type": "execute_result"
    }
   ],
   "source": [
    "np.matmul(a1,a2)"
   ]
  },
  {
   "cell_type": "code",
   "execution_count": 102,
   "id": "ced23b4a",
   "metadata": {},
   "outputs": [
    {
     "data": {
      "text/plain": [
       "array([[ 590,  605,  620,  635,  650],\n",
       "       [1490, 1530, 1570, 1610, 1650],\n",
       "       [2390, 2455, 2520, 2585, 2650],\n",
       "       [3290, 3380, 3470, 3560, 3650],\n",
       "       [4190, 4305, 4420, 4535, 4650]])"
      ]
     },
     "execution_count": 102,
     "metadata": {},
     "output_type": "execute_result"
    }
   ],
   "source": [
    "np.matmul(a5,a6)"
   ]
  },
  {
   "cell_type": "markdown",
   "id": "b0794c58",
   "metadata": {},
   "source": [
    "###### Kron"
   ]
  },
  {
   "cell_type": "code",
   "execution_count": 103,
   "id": "b00c4bb2",
   "metadata": {},
   "outputs": [
    {
     "data": {
      "text/plain": [
       "array([[ 1,  2,  3,  4,  5,  2,  4,  6,  8, 10,  3,  6,  9, 12, 15],\n",
       "       [ 6,  7,  8,  9, 10, 12, 14, 16, 18, 20, 18, 21, 24, 27, 30]])"
      ]
     },
     "execution_count": 103,
     "metadata": {},
     "output_type": "execute_result"
    }
   ],
   "source": [
    "np.kron(a1,a3)"
   ]
  },
  {
   "cell_type": "code",
   "execution_count": 104,
   "id": "49e28007",
   "metadata": {},
   "outputs": [
    {
     "data": {
      "text/plain": [
       "array([[ 26,  27,  28,  29,  30,  52,  54,  56,  58,  60,  78,  81,  84,\n",
       "         87,  90, 104, 108, 112, 116, 120, 130, 135, 140, 145, 150],\n",
       "       [ 31,  32,  33,  34,  35,  62,  64,  66,  68,  70,  93,  96,  99,\n",
       "        102, 105, 124, 128, 132, 136, 140, 155, 160, 165, 170, 175],\n",
       "       [ 36,  37,  38,  39,  40,  72,  74,  76,  78,  80, 108, 111, 114,\n",
       "        117, 120, 144, 148, 152, 156, 160, 180, 185, 190, 195, 200],\n",
       "       [ 41,  42,  43,  44,  45,  82,  84,  86,  88,  90, 123, 126, 129,\n",
       "        132, 135, 164, 168, 172, 176, 180, 205, 210, 215, 220, 225],\n",
       "       [ 46,  47,  48,  49,  50,  92,  94,  96,  98, 100, 138, 141, 144,\n",
       "        147, 150, 184, 188, 192, 196, 200, 230, 235, 240, 245, 250],\n",
       "       [156, 162, 168, 174, 180, 182, 189, 196, 203, 210, 208, 216, 224,\n",
       "        232, 240, 234, 243, 252, 261, 270, 260, 270, 280, 290, 300],\n",
       "       [186, 192, 198, 204, 210, 217, 224, 231, 238, 245, 248, 256, 264,\n",
       "        272, 280, 279, 288, 297, 306, 315, 310, 320, 330, 340, 350],\n",
       "       [216, 222, 228, 234, 240, 252, 259, 266, 273, 280, 288, 296, 304,\n",
       "        312, 320, 324, 333, 342, 351, 360, 360, 370, 380, 390, 400],\n",
       "       [246, 252, 258, 264, 270, 287, 294, 301, 308, 315, 328, 336, 344,\n",
       "        352, 360, 369, 378, 387, 396, 405, 410, 420, 430, 440, 450],\n",
       "       [276, 282, 288, 294, 300, 322, 329, 336, 343, 350, 368, 376, 384,\n",
       "        392, 400, 414, 423, 432, 441, 450, 460, 470, 480, 490, 500]])"
      ]
     },
     "execution_count": 104,
     "metadata": {},
     "output_type": "execute_result"
    }
   ],
   "source": [
    "np.kron(a3,a6)"
   ]
  },
  {
   "cell_type": "code",
   "execution_count": 105,
   "id": "6d9f2305",
   "metadata": {},
   "outputs": [
    {
     "data": {
      "text/plain": [
       "array([[  4,   5,   6,   8,  10,  12,  12,  15,  18,  16,  20,  24,  20,\n",
       "         25,  30],\n",
       "       [ 24,  30,  36,  28,  35,  42,  32,  40,  48,  36,  45,  54,  40,\n",
       "         50,  60],\n",
       "       [ 44,  55,  66,  48,  60,  72,  52,  65,  78,  56,  70,  84,  60,\n",
       "         75,  90],\n",
       "       [ 64,  80,  96,  68,  85, 102,  72,  90, 108,  76,  95, 114,  80,\n",
       "        100, 120],\n",
       "       [ 84, 105, 126,  88, 110, 132,  92, 115, 138,  96, 120, 144, 100,\n",
       "        125, 150]])"
      ]
     },
     "execution_count": 105,
     "metadata": {},
     "output_type": "execute_result"
    }
   ],
   "source": [
    "np.kron(a5,a2)"
   ]
  },
  {
   "cell_type": "code",
   "execution_count": 106,
   "id": "51592443",
   "metadata": {},
   "outputs": [
    {
     "data": {
      "text/plain": [
       "array([[ 4,  8, 12, 16, 20,  5, 10, 15, 20, 25,  6, 12, 18, 24, 30],\n",
       "       [24, 28, 32, 36, 40, 30, 35, 40, 45, 50, 36, 42, 48, 54, 60]])"
      ]
     },
     "execution_count": 106,
     "metadata": {},
     "output_type": "execute_result"
    }
   ],
   "source": [
    "np.kron(a2,a3)"
   ]
  },
  {
   "cell_type": "markdown",
   "id": "632f1ffd",
   "metadata": {},
   "source": [
    "###### Log"
   ]
  },
  {
   "cell_type": "code",
   "execution_count": 107,
   "id": "d9e49a9e",
   "metadata": {},
   "outputs": [
    {
     "data": {
      "text/plain": [
       "array([0.        , 0.69314718, 1.09861229])"
      ]
     },
     "execution_count": 107,
     "metadata": {},
     "output_type": "execute_result"
    }
   ],
   "source": [
    "np.log(a1)"
   ]
  },
  {
   "cell_type": "code",
   "execution_count": 108,
   "id": "d7d442fd",
   "metadata": {},
   "outputs": [
    {
     "data": {
      "text/plain": [
       "array([[0.        , 0.69314718, 1.09861229, 1.38629436, 1.60943791],\n",
       "       [1.79175947, 1.94591015, 2.07944154, 2.19722458, 2.30258509],\n",
       "       [2.39789527, 2.48490665, 2.56494936, 2.63905733, 2.7080502 ],\n",
       "       [2.77258872, 2.83321334, 2.89037176, 2.94443898, 2.99573227],\n",
       "       [3.04452244, 3.09104245, 3.13549422, 3.17805383, 3.21887582]])"
      ]
     },
     "execution_count": 108,
     "metadata": {},
     "output_type": "execute_result"
    }
   ],
   "source": [
    "np.log(a5)"
   ]
  },
  {
   "cell_type": "markdown",
   "id": "9941cdab",
   "metadata": {},
   "source": [
    "### Numpy Random number selection- Rand and Randn"
   ]
  },
  {
   "cell_type": "markdown",
   "id": "6d7ade90",
   "metadata": {},
   "source": [
    "Random.rand selects random numbers between 0-9 where as random.randn will choose random numbers between -9 and +9"
   ]
  },
  {
   "cell_type": "code",
   "execution_count": 109,
   "id": "c3c02e7f",
   "metadata": {},
   "outputs": [
    {
     "name": "stdout",
     "output_type": "stream",
     "text": [
      "[0.61510917 0.17894042 0.14046639 0.32105549 0.55299423]\n"
     ]
    }
   ],
   "source": [
    "a7=np.random.rand(5)\n",
    "print(a7)"
   ]
  },
  {
   "cell_type": "code",
   "execution_count": 110,
   "id": "5f80b7fe",
   "metadata": {},
   "outputs": [
    {
     "name": "stdout",
     "output_type": "stream",
     "text": [
      "[-0.79375248  0.22120465 -0.60302289  0.17446123  1.24581609]\n"
     ]
    }
   ],
   "source": [
    "a8=np.random.randn(5)\n",
    "print(a8)"
   ]
  },
  {
   "cell_type": "markdown",
   "id": "f745b5c2",
   "metadata": {},
   "source": [
    "### Numpy Matrix Level Statistical Operations"
   ]
  },
  {
   "cell_type": "markdown",
   "id": "7a000e58",
   "metadata": {},
   "source": [
    "###### Square Root- Sqrt"
   ]
  },
  {
   "cell_type": "code",
   "execution_count": 111,
   "id": "c6770b09",
   "metadata": {},
   "outputs": [
    {
     "name": "stdout",
     "output_type": "stream",
     "text": [
      "[ 4  5  6  7  8  9 10 11 12 13 14 15 16 17 18 19 20 21 22 23 24 25 26 27\n",
      " 28 29 30 31 32 33 34 35 36 37 38 39 40]\n"
     ]
    }
   ],
   "source": [
    "a9=np.arange(4,41)\n",
    "print(a9)"
   ]
  },
  {
   "cell_type": "code",
   "execution_count": 112,
   "id": "cc27f44f",
   "metadata": {},
   "outputs": [
    {
     "data": {
      "text/plain": [
       "array([2.        , 2.23606798, 2.44948974, 2.64575131, 2.82842712,\n",
       "       3.        , 3.16227766, 3.31662479, 3.46410162, 3.60555128,\n",
       "       3.74165739, 3.87298335, 4.        , 4.12310563, 4.24264069,\n",
       "       4.35889894, 4.47213595, 4.58257569, 4.69041576, 4.79583152,\n",
       "       4.89897949, 5.        , 5.09901951, 5.19615242, 5.29150262,\n",
       "       5.38516481, 5.47722558, 5.56776436, 5.65685425, 5.74456265,\n",
       "       5.83095189, 5.91607978, 6.        , 6.08276253, 6.164414  ,\n",
       "       6.244998  , 6.32455532])"
      ]
     },
     "execution_count": 112,
     "metadata": {},
     "output_type": "execute_result"
    }
   ],
   "source": [
    "np.sqrt(a9)"
   ]
  },
  {
   "cell_type": "markdown",
   "id": "eb5b3d76",
   "metadata": {},
   "source": [
    "###### Ceil"
   ]
  },
  {
   "cell_type": "code",
   "execution_count": 113,
   "id": "bf20abee",
   "metadata": {},
   "outputs": [
    {
     "name": "stdout",
     "output_type": "stream",
     "text": [
      "[0.87150279 0.43229345 0.10126567 0.62685158 0.13747437 0.48354873\n",
      " 0.04442234 0.12313915 0.26326473 0.89948261]\n"
     ]
    }
   ],
   "source": [
    "a10=np.random.rand(10)\n",
    "print(a10)"
   ]
  },
  {
   "cell_type": "code",
   "execution_count": 114,
   "id": "655ed10a",
   "metadata": {},
   "outputs": [
    {
     "data": {
      "text/plain": [
       "array([1., 1., 1., 1., 1., 1., 1., 1., 1., 1.])"
      ]
     },
     "execution_count": 114,
     "metadata": {},
     "output_type": "execute_result"
    }
   ],
   "source": [
    "np.ceil(a10)"
   ]
  },
  {
   "cell_type": "markdown",
   "id": "25503223",
   "metadata": {},
   "source": [
    "###### Floor"
   ]
  },
  {
   "cell_type": "code",
   "execution_count": 115,
   "id": "c9ce8ee6",
   "metadata": {},
   "outputs": [
    {
     "name": "stdout",
     "output_type": "stream",
     "text": [
      "[ 0.10799416 -0.96448324  2.64513962  2.79409439 -0.61602745]\n"
     ]
    }
   ],
   "source": [
    "a11=np.random.randn(5)\n",
    "print(a11)"
   ]
  },
  {
   "cell_type": "code",
   "execution_count": 116,
   "id": "a8198ff1",
   "metadata": {},
   "outputs": [
    {
     "data": {
      "text/plain": [
       "array([ 0., -1.,  2.,  2., -1.])"
      ]
     },
     "execution_count": 116,
     "metadata": {},
     "output_type": "execute_result"
    }
   ],
   "source": [
    "np.floor(a11)"
   ]
  },
  {
   "cell_type": "markdown",
   "id": "e8a5685c",
   "metadata": {},
   "source": [
    "###### IsNaN"
   ]
  },
  {
   "cell_type": "code",
   "execution_count": 117,
   "id": "266a09e3",
   "metadata": {},
   "outputs": [
    {
     "name": "stdout",
     "output_type": "stream",
     "text": [
      "[ 1.  2.  3. nan  5.  6.  7.  8.]\n"
     ]
    }
   ],
   "source": [
    "a12=np.array([1,2,3,np.nan,5,6,7,8])\n",
    "print(a12)"
   ]
  },
  {
   "cell_type": "code",
   "execution_count": 118,
   "id": "57fa0294",
   "metadata": {},
   "outputs": [
    {
     "data": {
      "text/plain": [
       "array([False, False, False,  True, False, False, False, False])"
      ]
     },
     "execution_count": 118,
     "metadata": {},
     "output_type": "execute_result"
    }
   ],
   "source": [
    "np.isnan(a12)"
   ]
  },
  {
   "cell_type": "markdown",
   "id": "79694939",
   "metadata": {},
   "source": [
    "###### Mean"
   ]
  },
  {
   "cell_type": "code",
   "execution_count": 119,
   "id": "1661076b",
   "metadata": {},
   "outputs": [
    {
     "name": "stdout",
     "output_type": "stream",
     "text": [
      "[ 1  2  3  4  5  6  7  8  9 10]\n"
     ]
    }
   ],
   "source": [
    "a13=np.array([1,2,3,4,5,6,7,8,9,10])\n",
    "print(a13)"
   ]
  },
  {
   "cell_type": "code",
   "execution_count": 120,
   "id": "dd820860",
   "metadata": {},
   "outputs": [
    {
     "data": {
      "text/plain": [
       "5.5"
      ]
     },
     "execution_count": 120,
     "metadata": {},
     "output_type": "execute_result"
    }
   ],
   "source": [
    "np.mean(a13)"
   ]
  },
  {
   "cell_type": "markdown",
   "id": "c5bb983f",
   "metadata": {},
   "source": [
    "###### Standard Deviation"
   ]
  },
  {
   "cell_type": "code",
   "execution_count": 121,
   "id": "085b9932",
   "metadata": {},
   "outputs": [
    {
     "name": "stdout",
     "output_type": "stream",
     "text": [
      "[0.82831335 0.00793648 0.33254295 0.60893082 0.6664146  0.56290113\n",
      " 0.02967974 0.61875556 0.10328879 0.72729185 0.11521449 0.25636448\n",
      " 0.31471507 0.15907242 0.93553686 0.10174697 0.06095819 0.4465682\n",
      " 0.69010088 0.16365058 0.48339863 0.69295088 0.40388875 0.37502311\n",
      " 0.74373822 0.05202099 0.88760167 0.42347456 0.87625986 0.24639658\n",
      " 0.79516641 0.70843815 0.73963451 0.26873799 0.47208793 0.86876107\n",
      " 0.4008481  0.32479209 0.48136196 0.71306393]\n"
     ]
    }
   ],
   "source": [
    "a14=np.random.rand(40)\n",
    "print(a14)"
   ]
  },
  {
   "cell_type": "code",
   "execution_count": 122,
   "id": "fa926ad6",
   "metadata": {},
   "outputs": [
    {
     "data": {
      "text/plain": [
       "0.27490306332525755"
      ]
     },
     "execution_count": 122,
     "metadata": {},
     "output_type": "execute_result"
    }
   ],
   "source": [
    "np.std(a14)"
   ]
  },
  {
   "cell_type": "markdown",
   "id": "521ff406",
   "metadata": {},
   "source": [
    "###### Maximum-Max and Argmax"
   ]
  },
  {
   "cell_type": "code",
   "execution_count": 123,
   "id": "9ee43c97",
   "metadata": {},
   "outputs": [
    {
     "name": "stdout",
     "output_type": "stream",
     "text": [
      "[ 0.36610719  0.58358931  0.05902776 -1.05876597  0.87269385 -1.00819253\n",
      " -0.17454252 -0.03055388 -0.11911904 -0.46677227  0.17477191  1.78884038\n",
      "  0.37982505  1.06118813 -2.03117887 -0.47701272 -0.22210696  0.20742466\n",
      "  0.47843281 -0.43324752]\n"
     ]
    }
   ],
   "source": [
    "a15=np.random.randn(20)\n",
    "print(a15)"
   ]
  },
  {
   "cell_type": "code",
   "execution_count": 124,
   "id": "770a7b14",
   "metadata": {},
   "outputs": [
    {
     "data": {
      "text/plain": [
       "1.7888403776884427"
      ]
     },
     "execution_count": 124,
     "metadata": {},
     "output_type": "execute_result"
    }
   ],
   "source": [
    "np.max(a15)"
   ]
  },
  {
   "cell_type": "code",
   "execution_count": 125,
   "id": "71a95061",
   "metadata": {},
   "outputs": [
    {
     "data": {
      "text/plain": [
       "11"
      ]
     },
     "execution_count": 125,
     "metadata": {},
     "output_type": "execute_result"
    }
   ],
   "source": [
    "np.argmax(a15) #Argmax returns the index number of the Maximum element"
   ]
  },
  {
   "cell_type": "markdown",
   "id": "dff6e8d9",
   "metadata": {},
   "source": [
    "###### Sum"
   ]
  },
  {
   "cell_type": "code",
   "execution_count": 126,
   "id": "11eb6b20",
   "metadata": {},
   "outputs": [
    {
     "name": "stdout",
     "output_type": "stream",
     "text": [
      "[ 1  2  3  4  5  6  7  8  9 10 11 12 13 14 15 16 17 18 19 20]\n"
     ]
    }
   ],
   "source": [
    "a16=np.arange(1,21)\n",
    "print(a16)"
   ]
  },
  {
   "cell_type": "code",
   "execution_count": 127,
   "id": "aaccc8ab",
   "metadata": {},
   "outputs": [
    {
     "data": {
      "text/plain": [
       "210"
      ]
     },
     "execution_count": 127,
     "metadata": {},
     "output_type": "execute_result"
    }
   ],
   "source": [
    "np.sum(a16)"
   ]
  },
  {
   "cell_type": "code",
   "execution_count": 128,
   "id": "73f82324",
   "metadata": {},
   "outputs": [
    {
     "name": "stdout",
     "output_type": "stream",
     "text": [
      "[[ 1  2  3  4  5]\n",
      " [ 6  7  8  9 10]\n",
      " [11 12 13 14 15]\n",
      " [16 17 18 19 20]\n",
      " [21 22 23 24 25]]\n"
     ]
    }
   ],
   "source": [
    "a17=np.arange(1,26).reshape(5,5)\n",
    "print(a17)"
   ]
  },
  {
   "cell_type": "code",
   "execution_count": 129,
   "id": "144ebef7",
   "metadata": {},
   "outputs": [
    {
     "data": {
      "text/plain": [
       "array([55, 60, 65, 70, 75])"
      ]
     },
     "execution_count": 129,
     "metadata": {},
     "output_type": "execute_result"
    }
   ],
   "source": [
    "np.sum(a17,axis=0)"
   ]
  },
  {
   "cell_type": "code",
   "execution_count": 130,
   "id": "b1204aff",
   "metadata": {},
   "outputs": [
    {
     "data": {
      "text/plain": [
       "array([ 15,  40,  65,  90, 115])"
      ]
     },
     "execution_count": 130,
     "metadata": {},
     "output_type": "execute_result"
    }
   ],
   "source": [
    "np.sum(a17,axis=1)"
   ]
  }
 ],
 "metadata": {
  "kernelspec": {
   "display_name": "Python 3",
   "language": "python",
   "name": "python3"
  },
  "language_info": {
   "codemirror_mode": {
    "name": "ipython",
    "version": 3
   },
   "file_extension": ".py",
   "mimetype": "text/x-python",
   "name": "python",
   "nbconvert_exporter": "python",
   "pygments_lexer": "ipython3",
   "version": "3.8.8"
  }
 },
 "nbformat": 4,
 "nbformat_minor": 5
}
