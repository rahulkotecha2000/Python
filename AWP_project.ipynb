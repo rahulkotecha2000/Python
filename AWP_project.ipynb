{
 "cells": [
  {
   "cell_type": "markdown",
   "id": "c0229879",
   "metadata": {},
   "source": [
    "# AWP Project"
   ]
  },
  {
   "cell_type": "code",
   "execution_count": 1,
   "id": "269fd084",
   "metadata": {},
   "outputs": [],
   "source": [
    "import pandas as pd\n",
    "import numpy as np\n",
    "import matplotlib.pyplot as plt\n",
    "import seaborn as sns\n",
    "\n",
    "import warnings\n",
    "warnings.filterwarnings(\"ignore\")"
   ]
  },
  {
   "cell_type": "markdown",
   "id": "09aa880f",
   "metadata": {},
   "source": [
    "# Indian Export Data from 2010-2018"
   ]
  },
  {
   "cell_type": "markdown",
   "id": "22523c99",
   "metadata": {},
   "source": [
    "###### Finding the top 5 rows of export dataset"
   ]
  },
  {
   "cell_type": "code",
   "execution_count": 2,
   "id": "478c6b90",
   "metadata": {},
   "outputs": [
    {
     "data": {
      "text/html": [
       "<div>\n",
       "<style scoped>\n",
       "    .dataframe tbody tr th:only-of-type {\n",
       "        vertical-align: middle;\n",
       "    }\n",
       "\n",
       "    .dataframe tbody tr th {\n",
       "        vertical-align: top;\n",
       "    }\n",
       "\n",
       "    .dataframe thead th {\n",
       "        text-align: right;\n",
       "    }\n",
       "</style>\n",
       "<table border=\"1\" class=\"dataframe\">\n",
       "  <thead>\n",
       "    <tr style=\"text-align: right;\">\n",
       "      <th></th>\n",
       "      <th>HSCode</th>\n",
       "      <th>Commodity</th>\n",
       "      <th>Value</th>\n",
       "      <th>Country</th>\n",
       "      <th>Year</th>\n",
       "    </tr>\n",
       "  </thead>\n",
       "  <tbody>\n",
       "    <tr>\n",
       "      <th>0</th>\n",
       "      <td>2</td>\n",
       "      <td>MEAT AND EDIBLE MEAT OFFAL.</td>\n",
       "      <td>0.18</td>\n",
       "      <td>AFGHANISTAN TIS</td>\n",
       "      <td>2018</td>\n",
       "    </tr>\n",
       "    <tr>\n",
       "      <th>1</th>\n",
       "      <td>3</td>\n",
       "      <td>FISH AND CRUSTACEANS, MOLLUSCS AND OTHER AQUAT...</td>\n",
       "      <td>0.00</td>\n",
       "      <td>AFGHANISTAN TIS</td>\n",
       "      <td>2018</td>\n",
       "    </tr>\n",
       "    <tr>\n",
       "      <th>2</th>\n",
       "      <td>4</td>\n",
       "      <td>DAIRY PRODUCE; BIRDS' EGGS; NATURAL HONEY; EDI...</td>\n",
       "      <td>12.48</td>\n",
       "      <td>AFGHANISTAN TIS</td>\n",
       "      <td>2018</td>\n",
       "    </tr>\n",
       "    <tr>\n",
       "      <th>3</th>\n",
       "      <td>6</td>\n",
       "      <td>LIVE TREES AND OTHER PLANTS; BULBS; ROOTS AND ...</td>\n",
       "      <td>0.00</td>\n",
       "      <td>AFGHANISTAN TIS</td>\n",
       "      <td>2018</td>\n",
       "    </tr>\n",
       "    <tr>\n",
       "      <th>4</th>\n",
       "      <td>7</td>\n",
       "      <td>EDIBLE VEGETABLES AND CERTAIN ROOTS AND TUBERS.</td>\n",
       "      <td>1.89</td>\n",
       "      <td>AFGHANISTAN TIS</td>\n",
       "      <td>2018</td>\n",
       "    </tr>\n",
       "  </tbody>\n",
       "</table>\n",
       "</div>"
      ],
      "text/plain": [
       "   HSCode                                          Commodity  Value  \\\n",
       "0       2                        MEAT AND EDIBLE MEAT OFFAL.   0.18   \n",
       "1       3  FISH AND CRUSTACEANS, MOLLUSCS AND OTHER AQUAT...   0.00   \n",
       "2       4  DAIRY PRODUCE; BIRDS' EGGS; NATURAL HONEY; EDI...  12.48   \n",
       "3       6  LIVE TREES AND OTHER PLANTS; BULBS; ROOTS AND ...   0.00   \n",
       "4       7    EDIBLE VEGETABLES AND CERTAIN ROOTS AND TUBERS.   1.89   \n",
       "\n",
       "           Country  Year  \n",
       "0  AFGHANISTAN TIS  2018  \n",
       "1  AFGHANISTAN TIS  2018  \n",
       "2  AFGHANISTAN TIS  2018  \n",
       "3  AFGHANISTAN TIS  2018  \n",
       "4  AFGHANISTAN TIS  2018  "
      ]
     },
     "execution_count": 2,
     "metadata": {},
     "output_type": "execute_result"
    }
   ],
   "source": [
    "exp=pd.read_csv(\"export.csv\")\n",
    "exp.head()"
   ]
  },
  {
   "cell_type": "markdown",
   "id": "98f2e952",
   "metadata": {},
   "source": [
    "###### Using .info() to get additional information regarding dataset-No. of rows and columns, datatype, etc"
   ]
  },
  {
   "cell_type": "code",
   "execution_count": 3,
   "id": "4fd58624",
   "metadata": {},
   "outputs": [
    {
     "name": "stdout",
     "output_type": "stream",
     "text": [
      "<class 'pandas.core.frame.DataFrame'>\n",
      "RangeIndex: 137023 entries, 0 to 137022\n",
      "Data columns (total 5 columns):\n",
      " #   Column     Non-Null Count   Dtype  \n",
      "---  ------     --------------   -----  \n",
      " 0   HSCode     137023 non-null  int64  \n",
      " 1   Commodity  137023 non-null  object \n",
      " 2   Value      122985 non-null  float64\n",
      " 3   Country    137023 non-null  object \n",
      " 4   Year       137023 non-null  int64  \n",
      "dtypes: float64(1), int64(2), object(2)\n",
      "memory usage: 5.2+ MB\n"
     ]
    }
   ],
   "source": [
    "exp.info()"
   ]
  },
  {
   "cell_type": "markdown",
   "id": "06433176",
   "metadata": {},
   "source": [
    "###### Using .shape to get a tuple of (Rows,Columns) in dataset"
   ]
  },
  {
   "cell_type": "code",
   "execution_count": 4,
   "id": "f7bfff48",
   "metadata": {},
   "outputs": [
    {
     "data": {
      "text/plain": [
       "(137023, 5)"
      ]
     },
     "execution_count": 4,
     "metadata": {},
     "output_type": "execute_result"
    }
   ],
   "source": [
    "exp.shape"
   ]
  },
  {
   "cell_type": "markdown",
   "id": "c56536a1",
   "metadata": {},
   "source": [
    "###### Finding the bottom 5 rows of export dataset"
   ]
  },
  {
   "cell_type": "code",
   "execution_count": 5,
   "id": "53f30323",
   "metadata": {},
   "outputs": [
    {
     "data": {
      "text/html": [
       "<div>\n",
       "<style scoped>\n",
       "    .dataframe tbody tr th:only-of-type {\n",
       "        vertical-align: middle;\n",
       "    }\n",
       "\n",
       "    .dataframe tbody tr th {\n",
       "        vertical-align: top;\n",
       "    }\n",
       "\n",
       "    .dataframe thead th {\n",
       "        text-align: right;\n",
       "    }\n",
       "</style>\n",
       "<table border=\"1\" class=\"dataframe\">\n",
       "  <thead>\n",
       "    <tr style=\"text-align: right;\">\n",
       "      <th></th>\n",
       "      <th>HSCode</th>\n",
       "      <th>Commodity</th>\n",
       "      <th>Value</th>\n",
       "      <th>Country</th>\n",
       "      <th>Year</th>\n",
       "    </tr>\n",
       "  </thead>\n",
       "  <tbody>\n",
       "    <tr>\n",
       "      <th>137018</th>\n",
       "      <td>95</td>\n",
       "      <td>TOYS, GAMES AND SPORTS REQUISITES; PARTS AND A...</td>\n",
       "      <td>0.03</td>\n",
       "      <td>ZIMBABWE</td>\n",
       "      <td>2010</td>\n",
       "    </tr>\n",
       "    <tr>\n",
       "      <th>137019</th>\n",
       "      <td>96</td>\n",
       "      <td>MISCELLANEOUS MANUFACTURED ARTICLES.</td>\n",
       "      <td>0.45</td>\n",
       "      <td>ZIMBABWE</td>\n",
       "      <td>2010</td>\n",
       "    </tr>\n",
       "    <tr>\n",
       "      <th>137020</th>\n",
       "      <td>97</td>\n",
       "      <td>WORKS OF ART COLLECTORS' PIECES AND ANTIQUES.</td>\n",
       "      <td>0.00</td>\n",
       "      <td>ZIMBABWE</td>\n",
       "      <td>2010</td>\n",
       "    </tr>\n",
       "    <tr>\n",
       "      <th>137021</th>\n",
       "      <td>98</td>\n",
       "      <td>PROJECT GOODS; SOME SPECIAL USES.</td>\n",
       "      <td>0.00</td>\n",
       "      <td>ZIMBABWE</td>\n",
       "      <td>2010</td>\n",
       "    </tr>\n",
       "    <tr>\n",
       "      <th>137022</th>\n",
       "      <td>99</td>\n",
       "      <td>MISCELLANEOUS GOODS.</td>\n",
       "      <td>0.07</td>\n",
       "      <td>ZIMBABWE</td>\n",
       "      <td>2010</td>\n",
       "    </tr>\n",
       "  </tbody>\n",
       "</table>\n",
       "</div>"
      ],
      "text/plain": [
       "        HSCode                                          Commodity  Value  \\\n",
       "137018      95  TOYS, GAMES AND SPORTS REQUISITES; PARTS AND A...   0.03   \n",
       "137019      96               MISCELLANEOUS MANUFACTURED ARTICLES.   0.45   \n",
       "137020      97      WORKS OF ART COLLECTORS' PIECES AND ANTIQUES.   0.00   \n",
       "137021      98                  PROJECT GOODS; SOME SPECIAL USES.   0.00   \n",
       "137022      99                               MISCELLANEOUS GOODS.   0.07   \n",
       "\n",
       "         Country  Year  \n",
       "137018  ZIMBABWE  2010  \n",
       "137019  ZIMBABWE  2010  \n",
       "137020  ZIMBABWE  2010  \n",
       "137021  ZIMBABWE  2010  \n",
       "137022  ZIMBABWE  2010  "
      ]
     },
     "execution_count": 5,
     "metadata": {},
     "output_type": "execute_result"
    }
   ],
   "source": [
    "exp.tail()"
   ]
  },
  {
   "cell_type": "markdown",
   "id": "b099d14c",
   "metadata": {},
   "source": [
    "###### Using .sort_values() to sort data according to Year from 2010-2018"
   ]
  },
  {
   "cell_type": "code",
   "execution_count": 6,
   "id": "1ecdc450",
   "metadata": {},
   "outputs": [],
   "source": [
    "exp.sort_values([\"Year\"],inplace=True)#the inplace=True saves this sorting"
   ]
  },
  {
   "cell_type": "code",
   "execution_count": 7,
   "id": "bc2a3877",
   "metadata": {},
   "outputs": [
    {
     "data": {
      "text/html": [
       "<div>\n",
       "<style scoped>\n",
       "    .dataframe tbody tr th:only-of-type {\n",
       "        vertical-align: middle;\n",
       "    }\n",
       "\n",
       "    .dataframe tbody tr th {\n",
       "        vertical-align: top;\n",
       "    }\n",
       "\n",
       "    .dataframe thead th {\n",
       "        text-align: right;\n",
       "    }\n",
       "</style>\n",
       "<table border=\"1\" class=\"dataframe\">\n",
       "  <thead>\n",
       "    <tr style=\"text-align: right;\">\n",
       "      <th></th>\n",
       "      <th>HSCode</th>\n",
       "      <th>Commodity</th>\n",
       "      <th>Value</th>\n",
       "      <th>Country</th>\n",
       "      <th>Year</th>\n",
       "    </tr>\n",
       "  </thead>\n",
       "  <tbody>\n",
       "    <tr>\n",
       "      <th>137022</th>\n",
       "      <td>99</td>\n",
       "      <td>MISCELLANEOUS GOODS.</td>\n",
       "      <td>0.07</td>\n",
       "      <td>ZIMBABWE</td>\n",
       "      <td>2010</td>\n",
       "    </tr>\n",
       "    <tr>\n",
       "      <th>127311</th>\n",
       "      <td>5</td>\n",
       "      <td>PRODUCTS OF ANIMAL ORIGIN, NOT ELSEWHERE SPECI...</td>\n",
       "      <td>0.01</td>\n",
       "      <td>GREECE</td>\n",
       "      <td>2010</td>\n",
       "    </tr>\n",
       "    <tr>\n",
       "      <th>127310</th>\n",
       "      <td>4</td>\n",
       "      <td>DAIRY PRODUCE; BIRDS' EGGS; NATURAL HONEY; EDI...</td>\n",
       "      <td>0.00</td>\n",
       "      <td>GREECE</td>\n",
       "      <td>2010</td>\n",
       "    </tr>\n",
       "    <tr>\n",
       "      <th>127309</th>\n",
       "      <td>3</td>\n",
       "      <td>FISH AND CRUSTACEANS, MOLLUSCS AND OTHER AQUAT...</td>\n",
       "      <td>17.95</td>\n",
       "      <td>GREECE</td>\n",
       "      <td>2010</td>\n",
       "    </tr>\n",
       "    <tr>\n",
       "      <th>127308</th>\n",
       "      <td>99</td>\n",
       "      <td>MISCELLANEOUS GOODS.</td>\n",
       "      <td>0.00</td>\n",
       "      <td>GIBRALTAR</td>\n",
       "      <td>2010</td>\n",
       "    </tr>\n",
       "  </tbody>\n",
       "</table>\n",
       "</div>"
      ],
      "text/plain": [
       "        HSCode                                          Commodity  Value  \\\n",
       "137022      99                               MISCELLANEOUS GOODS.   0.07   \n",
       "127311       5  PRODUCTS OF ANIMAL ORIGIN, NOT ELSEWHERE SPECI...   0.01   \n",
       "127310       4  DAIRY PRODUCE; BIRDS' EGGS; NATURAL HONEY; EDI...   0.00   \n",
       "127309       3  FISH AND CRUSTACEANS, MOLLUSCS AND OTHER AQUAT...  17.95   \n",
       "127308      99                               MISCELLANEOUS GOODS.   0.00   \n",
       "\n",
       "          Country  Year  \n",
       "137022   ZIMBABWE  2010  \n",
       "127311     GREECE  2010  \n",
       "127310     GREECE  2010  \n",
       "127309     GREECE  2010  \n",
       "127308  GIBRALTAR  2010  "
      ]
     },
     "execution_count": 7,
     "metadata": {},
     "output_type": "execute_result"
    }
   ],
   "source": [
    "exp.head()"
   ]
  },
  {
   "cell_type": "markdown",
   "id": "5d8fd096",
   "metadata": {},
   "source": [
    "###### FInding all the NaN values present in the dataset"
   ]
  },
  {
   "cell_type": "code",
   "execution_count": 8,
   "id": "283849f4",
   "metadata": {},
   "outputs": [
    {
     "data": {
      "text/plain": [
       "HSCode           0\n",
       "Commodity        0\n",
       "Value        14038\n",
       "Country          0\n",
       "Year             0\n",
       "dtype: int64"
      ]
     },
     "execution_count": 8,
     "metadata": {},
     "output_type": "execute_result"
    }
   ],
   "source": [
    "exp.isna().sum()"
   ]
  },
  {
   "cell_type": "markdown",
   "id": "659b056a",
   "metadata": {},
   "source": [
    "###### Using Description function to get details about dataset-mean, standard deviation, max value,min value, quartiles"
   ]
  },
  {
   "cell_type": "code",
   "execution_count": 9,
   "id": "8eee9eb1",
   "metadata": {},
   "outputs": [
    {
     "data": {
      "text/html": [
       "<div>\n",
       "<style scoped>\n",
       "    .dataframe tbody tr th:only-of-type {\n",
       "        vertical-align: middle;\n",
       "    }\n",
       "\n",
       "    .dataframe tbody tr th {\n",
       "        vertical-align: top;\n",
       "    }\n",
       "\n",
       "    .dataframe thead th {\n",
       "        text-align: right;\n",
       "    }\n",
       "</style>\n",
       "<table border=\"1\" class=\"dataframe\">\n",
       "  <thead>\n",
       "    <tr style=\"text-align: right;\">\n",
       "      <th></th>\n",
       "      <th>HSCode</th>\n",
       "      <th>Value</th>\n",
       "      <th>Year</th>\n",
       "    </tr>\n",
       "  </thead>\n",
       "  <tbody>\n",
       "    <tr>\n",
       "      <th>count</th>\n",
       "      <td>137023.000000</td>\n",
       "      <td>122985.000000</td>\n",
       "      <td>137023.000000</td>\n",
       "    </tr>\n",
       "    <tr>\n",
       "      <th>mean</th>\n",
       "      <td>51.330302</td>\n",
       "      <td>21.567829</td>\n",
       "      <td>2014.056304</td>\n",
       "    </tr>\n",
       "    <tr>\n",
       "      <th>std</th>\n",
       "      <td>28.018026</td>\n",
       "      <td>229.701279</td>\n",
       "      <td>2.580160</td>\n",
       "    </tr>\n",
       "    <tr>\n",
       "      <th>min</th>\n",
       "      <td>1.000000</td>\n",
       "      <td>0.000000</td>\n",
       "      <td>2010.000000</td>\n",
       "    </tr>\n",
       "    <tr>\n",
       "      <th>25%</th>\n",
       "      <td>28.000000</td>\n",
       "      <td>0.030000</td>\n",
       "      <td>2012.000000</td>\n",
       "    </tr>\n",
       "    <tr>\n",
       "      <th>50%</th>\n",
       "      <td>52.000000</td>\n",
       "      <td>0.360000</td>\n",
       "      <td>2014.000000</td>\n",
       "    </tr>\n",
       "    <tr>\n",
       "      <th>75%</th>\n",
       "      <td>74.000000</td>\n",
       "      <td>3.770000</td>\n",
       "      <td>2016.000000</td>\n",
       "    </tr>\n",
       "    <tr>\n",
       "      <th>max</th>\n",
       "      <td>99.000000</td>\n",
       "      <td>19805.170000</td>\n",
       "      <td>2018.000000</td>\n",
       "    </tr>\n",
       "  </tbody>\n",
       "</table>\n",
       "</div>"
      ],
      "text/plain": [
       "              HSCode          Value           Year\n",
       "count  137023.000000  122985.000000  137023.000000\n",
       "mean       51.330302      21.567829    2014.056304\n",
       "std        28.018026     229.701279       2.580160\n",
       "min         1.000000       0.000000    2010.000000\n",
       "25%        28.000000       0.030000    2012.000000\n",
       "50%        52.000000       0.360000    2014.000000\n",
       "75%        74.000000       3.770000    2016.000000\n",
       "max        99.000000   19805.170000    2018.000000"
      ]
     },
     "execution_count": 9,
     "metadata": {},
     "output_type": "execute_result"
    }
   ],
   "source": [
    "exp.describe()"
   ]
  },
  {
   "cell_type": "code",
   "execution_count": 10,
   "id": "2592d82a",
   "metadata": {},
   "outputs": [
    {
     "data": {
      "text/plain": [
       "0.36"
      ]
     },
     "execution_count": 10,
     "metadata": {},
     "output_type": "execute_result"
    }
   ],
   "source": [
    "x=exp[\"Value\"].median()#We need Median to compare it eith Mean to determine if the distribution is normal or is there Skewness\n",
    "x"
   ]
  },
  {
   "cell_type": "code",
   "execution_count": 11,
   "id": "32c5d5cf",
   "metadata": {},
   "outputs": [
    {
     "data": {
      "text/html": [
       "<div>\n",
       "<style scoped>\n",
       "    .dataframe tbody tr th:only-of-type {\n",
       "        vertical-align: middle;\n",
       "    }\n",
       "\n",
       "    .dataframe tbody tr th {\n",
       "        vertical-align: top;\n",
       "    }\n",
       "\n",
       "    .dataframe thead th {\n",
       "        text-align: right;\n",
       "    }\n",
       "</style>\n",
       "<table border=\"1\" class=\"dataframe\">\n",
       "  <thead>\n",
       "    <tr style=\"text-align: right;\">\n",
       "      <th></th>\n",
       "      <th>Commodity</th>\n",
       "      <th>Country</th>\n",
       "    </tr>\n",
       "  </thead>\n",
       "  <tbody>\n",
       "    <tr>\n",
       "      <th>count</th>\n",
       "      <td>137023</td>\n",
       "      <td>137023</td>\n",
       "    </tr>\n",
       "    <tr>\n",
       "      <th>unique</th>\n",
       "      <td>98</td>\n",
       "      <td>248</td>\n",
       "    </tr>\n",
       "    <tr>\n",
       "      <th>top</th>\n",
       "      <td>ELECTRICAL MACHINERY AND EQUIPMENT AND PARTS T...</td>\n",
       "      <td>U ARAB EMTS</td>\n",
       "    </tr>\n",
       "    <tr>\n",
       "      <th>freq</th>\n",
       "      <td>1963</td>\n",
       "      <td>882</td>\n",
       "    </tr>\n",
       "  </tbody>\n",
       "</table>\n",
       "</div>"
      ],
      "text/plain": [
       "                                                Commodity      Country\n",
       "count                                              137023       137023\n",
       "unique                                                 98          248\n",
       "top     ELECTRICAL MACHINERY AND EQUIPMENT AND PARTS T...  U ARAB EMTS\n",
       "freq                                                 1963          882"
      ]
     },
     "execution_count": 11,
     "metadata": {},
     "output_type": "execute_result"
    }
   ],
   "source": [
    "exp.describe(include=[\"object\"])"
   ]
  },
  {
   "cell_type": "markdown",
   "id": "b2983a71",
   "metadata": {},
   "source": [
    " ###### To deal with NaN values we will use .fillna() function but prior to that we will check dataset for Skewness"
   ]
  },
  {
   "cell_type": "markdown",
   "id": "9e4c508c",
   "metadata": {},
   "source": [
    "###### For Value Mean > Median thus there exists Positive Skewness in Value:We will use Median value for .fillna()"
   ]
  },
  {
   "cell_type": "code",
   "execution_count": 12,
   "id": "49f6c602",
   "metadata": {},
   "outputs": [],
   "source": [
    "exp=exp.fillna(x)"
   ]
  },
  {
   "cell_type": "code",
   "execution_count": 13,
   "id": "46a15f2b",
   "metadata": {},
   "outputs": [
    {
     "data": {
      "text/plain": [
       "HSCode       0\n",
       "Commodity    0\n",
       "Value        0\n",
       "Country      0\n",
       "Year         0\n",
       "dtype: int64"
      ]
     },
     "execution_count": 13,
     "metadata": {},
     "output_type": "execute_result"
    }
   ],
   "source": [
    "exp.isna().sum()"
   ]
  },
  {
   "cell_type": "code",
   "execution_count": 14,
   "id": "faae5c54",
   "metadata": {},
   "outputs": [
    {
     "data": {
      "text/html": [
       "<div>\n",
       "<style scoped>\n",
       "    .dataframe tbody tr th:only-of-type {\n",
       "        vertical-align: middle;\n",
       "    }\n",
       "\n",
       "    .dataframe tbody tr th {\n",
       "        vertical-align: top;\n",
       "    }\n",
       "\n",
       "    .dataframe thead th {\n",
       "        text-align: right;\n",
       "    }\n",
       "</style>\n",
       "<table border=\"1\" class=\"dataframe\">\n",
       "  <thead>\n",
       "    <tr style=\"text-align: right;\">\n",
       "      <th></th>\n",
       "      <th>HSCode</th>\n",
       "      <th>Value</th>\n",
       "      <th>Year</th>\n",
       "    </tr>\n",
       "  </thead>\n",
       "  <tbody>\n",
       "    <tr>\n",
       "      <th>count</th>\n",
       "      <td>137023.000000</td>\n",
       "      <td>137023.000000</td>\n",
       "      <td>137023.000000</td>\n",
       "    </tr>\n",
       "    <tr>\n",
       "      <th>mean</th>\n",
       "      <td>51.330302</td>\n",
       "      <td>19.395088</td>\n",
       "      <td>2014.056304</td>\n",
       "    </tr>\n",
       "    <tr>\n",
       "      <th>std</th>\n",
       "      <td>28.018026</td>\n",
       "      <td>217.711880</td>\n",
       "      <td>2.580160</td>\n",
       "    </tr>\n",
       "    <tr>\n",
       "      <th>min</th>\n",
       "      <td>1.000000</td>\n",
       "      <td>0.000000</td>\n",
       "      <td>2010.000000</td>\n",
       "    </tr>\n",
       "    <tr>\n",
       "      <th>25%</th>\n",
       "      <td>28.000000</td>\n",
       "      <td>0.040000</td>\n",
       "      <td>2012.000000</td>\n",
       "    </tr>\n",
       "    <tr>\n",
       "      <th>50%</th>\n",
       "      <td>52.000000</td>\n",
       "      <td>0.360000</td>\n",
       "      <td>2014.000000</td>\n",
       "    </tr>\n",
       "    <tr>\n",
       "      <th>75%</th>\n",
       "      <td>74.000000</td>\n",
       "      <td>2.850000</td>\n",
       "      <td>2016.000000</td>\n",
       "    </tr>\n",
       "    <tr>\n",
       "      <th>max</th>\n",
       "      <td>99.000000</td>\n",
       "      <td>19805.170000</td>\n",
       "      <td>2018.000000</td>\n",
       "    </tr>\n",
       "  </tbody>\n",
       "</table>\n",
       "</div>"
      ],
      "text/plain": [
       "              HSCode          Value           Year\n",
       "count  137023.000000  137023.000000  137023.000000\n",
       "mean       51.330302      19.395088    2014.056304\n",
       "std        28.018026     217.711880       2.580160\n",
       "min         1.000000       0.000000    2010.000000\n",
       "25%        28.000000       0.040000    2012.000000\n",
       "50%        52.000000       0.360000    2014.000000\n",
       "75%        74.000000       2.850000    2016.000000\n",
       "max        99.000000   19805.170000    2018.000000"
      ]
     },
     "execution_count": 14,
     "metadata": {},
     "output_type": "execute_result"
    }
   ],
   "source": [
    "exp.describe()#this is post dealing with NaN values"
   ]
  },
  {
   "cell_type": "markdown",
   "id": "4d936afb",
   "metadata": {},
   "source": [
    "###### Using .nunique() to find the count of all the unique Commodities Exported"
   ]
  },
  {
   "cell_type": "code",
   "execution_count": 15,
   "id": "d5ca28f0",
   "metadata": {},
   "outputs": [
    {
     "data": {
      "text/plain": [
       "98"
      ]
     },
     "execution_count": 15,
     "metadata": {},
     "output_type": "execute_result"
    }
   ],
   "source": [
    "exp[\"Commodity\"].nunique()"
   ]
  },
  {
   "cell_type": "markdown",
   "id": "455047bf",
   "metadata": {},
   "source": [
    "###### Using value_counts and head function to find the top 5 most exported commodities between 2010-2018"
   ]
  },
  {
   "cell_type": "code",
   "execution_count": 16,
   "id": "b4aad9d8",
   "metadata": {},
   "outputs": [
    {
     "data": {
      "text/plain": [
       "ELECTRICAL MACHINERY AND EQUIPMENT AND PARTS THEREOF; SOUND RECORDERS AND REPRODUCERS, TELEVISION IMAGE AND SOUND RECORDERS AND REPRODUCERS,AND PARTS.    1963\n",
       "NUCLEAR REACTORS, BOILERS, MACHINERY AND MECHANICAL APPLIANCES; PARTS THEREOF.                                                                            1945\n",
       "OPTICAL, PHOTOGRAPHIC CINEMATOGRAPHIC MEASURING, CHECKING PRECISION, MEDICAL OR SURGICAL INST. AND APPARATUS PARTS AND ACCESSORIES THEREOF;               1917\n",
       "PHARMACEUTICAL PRODUCTS                                                                                                                                   1916\n",
       "ARTICLES OF APPAREL AND CLOTHING ACCESSORIES, NOT KNITTED OR CROCHETED.                                                                                   1907\n",
       "Name: Commodity, dtype: int64"
      ]
     },
     "execution_count": 16,
     "metadata": {},
     "output_type": "execute_result"
    }
   ],
   "source": [
    "exp[\"Commodity\"].value_counts().head()"
   ]
  },
  {
   "cell_type": "markdown",
   "id": "2e30b718",
   "metadata": {},
   "source": [
    "###### Using Unique function to find all the Unique trade partners of India-Country as well as State-Governmental Contracts"
   ]
  },
  {
   "cell_type": "code",
   "execution_count": 17,
   "id": "cf5b9246",
   "metadata": {},
   "outputs": [
    {
     "data": {
      "text/plain": [
       "array(['ZIMBABWE', 'GREECE', 'GIBRALTAR', 'GHANA', 'GRENADA', 'GREENLAND',\n",
       "       'GUADELOUPE', 'GEORGIA', 'GERMANY', 'GAMBIA', 'GUYANA', 'HAITI',\n",
       "       'GUINEA BISSAU', 'HONDURAS', 'HEARD MACDONALD', 'GUATEMALA',\n",
       "       'GUAM', 'GUINEA', 'HONG KONG', 'ESTONIA', 'ERITREA',\n",
       "       'EQUTL GUINEA', 'ETHIOPIA', 'FALKLAND IS', 'EGYPT A RP', 'ECUADOR',\n",
       "       'EL SALVADOR', 'FAROE IS.', 'FRANCE', 'GABON', 'FR S ANT TR',\n",
       "       'FR POLYNESIA', 'FIJI IS', 'FINLAND', 'FR GUIANA', 'KIRIBATI REP',\n",
       "       'KENYA', 'KOREA DP RP', 'KOREA RP', 'JORDAN', 'JAPAN',\n",
       "       'KAZAKHSTAN', 'LEBANON', 'LATVIA', 'LAO PD RP', 'LIBERIA',\n",
       "       'LESOTHO', 'KUWAIT', 'KYRGHYZSTAN', 'INDONESIA', 'IRAN', 'IRAQ',\n",
       "       'ICELAND', 'HUNGARY', 'ITALY', 'JAMAICA', 'ISRAEL', 'IRELAND',\n",
       "       'BELGIUM', 'BELARUS', 'BENIN', 'BELIZE', 'BANGLADESH PR',\n",
       "       'BAHARAIN IS', 'BARBADOS', 'BRAZIL', 'BR VIRGN IS', 'BOTSWANA',\n",
       "       'BRUNEI', 'BHUTAN', 'BOLIVIA', 'BERMUDA', 'BOSNIA-HRZGOVIN',\n",
       "       'ANGOLA', 'ANGUILLA', 'ANDORRA', 'ARGENTINA', 'ANTIGUA',\n",
       "       'ANTARTICA', 'AMERI SAMOA', 'AFGHANISTAN TIS', 'ALBANIA',\n",
       "       'ALGERIA', 'AZERBAIJAN', 'AUSTRIA', 'BAHAMAS', 'ARUBA', 'ARMENIA',\n",
       "       'AUSTRALIA', \"COTE D' IVOIRE\", 'CROATIA', 'COSTA RICA', 'CUBA',\n",
       "       'CYPRUS', 'CONGO P REP', 'CONGO D. REP.', 'COMOROS', 'COOK IS',\n",
       "       'DJIBOUTI', 'DOMINIC REP', 'DENMARK', 'DOMINICA', 'CZECH REPUBLIC',\n",
       "       'CAMBODIA', 'CAMEROON', 'C AFRI REP', 'CANADA', 'BULGARIA',\n",
       "       'BURKINA FASO', 'BURUNDI', 'CHINA P RP', 'CHRISTMAS IS.', 'CHILE',\n",
       "       'COCOS IS', 'COLOMBIA', 'CAYMAN IS', 'CAPE VERDE IS', 'CHAD',\n",
       "       'CANARY IS', 'SURINAME', 'SUDAN', 'SWAZILAND', 'SWEDEN',\n",
       "       'ST KITT N A', 'ST HELENA', 'SRI LANKA DSR', 'ST VINCENT',\n",
       "       'ST PIERRE', 'ST LUCIA', 'TAIWAN', 'SYRIA', 'TANZANIA REP',\n",
       "       'TAJIKISTAN', 'SWITZERLAND', 'SIERRA LEONE', 'SEYCHELLES',\n",
       "       'SINGAPORE', 'SAUDI ARAB', 'SAO TOME', 'SAMOA', 'SENEGAL',\n",
       "       'SOUTH AFRICA', 'SPAIN', 'SOMALIA', 'SLOVENIA', 'SLOVAK REP',\n",
       "       'SOLOMON IS', 'URUGUAY', 'UNSPECIFIED', 'UZBEKISTAN',\n",
       "       'VANUATU REP', 'UKRAINE', 'UGANDA', 'UNION OF SERBIA & MONTENEGRO',\n",
       "       'ZAMBIA', 'YEMEN REPUBLC', 'VIETNAM SOC REP', 'VENEZUELA',\n",
       "       'WALLIS F IS', 'VIRGIN IS US', 'TRINIDAD', 'TUNISIA', 'TONGA',\n",
       "       'TOKELAU IS', 'TOGO', 'TURKEY', 'THAILAND', 'TIMOR LESTE', 'U K',\n",
       "       'U S A', 'TURKMENISTAN', 'TURKS C IS', 'U ARAB EMTS', 'TUVALU',\n",
       "       'MONACO', 'MOLDOVA', 'MONGOLIA', 'MICRONESIA', 'MEXICO', 'MOROCCO',\n",
       "       'MONTSERRAT', 'MAURITIUS', 'MAURITANIA', 'NEPAL', 'NAURU RP',\n",
       "       'NAMIBIA', 'NETHERLAND', 'MOZAMBIQUE', 'MYANMAR', 'N. MARIANA IS.',\n",
       "       'MACAO', 'MACEDONIA', 'LUXEMBOURG', 'MADAGASCAR', 'MALAWI',\n",
       "       'LIBYA', 'LITHUANIA', 'LIECHTENSTEIN', 'MALI', 'MALTA', 'MALDIVES',\n",
       "       'MARTINIQUE', 'MARSHALL ISLAND', 'MALAYSIA', 'POLAND', 'PORTUGAL',\n",
       "       'PUERTO RICO', 'PERU', 'PARAGUAY', 'PHILIPPINES', 'PITCAIRN IS.',\n",
       "       'RUSSIA', 'ROMANIA', 'RWANDA', 'SAHARWI A.DM RP', 'QATAR',\n",
       "       'REUNION', 'NIGER', 'NICARAGUA', 'NEW ZEALAND', 'NIGERIA',\n",
       "       'NORFOLK IS', 'NIUE IS', 'NETHERLANDANTIL', 'NEW CALEDONIA',\n",
       "       'PANAMA REPUBLIC', 'PANAMA C Z', 'PALAU', 'PAKISTAN IR',\n",
       "       'PAPUA N GNA', 'NORWAY', 'OMAN', 'PACIFIC IS', 'CHANNEL IS',\n",
       "       'NEUTRAL ZONE', 'SERBIA', 'SAN MARINO', 'MONTENEGRO',\n",
       "       'VATICAN CITY', 'US MINOR OUTLYING ISLANDS               ',\n",
       "       'INSTALLATIONS IN INTERNATIONAL WATERS   ', 'CURACAO',\n",
       "       'SOUTH SUDAN ', 'SINT MAARTEN (DUTCH PART)', 'MAYOTTE', 'GUERNSEY',\n",
       "       'JERSEY         ', 'STATE OF PALEST'], dtype=object)"
      ]
     },
     "execution_count": 17,
     "metadata": {},
     "output_type": "execute_result"
    }
   ],
   "source": [
    "exp[\"Country\"].unique()"
   ]
  },
  {
   "cell_type": "markdown",
   "id": "091f362a",
   "metadata": {},
   "source": [
    "###### Using .nunique() function to find the total unique number of Export trade partners of India"
   ]
  },
  {
   "cell_type": "code",
   "execution_count": 18,
   "id": "2369cc30",
   "metadata": {},
   "outputs": [
    {
     "data": {
      "text/plain": [
       "248"
      ]
     },
     "execution_count": 18,
     "metadata": {},
     "output_type": "execute_result"
    }
   ],
   "source": [
    "exp[\"Country\"].nunique()"
   ]
  },
  {
   "cell_type": "markdown",
   "id": "7edad52b",
   "metadata": {},
   "source": [
    "###### Using .groupby() function to group data based on Year and finding sum of Export per year"
   ]
  },
  {
   "cell_type": "code",
   "execution_count": 19,
   "id": "041d93c5",
   "metadata": {},
   "outputs": [
    {
     "data": {
      "text/plain": [
       "Year\n",
       "2010    250380.78\n",
       "2011    306484.68\n",
       "2012    300960.68\n",
       "2013    314930.77\n",
       "2014    310917.90\n",
       "2015    262844.90\n",
       "2016    276405.51\n",
       "2017    304038.85\n",
       "2018    330609.08\n",
       "Name: Value, dtype: float64"
      ]
     },
     "execution_count": 19,
     "metadata": {},
     "output_type": "execute_result"
    }
   ],
   "source": [
    "exp.groupby([\"Year\"]).Value.sum()"
   ]
  },
  {
   "cell_type": "markdown",
   "id": "83316368",
   "metadata": {},
   "source": [
    "###### Using Matplotlib.pyplot to Plot data using a bar chart"
   ]
  },
  {
   "cell_type": "code",
   "execution_count": 20,
   "id": "a54c2264",
   "metadata": {},
   "outputs": [
    {
     "data": {
      "image/png": "[encoded data removed]",
      "text/plain": [
       "<Figure size 432x288 with 1 Axes>"
      ]
     },
     "metadata": {
      "needs_background": "light"
     },
     "output_type": "display_data"
    }
   ],
   "source": [
    "l=exp[\"Year\"].unique()\n",
    "m=exp.groupby([\"Year\"]).Value.sum().unique()\n",
    "plt.bar(l,m,color=\"green\")\n",
    "plt.show()"
   ]
  },
  {
   "cell_type": "markdown",
   "id": "5ba86a06",
   "metadata": {},
   "source": [
    "###### Using .groupby() function to find the sum of total exports between the year 2010-2013"
   ]
  },
  {
   "cell_type": "code",
   "execution_count": 21,
   "id": "81ff29f9",
   "metadata": {},
   "outputs": [
    {
     "data": {
      "text/plain": [
       "1172756.9100000001"
      ]
     },
     "execution_count": 21,
     "metadata": {},
     "output_type": "execute_result"
    }
   ],
   "source": [
    "exp[exp[\"Year\"]<2014][\"Value\"].sum()"
   ]
  },
  {
   "cell_type": "markdown",
   "id": "0ac3e809",
   "metadata": {},
   "source": [
    "###### Using .groupby() function to find the sum of total exports between the year 2015-2018"
   ]
  },
  {
   "cell_type": "code",
   "execution_count": 22,
   "id": "762456b3",
   "metadata": {},
   "outputs": [
    {
     "data": {
      "text/plain": [
       "1173898.3399999999"
      ]
     },
     "execution_count": 22,
     "metadata": {},
     "output_type": "execute_result"
    }
   ],
   "source": [
    "exp[exp[\"Year\"]>2014][\"Value\"].sum()"
   ]
  },
  {
   "cell_type": "markdown",
   "id": "56e46d9d",
   "metadata": {},
   "source": [
    "###### Using .groupby() ,.sum(),.sort_values() and idxmax() function to find the Country which is the largest importer of Indian products"
   ]
  },
  {
   "cell_type": "code",
   "execution_count": 23,
   "id": "bdd755e8",
   "metadata": {},
   "outputs": [
    {
     "data": {
      "text/plain": [
       "'U S A'"
      ]
     },
     "execution_count": 23,
     "metadata": {},
     "output_type": "execute_result"
    }
   ],
   "source": [
    "exp.groupby([\"Country\"]).Value.sum().sort_values(ascending=False).idxmax()"
   ]
  },
  {
   "cell_type": "markdown",
   "id": "41c8da87",
   "metadata": {},
   "source": [
    "###### Finding the top 5 countries that account for highest importer of  Indian exported goods for the period 2010-2018"
   ]
  },
  {
   "cell_type": "code",
   "execution_count": 24,
   "id": "3a534999",
   "metadata": {},
   "outputs": [
    {
     "data": {
      "text/plain": [
       "Country\n",
       "U S A          360611.73\n",
       "U ARAB EMTS    289374.88\n",
       "CHINA P RP     121814.64\n",
       "HONG KONG      115704.51\n",
       "SINGAPORE      101683.66\n",
       "Name: Value, dtype: float64"
      ]
     },
     "execution_count": 24,
     "metadata": {},
     "output_type": "execute_result"
    }
   ],
   "source": [
    "exp.groupby([\"Country\"]).Value.sum().sort_values(ascending=False).head()"
   ]
  },
  {
   "cell_type": "code",
   "execution_count": 25,
   "id": "cdd78f1b",
   "metadata": {},
   "outputs": [
    {
     "data": {
      "image/png": "[encoded data removed]",
      "text/plain": [
       "<Figure size 432x288 with 1 Axes>"
      ]
     },
     "metadata": {
      "needs_background": "light"
     },
     "output_type": "display_data"
    }
   ],
   "source": [
    "exp.groupby([\"Country\"]).Value.sum().sort_values(ascending=False).head().plot(kind=\"barh\",color=\"red\")\n",
    "plt.show()"
   ]
  },
  {
   "cell_type": "code",
   "execution_count": 26,
   "id": "eeef8c90",
   "metadata": {},
   "outputs": [
    {
     "data": {
      "image/png": "[encoded data removed]",
      "text/plain": [
       "<Figure size 1584x504 with 1 Axes>"
      ]
     },
     "metadata": {},
     "output_type": "display_data"
    }
   ],
   "source": [
    "plt.figure(figsize=(22,7))\n",
    "exp.groupby([\"Country\"]).Value.sum().sort_values(ascending=False).head().plot.pie(autopct=\"%1.2f%%\")\n",
    "plt.title(\"Countries that account for top 5 Indian Exports\")\n",
    "plt.axis(\"off\")\n",
    "plt.show()"
   ]
  },
  {
   "cell_type": "markdown",
   "id": "ad8a6554",
   "metadata": {},
   "source": [
    "###### Finding the bottom 5 countries that account for lowest importer of  Indian exported goods for the period 2010-2018"
   ]
  },
  {
   "cell_type": "code",
   "execution_count": 27,
   "id": "661c416c",
   "metadata": {},
   "outputs": [
    {
     "data": {
      "text/plain": [
       "Country\n",
       "FR S ANT TR                  2.25\n",
       "GUERNSEY                     1.11\n",
       "CURACAO                      0.73\n",
       "SINT MAARTEN (DUTCH PART)    0.37\n",
       "JERSEY                       0.36\n",
       "Name: Value, dtype: float64"
      ]
     },
     "execution_count": 27,
     "metadata": {},
     "output_type": "execute_result"
    }
   ],
   "source": [
    "exp.groupby([\"Country\"]).Value.sum().sort_values(ascending=False).tail()"
   ]
  },
  {
   "cell_type": "code",
   "execution_count": 28,
   "id": "de78a664",
   "metadata": {},
   "outputs": [
    {
     "data": {
      "image/png": "[encoded data removed]",
      "text/plain": [
       "<Figure size 432x288 with 1 Axes>"
      ]
     },
     "metadata": {
      "needs_background": "light"
     },
     "output_type": "display_data"
    }
   ],
   "source": [
    "exp.groupby([\"Country\"]).Value.sum().sort_values(ascending=False).tail().plot(kind=\"barh\")\n",
    "plt.show()"
   ]
  },
  {
   "cell_type": "markdown",
   "id": "ab0cb3f8",
   "metadata": {},
   "source": [
    "# Indian Import Data from 2010-2018"
   ]
  },
  {
   "cell_type": "markdown",
   "id": "d185eeae",
   "metadata": {},
   "source": [
    "###### Using Pandas to read Import.csv file"
   ]
  },
  {
   "cell_type": "code",
   "execution_count": 29,
   "id": "263a88c0",
   "metadata": {},
   "outputs": [
    {
     "data": {
      "text/html": [
       "<div>\n",
       "<style scoped>\n",
       "    .dataframe tbody tr th:only-of-type {\n",
       "        vertical-align: middle;\n",
       "    }\n",
       "\n",
       "    .dataframe tbody tr th {\n",
       "        vertical-align: top;\n",
       "    }\n",
       "\n",
       "    .dataframe thead th {\n",
       "        text-align: right;\n",
       "    }\n",
       "</style>\n",
       "<table border=\"1\" class=\"dataframe\">\n",
       "  <thead>\n",
       "    <tr style=\"text-align: right;\">\n",
       "      <th></th>\n",
       "      <th>HSCode</th>\n",
       "      <th>Commodity</th>\n",
       "      <th>Value</th>\n",
       "      <th>Country</th>\n",
       "      <th>Year</th>\n",
       "    </tr>\n",
       "  </thead>\n",
       "  <tbody>\n",
       "    <tr>\n",
       "      <th>0</th>\n",
       "      <td>5</td>\n",
       "      <td>PRODUCTS OF ANIMAL ORIGIN, NOT ELSEWHERE SPECI...</td>\n",
       "      <td>0.00</td>\n",
       "      <td>AFGHANISTAN TIS</td>\n",
       "      <td>2018</td>\n",
       "    </tr>\n",
       "    <tr>\n",
       "      <th>1</th>\n",
       "      <td>7</td>\n",
       "      <td>EDIBLE VEGETABLES AND CERTAIN ROOTS AND TUBERS.</td>\n",
       "      <td>12.38</td>\n",
       "      <td>AFGHANISTAN TIS</td>\n",
       "      <td>2018</td>\n",
       "    </tr>\n",
       "    <tr>\n",
       "      <th>2</th>\n",
       "      <td>8</td>\n",
       "      <td>EDIBLE FRUIT AND NUTS; PEEL OR CITRUS FRUIT OR...</td>\n",
       "      <td>268.60</td>\n",
       "      <td>AFGHANISTAN TIS</td>\n",
       "      <td>2018</td>\n",
       "    </tr>\n",
       "    <tr>\n",
       "      <th>3</th>\n",
       "      <td>9</td>\n",
       "      <td>COFFEE, TEA, MATE AND SPICES.</td>\n",
       "      <td>35.48</td>\n",
       "      <td>AFGHANISTAN TIS</td>\n",
       "      <td>2018</td>\n",
       "    </tr>\n",
       "    <tr>\n",
       "      <th>4</th>\n",
       "      <td>11</td>\n",
       "      <td>PRODUCTS OF THE MILLING INDUSTRY; MALT; STARCH...</td>\n",
       "      <td>NaN</td>\n",
       "      <td>AFGHANISTAN TIS</td>\n",
       "      <td>2018</td>\n",
       "    </tr>\n",
       "  </tbody>\n",
       "</table>\n",
       "</div>"
      ],
      "text/plain": [
       "   HSCode                                          Commodity   Value  \\\n",
       "0       5  PRODUCTS OF ANIMAL ORIGIN, NOT ELSEWHERE SPECI...    0.00   \n",
       "1       7    EDIBLE VEGETABLES AND CERTAIN ROOTS AND TUBERS.   12.38   \n",
       "2       8  EDIBLE FRUIT AND NUTS; PEEL OR CITRUS FRUIT OR...  268.60   \n",
       "3       9                      COFFEE, TEA, MATE AND SPICES.   35.48   \n",
       "4      11  PRODUCTS OF THE MILLING INDUSTRY; MALT; STARCH...     NaN   \n",
       "\n",
       "           Country  Year  \n",
       "0  AFGHANISTAN TIS  2018  \n",
       "1  AFGHANISTAN TIS  2018  \n",
       "2  AFGHANISTAN TIS  2018  \n",
       "3  AFGHANISTAN TIS  2018  \n",
       "4  AFGHANISTAN TIS  2018  "
      ]
     },
     "execution_count": 29,
     "metadata": {},
     "output_type": "execute_result"
    }
   ],
   "source": [
    "imp=pd.read_csv(\"import.csv\")\n",
    "imp.head()"
   ]
  },
  {
   "cell_type": "markdown",
   "id": "4917f5e8",
   "metadata": {},
   "source": [
    "###### Using sort_values() function to sort dataset based on Year --> 2010-2018"
   ]
  },
  {
   "cell_type": "code",
   "execution_count": 30,
   "id": "64ba8f46",
   "metadata": {},
   "outputs": [],
   "source": [
    "imp.sort_values([\"Year\"],inplace=True)"
   ]
  },
  {
   "cell_type": "markdown",
   "id": "4bba05d8",
   "metadata": {},
   "source": [
    "###### Using .head() to view the first 5 rows of the dataset"
   ]
  },
  {
   "cell_type": "code",
   "execution_count": 31,
   "id": "cdf21f74",
   "metadata": {},
   "outputs": [
    {
     "data": {
      "text/html": [
       "<div>\n",
       "<style scoped>\n",
       "    .dataframe tbody tr th:only-of-type {\n",
       "        vertical-align: middle;\n",
       "    }\n",
       "\n",
       "    .dataframe tbody tr th {\n",
       "        vertical-align: top;\n",
       "    }\n",
       "\n",
       "    .dataframe thead th {\n",
       "        text-align: right;\n",
       "    }\n",
       "</style>\n",
       "<table border=\"1\" class=\"dataframe\">\n",
       "  <thead>\n",
       "    <tr style=\"text-align: right;\">\n",
       "      <th></th>\n",
       "      <th>HSCode</th>\n",
       "      <th>Commodity</th>\n",
       "      <th>Value</th>\n",
       "      <th>Country</th>\n",
       "      <th>Year</th>\n",
       "    </tr>\n",
       "  </thead>\n",
       "  <tbody>\n",
       "    <tr>\n",
       "      <th>76123</th>\n",
       "      <td>99</td>\n",
       "      <td>MISCELLANEOUS GOODS.</td>\n",
       "      <td>NaN</td>\n",
       "      <td>ZIMBABWE</td>\n",
       "      <td>2010</td>\n",
       "    </tr>\n",
       "    <tr>\n",
       "      <th>70645</th>\n",
       "      <td>47</td>\n",
       "      <td>PULP OF WOOD OR OF OTHER FIBROUS CELLULOSIC MA...</td>\n",
       "      <td>0.44</td>\n",
       "      <td>HONG KONG</td>\n",
       "      <td>2010</td>\n",
       "    </tr>\n",
       "    <tr>\n",
       "      <th>70646</th>\n",
       "      <td>48</td>\n",
       "      <td>PAPER AND PAPERBOARD; ARTICLES OF PAPER PULP, ...</td>\n",
       "      <td>36.41</td>\n",
       "      <td>HONG KONG</td>\n",
       "      <td>2010</td>\n",
       "    </tr>\n",
       "    <tr>\n",
       "      <th>70647</th>\n",
       "      <td>49</td>\n",
       "      <td>PRINTED BOOKDS, NEWSPAPERS, PICTURES AND OTHER...</td>\n",
       "      <td>93.80</td>\n",
       "      <td>HONG KONG</td>\n",
       "      <td>2010</td>\n",
       "    </tr>\n",
       "    <tr>\n",
       "      <th>70648</th>\n",
       "      <td>50</td>\n",
       "      <td>SILK</td>\n",
       "      <td>2.14</td>\n",
       "      <td>HONG KONG</td>\n",
       "      <td>2010</td>\n",
       "    </tr>\n",
       "  </tbody>\n",
       "</table>\n",
       "</div>"
      ],
      "text/plain": [
       "       HSCode                                          Commodity  Value  \\\n",
       "76123      99                               MISCELLANEOUS GOODS.    NaN   \n",
       "70645      47  PULP OF WOOD OR OF OTHER FIBROUS CELLULOSIC MA...   0.44   \n",
       "70646      48  PAPER AND PAPERBOARD; ARTICLES OF PAPER PULP, ...  36.41   \n",
       "70647      49  PRINTED BOOKDS, NEWSPAPERS, PICTURES AND OTHER...  93.80   \n",
       "70648      50                                               SILK   2.14   \n",
       "\n",
       "         Country  Year  \n",
       "76123   ZIMBABWE  2010  \n",
       "70645  HONG KONG  2010  \n",
       "70646  HONG KONG  2010  \n",
       "70647  HONG KONG  2010  \n",
       "70648  HONG KONG  2010  "
      ]
     },
     "execution_count": 31,
     "metadata": {},
     "output_type": "execute_result"
    }
   ],
   "source": [
    "imp.head()"
   ]
  },
  {
   "cell_type": "markdown",
   "id": "854d8269",
   "metadata": {},
   "source": [
    "###### Using .tail() function to view the bottom 5 rows of the dataset"
   ]
  },
  {
   "cell_type": "code",
   "execution_count": 32,
   "id": "c2ded1ac",
   "metadata": {},
   "outputs": [
    {
     "data": {
      "text/html": [
       "<div>\n",
       "<style scoped>\n",
       "    .dataframe tbody tr th:only-of-type {\n",
       "        vertical-align: middle;\n",
       "    }\n",
       "\n",
       "    .dataframe tbody tr th {\n",
       "        vertical-align: top;\n",
       "    }\n",
       "\n",
       "    .dataframe thead th {\n",
       "        text-align: right;\n",
       "    }\n",
       "</style>\n",
       "<table border=\"1\" class=\"dataframe\">\n",
       "  <thead>\n",
       "    <tr style=\"text-align: right;\">\n",
       "      <th></th>\n",
       "      <th>HSCode</th>\n",
       "      <th>Commodity</th>\n",
       "      <th>Value</th>\n",
       "      <th>Country</th>\n",
       "      <th>Year</th>\n",
       "    </tr>\n",
       "  </thead>\n",
       "  <tbody>\n",
       "    <tr>\n",
       "      <th>5771</th>\n",
       "      <td>29</td>\n",
       "      <td>ORGANIC CHEMICALS</td>\n",
       "      <td>0.31</td>\n",
       "      <td>PERU</td>\n",
       "      <td>2018</td>\n",
       "    </tr>\n",
       "    <tr>\n",
       "      <th>5772</th>\n",
       "      <td>30</td>\n",
       "      <td>PHARMACEUTICAL PRODUCTS</td>\n",
       "      <td>0.12</td>\n",
       "      <td>PERU</td>\n",
       "      <td>2018</td>\n",
       "    </tr>\n",
       "    <tr>\n",
       "      <th>5773</th>\n",
       "      <td>31</td>\n",
       "      <td>FERTILISERS.</td>\n",
       "      <td>NaN</td>\n",
       "      <td>PERU</td>\n",
       "      <td>2018</td>\n",
       "    </tr>\n",
       "    <tr>\n",
       "      <th>5759</th>\n",
       "      <td>12</td>\n",
       "      <td>OIL SEEDS AND OLEA. FRUITS; MISC. GRAINS, SEED...</td>\n",
       "      <td>0.02</td>\n",
       "      <td>PERU</td>\n",
       "      <td>2018</td>\n",
       "    </tr>\n",
       "    <tr>\n",
       "      <th>0</th>\n",
       "      <td>5</td>\n",
       "      <td>PRODUCTS OF ANIMAL ORIGIN, NOT ELSEWHERE SPECI...</td>\n",
       "      <td>0.00</td>\n",
       "      <td>AFGHANISTAN TIS</td>\n",
       "      <td>2018</td>\n",
       "    </tr>\n",
       "  </tbody>\n",
       "</table>\n",
       "</div>"
      ],
      "text/plain": [
       "      HSCode                                          Commodity  Value  \\\n",
       "5771      29                                  ORGANIC CHEMICALS   0.31   \n",
       "5772      30                            PHARMACEUTICAL PRODUCTS   0.12   \n",
       "5773      31                                       FERTILISERS.    NaN   \n",
       "5759      12  OIL SEEDS AND OLEA. FRUITS; MISC. GRAINS, SEED...   0.02   \n",
       "0          5  PRODUCTS OF ANIMAL ORIGIN, NOT ELSEWHERE SPECI...   0.00   \n",
       "\n",
       "              Country  Year  \n",
       "5771             PERU  2018  \n",
       "5772             PERU  2018  \n",
       "5773             PERU  2018  \n",
       "5759             PERU  2018  \n",
       "0     AFGHANISTAN TIS  2018  "
      ]
     },
     "execution_count": 32,
     "metadata": {},
     "output_type": "execute_result"
    }
   ],
   "source": [
    "imp.tail()"
   ]
  },
  {
   "cell_type": "markdown",
   "id": "e75a64e5",
   "metadata": {},
   "source": [
    "###### Usinf the .info() function to find additional information about the dataser-total number of rows and columns, dtype, etc"
   ]
  },
  {
   "cell_type": "code",
   "execution_count": 33,
   "id": "b4e42cb7",
   "metadata": {},
   "outputs": [
    {
     "name": "stdout",
     "output_type": "stream",
     "text": [
      "<class 'pandas.core.frame.DataFrame'>\n",
      "Int64Index: 76124 entries, 76123 to 0\n",
      "Data columns (total 5 columns):\n",
      " #   Column     Non-Null Count  Dtype  \n",
      "---  ------     --------------  -----  \n",
      " 0   HSCode     76124 non-null  int64  \n",
      " 1   Commodity  76124 non-null  object \n",
      " 2   Value      64536 non-null  float64\n",
      " 3   Country    76124 non-null  object \n",
      " 4   Year       76124 non-null  int64  \n",
      "dtypes: float64(1), int64(2), object(2)\n",
      "memory usage: 3.5+ MB\n"
     ]
    }
   ],
   "source": [
    "imp.info()"
   ]
  },
  {
   "cell_type": "markdown",
   "id": "65105f55",
   "metadata": {},
   "source": [
    "###### Using .shape to get a tuple of (Rows,Columns) in dataset"
   ]
  },
  {
   "cell_type": "code",
   "execution_count": 34,
   "id": "ec50758f",
   "metadata": {},
   "outputs": [
    {
     "data": {
      "text/plain": [
       "(76124, 5)"
      ]
     },
     "execution_count": 34,
     "metadata": {},
     "output_type": "execute_result"
    }
   ],
   "source": [
    "imp.shape"
   ]
  },
  {
   "cell_type": "markdown",
   "id": "a7c62799",
   "metadata": {},
   "source": [
    "###### Using Description function to get details about dataset-mean, standard deviation, max value,min value, quartiles"
   ]
  },
  {
   "cell_type": "code",
   "execution_count": 35,
   "id": "4f6724ef",
   "metadata": {},
   "outputs": [
    {
     "data": {
      "text/html": [
       "<div>\n",
       "<style scoped>\n",
       "    .dataframe tbody tr th:only-of-type {\n",
       "        vertical-align: middle;\n",
       "    }\n",
       "\n",
       "    .dataframe tbody tr th {\n",
       "        vertical-align: top;\n",
       "    }\n",
       "\n",
       "    .dataframe thead th {\n",
       "        text-align: right;\n",
       "    }\n",
       "</style>\n",
       "<table border=\"1\" class=\"dataframe\">\n",
       "  <thead>\n",
       "    <tr style=\"text-align: right;\">\n",
       "      <th></th>\n",
       "      <th>HSCode</th>\n",
       "      <th>Value</th>\n",
       "      <th>Year</th>\n",
       "    </tr>\n",
       "  </thead>\n",
       "  <tbody>\n",
       "    <tr>\n",
       "      <th>count</th>\n",
       "      <td>76124.000000</td>\n",
       "      <td>64536.000000</td>\n",
       "      <td>76124.000000</td>\n",
       "    </tr>\n",
       "    <tr>\n",
       "      <th>mean</th>\n",
       "      <td>53.905023</td>\n",
       "      <td>62.361425</td>\n",
       "      <td>2014.018299</td>\n",
       "    </tr>\n",
       "    <tr>\n",
       "      <th>std</th>\n",
       "      <td>27.546852</td>\n",
       "      <td>666.327177</td>\n",
       "      <td>2.579385</td>\n",
       "    </tr>\n",
       "    <tr>\n",
       "      <th>min</th>\n",
       "      <td>1.000000</td>\n",
       "      <td>0.000000</td>\n",
       "      <td>2010.000000</td>\n",
       "    </tr>\n",
       "    <tr>\n",
       "      <th>25%</th>\n",
       "      <td>30.000000</td>\n",
       "      <td>0.030000</td>\n",
       "      <td>2012.000000</td>\n",
       "    </tr>\n",
       "    <tr>\n",
       "      <th>50%</th>\n",
       "      <td>54.000000</td>\n",
       "      <td>0.370000</td>\n",
       "      <td>2014.000000</td>\n",
       "    </tr>\n",
       "    <tr>\n",
       "      <th>75%</th>\n",
       "      <td>78.000000</td>\n",
       "      <td>4.780000</td>\n",
       "      <td>2016.000000</td>\n",
       "    </tr>\n",
       "    <tr>\n",
       "      <th>max</th>\n",
       "      <td>99.000000</td>\n",
       "      <td>32781.570000</td>\n",
       "      <td>2018.000000</td>\n",
       "    </tr>\n",
       "  </tbody>\n",
       "</table>\n",
       "</div>"
      ],
      "text/plain": [
       "             HSCode         Value          Year\n",
       "count  76124.000000  64536.000000  76124.000000\n",
       "mean      53.905023     62.361425   2014.018299\n",
       "std       27.546852    666.327177      2.579385\n",
       "min        1.000000      0.000000   2010.000000\n",
       "25%       30.000000      0.030000   2012.000000\n",
       "50%       54.000000      0.370000   2014.000000\n",
       "75%       78.000000      4.780000   2016.000000\n",
       "max       99.000000  32781.570000   2018.000000"
      ]
     },
     "execution_count": 35,
     "metadata": {},
     "output_type": "execute_result"
    }
   ],
   "source": [
    "imp.describe()"
   ]
  },
  {
   "cell_type": "code",
   "execution_count": 36,
   "id": "12222794",
   "metadata": {},
   "outputs": [
    {
     "data": {
      "text/plain": [
       "0.37"
      ]
     },
     "execution_count": 36,
     "metadata": {},
     "output_type": "execute_result"
    }
   ],
   "source": [
    "y=imp[\"Value\"].median()\n",
    "y"
   ]
  },
  {
   "cell_type": "markdown",
   "id": "7a128788",
   "metadata": {},
   "source": [
    "###### We will use .isna() and sum() function to find existance of any NaN values in dataset"
   ]
  },
  {
   "cell_type": "code",
   "execution_count": 37,
   "id": "4fb32b18",
   "metadata": {},
   "outputs": [
    {
     "data": {
      "text/plain": [
       "HSCode           0\n",
       "Commodity        0\n",
       "Value        11588\n",
       "Country          0\n",
       "Year             0\n",
       "dtype: int64"
      ]
     },
     "execution_count": 37,
     "metadata": {},
     "output_type": "execute_result"
    }
   ],
   "source": [
    "imp.isna().sum()"
   ]
  },
  {
   "cell_type": "markdown",
   "id": "5a3251c0",
   "metadata": {},
   "source": [
    "###### To deal with NaN values we will use .fillna() function but prior to that we will check dataset for Skewness"
   ]
  },
  {
   "cell_type": "markdown",
   "id": "50374cd6",
   "metadata": {},
   "source": [
    "###### For Value Mean > Median thus there exists Positive Skewness in Value:We will use Median value for .fillna()"
   ]
  },
  {
   "cell_type": "code",
   "execution_count": 38,
   "id": "f760ecae",
   "metadata": {},
   "outputs": [],
   "source": [
    "imp=imp.fillna(y)"
   ]
  },
  {
   "cell_type": "code",
   "execution_count": 39,
   "id": "fe51abbc",
   "metadata": {},
   "outputs": [
    {
     "data": {
      "text/plain": [
       "HSCode       0\n",
       "Commodity    0\n",
       "Value        0\n",
       "Country      0\n",
       "Year         0\n",
       "dtype: int64"
      ]
     },
     "execution_count": 39,
     "metadata": {},
     "output_type": "execute_result"
    }
   ],
   "source": [
    "imp.isna().sum()"
   ]
  },
  {
   "cell_type": "code",
   "execution_count": 40,
   "id": "24ec5465",
   "metadata": {},
   "outputs": [
    {
     "data": {
      "text/html": [
       "<div>\n",
       "<style scoped>\n",
       "    .dataframe tbody tr th:only-of-type {\n",
       "        vertical-align: middle;\n",
       "    }\n",
       "\n",
       "    .dataframe tbody tr th {\n",
       "        vertical-align: top;\n",
       "    }\n",
       "\n",
       "    .dataframe thead th {\n",
       "        text-align: right;\n",
       "    }\n",
       "</style>\n",
       "<table border=\"1\" class=\"dataframe\">\n",
       "  <thead>\n",
       "    <tr style=\"text-align: right;\">\n",
       "      <th></th>\n",
       "      <th>HSCode</th>\n",
       "      <th>Value</th>\n",
       "      <th>Year</th>\n",
       "    </tr>\n",
       "  </thead>\n",
       "  <tbody>\n",
       "    <tr>\n",
       "      <th>count</th>\n",
       "      <td>76124.000000</td>\n",
       "      <td>76124.000000</td>\n",
       "      <td>76124.000000</td>\n",
       "    </tr>\n",
       "    <tr>\n",
       "      <th>mean</th>\n",
       "      <td>53.905023</td>\n",
       "      <td>52.924761</td>\n",
       "      <td>2014.018299</td>\n",
       "    </tr>\n",
       "    <tr>\n",
       "      <th>std</th>\n",
       "      <td>27.546852</td>\n",
       "      <td>613.921948</td>\n",
       "      <td>2.579385</td>\n",
       "    </tr>\n",
       "    <tr>\n",
       "      <th>min</th>\n",
       "      <td>1.000000</td>\n",
       "      <td>0.000000</td>\n",
       "      <td>2010.000000</td>\n",
       "    </tr>\n",
       "    <tr>\n",
       "      <th>25%</th>\n",
       "      <td>30.000000</td>\n",
       "      <td>0.040000</td>\n",
       "      <td>2012.000000</td>\n",
       "    </tr>\n",
       "    <tr>\n",
       "      <th>50%</th>\n",
       "      <td>54.000000</td>\n",
       "      <td>0.370000</td>\n",
       "      <td>2014.000000</td>\n",
       "    </tr>\n",
       "    <tr>\n",
       "      <th>75%</th>\n",
       "      <td>78.000000</td>\n",
       "      <td>2.880000</td>\n",
       "      <td>2016.000000</td>\n",
       "    </tr>\n",
       "    <tr>\n",
       "      <th>max</th>\n",
       "      <td>99.000000</td>\n",
       "      <td>32781.570000</td>\n",
       "      <td>2018.000000</td>\n",
       "    </tr>\n",
       "  </tbody>\n",
       "</table>\n",
       "</div>"
      ],
      "text/plain": [
       "             HSCode         Value          Year\n",
       "count  76124.000000  76124.000000  76124.000000\n",
       "mean      53.905023     52.924761   2014.018299\n",
       "std       27.546852    613.921948      2.579385\n",
       "min        1.000000      0.000000   2010.000000\n",
       "25%       30.000000      0.040000   2012.000000\n",
       "50%       54.000000      0.370000   2014.000000\n",
       "75%       78.000000      2.880000   2016.000000\n",
       "max       99.000000  32781.570000   2018.000000"
      ]
     },
     "execution_count": 40,
     "metadata": {},
     "output_type": "execute_result"
    }
   ],
   "source": [
    "imp.describe()"
   ]
  },
  {
   "cell_type": "code",
   "execution_count": 41,
   "id": "bc4e237b",
   "metadata": {},
   "outputs": [
    {
     "data": {
      "text/html": [
       "<div>\n",
       "<style scoped>\n",
       "    .dataframe tbody tr th:only-of-type {\n",
       "        vertical-align: middle;\n",
       "    }\n",
       "\n",
       "    .dataframe tbody tr th {\n",
       "        vertical-align: top;\n",
       "    }\n",
       "\n",
       "    .dataframe thead th {\n",
       "        text-align: right;\n",
       "    }\n",
       "</style>\n",
       "<table border=\"1\" class=\"dataframe\">\n",
       "  <thead>\n",
       "    <tr style=\"text-align: right;\">\n",
       "      <th></th>\n",
       "      <th>Commodity</th>\n",
       "      <th>Country</th>\n",
       "    </tr>\n",
       "  </thead>\n",
       "  <tbody>\n",
       "    <tr>\n",
       "      <th>count</th>\n",
       "      <td>76124</td>\n",
       "      <td>76124</td>\n",
       "    </tr>\n",
       "    <tr>\n",
       "      <th>unique</th>\n",
       "      <td>98</td>\n",
       "      <td>242</td>\n",
       "    </tr>\n",
       "    <tr>\n",
       "      <th>top</th>\n",
       "      <td>ELECTRICAL MACHINERY AND EQUIPMENT AND PARTS T...</td>\n",
       "      <td>BELGIUM</td>\n",
       "    </tr>\n",
       "    <tr>\n",
       "      <th>freq</th>\n",
       "      <td>1778</td>\n",
       "      <td>953</td>\n",
       "    </tr>\n",
       "  </tbody>\n",
       "</table>\n",
       "</div>"
      ],
      "text/plain": [
       "                                                Commodity  Country\n",
       "count                                               76124    76124\n",
       "unique                                                 98      242\n",
       "top     ELECTRICAL MACHINERY AND EQUIPMENT AND PARTS T...  BELGIUM\n",
       "freq                                                 1778      953"
      ]
     },
     "execution_count": 41,
     "metadata": {},
     "output_type": "execute_result"
    }
   ],
   "source": [
    "imp.describe(include=[\"object\"])"
   ]
  },
  {
   "cell_type": "markdown",
   "id": "1ea1820d",
   "metadata": {},
   "source": [
    "###### Using .nunique() function to find the total number of Unique Commodities being imported in India"
   ]
  },
  {
   "cell_type": "code",
   "execution_count": 42,
   "id": "91d55b15",
   "metadata": {},
   "outputs": [
    {
     "data": {
      "text/plain": [
       "98"
      ]
     },
     "execution_count": 42,
     "metadata": {},
     "output_type": "execute_result"
    }
   ],
   "source": [
    "imp[\"Commodity\"].nunique()"
   ]
  },
  {
   "cell_type": "markdown",
   "id": "cdf118df",
   "metadata": {},
   "source": [
    "###### Finding the top 5 commodities with maximum frequency of Import from different countries during the period of 2010-2018"
   ]
  },
  {
   "cell_type": "code",
   "execution_count": 43,
   "id": "fdbfd51f",
   "metadata": {},
   "outputs": [
    {
     "data": {
      "text/plain": [
       "ELECTRICAL MACHINERY AND EQUIPMENT AND PARTS THEREOF; SOUND RECORDERS AND REPRODUCERS, TELEVISION IMAGE AND SOUND RECORDERS AND REPRODUCERS,AND PARTS.    1778\n",
       "NUCLEAR REACTORS, BOILERS, MACHINERY AND MECHANICAL APPLIANCES; PARTS THEREOF.                                                                            1711\n",
       "MISCELLANEOUS GOODS.                                                                                                                                      1533\n",
       "PLASTIC AND ARTICLES THEREOF.                                                                                                                             1525\n",
       "IRON AND STEEL                                                                                                                                            1502\n",
       "Name: Commodity, dtype: int64"
      ]
     },
     "execution_count": 43,
     "metadata": {},
     "output_type": "execute_result"
    }
   ],
   "source": [
    "imp[\"Commodity\"].value_counts().head()"
   ]
  },
  {
   "cell_type": "markdown",
   "id": "9401bb2c",
   "metadata": {},
   "source": [
    "###### Using the .nunique() function to find the total number of Unique trade partners of India from which India imports goods"
   ]
  },
  {
   "cell_type": "code",
   "execution_count": 44,
   "id": "292e61af",
   "metadata": {},
   "outputs": [
    {
     "data": {
      "text/plain": [
       "242"
      ]
     },
     "execution_count": 44,
     "metadata": {},
     "output_type": "execute_result"
    }
   ],
   "source": [
    "imp[\"Country\"].nunique()"
   ]
  },
  {
   "cell_type": "markdown",
   "id": "24cb2251",
   "metadata": {},
   "source": [
    "###### Using .groupby() function to find the sum of imports made by India from 2010-2018"
   ]
  },
  {
   "cell_type": "code",
   "execution_count": 45,
   "id": "9f5aaf38",
   "metadata": {},
   "outputs": [
    {
     "data": {
      "text/plain": [
       "Year\n",
       "2010    370147.79\n",
       "2011    489803.17\n",
       "2012    491299.13\n",
       "2013    450688.05\n",
       "2014    448485.06\n",
       "2015    413062.19\n",
       "2016    384811.31\n",
       "2017    466009.88\n",
       "2018    514537.90\n",
       "Name: Value, dtype: float64"
      ]
     },
     "execution_count": 45,
     "metadata": {},
     "output_type": "execute_result"
    }
   ],
   "source": [
    "imp.groupby([\"Year\"]).Value.sum()"
   ]
  },
  {
   "cell_type": "code",
   "execution_count": 46,
   "id": "d48d24d3",
   "metadata": {},
   "outputs": [
    {
     "data": {
      "image/png": "[encoded data removed]",
      "text/plain": [
       "<Figure size 432x288 with 1 Axes>"
      ]
     },
     "metadata": {
      "needs_background": "light"
     },
     "output_type": "display_data"
    }
   ],
   "source": [
    "k=imp[\"Year\"].unique()\n",
    "j=imp.groupby([\"Year\"]).Value.sum().unique()\n",
    "plt.bar(k,j,color=\"green\")\n",
    "plt.show()"
   ]
  },
  {
   "cell_type": "markdown",
   "id": "62147ec7",
   "metadata": {},
   "source": [
    "###### Finding the total Imports by India from 2010-2014"
   ]
  },
  {
   "cell_type": "code",
   "execution_count": 47,
   "id": "220e1e41",
   "metadata": {},
   "outputs": [
    {
     "data": {
      "text/plain": [
       "1778421.28"
      ]
     },
     "execution_count": 47,
     "metadata": {},
     "output_type": "execute_result"
    }
   ],
   "source": [
    "imp[imp[\"Year\"]>2014][\"Value\"].sum()"
   ]
  },
  {
   "cell_type": "markdown",
   "id": "c8be4e66",
   "metadata": {},
   "source": [
    "###### Finding the total Imports by India from 2015-2018"
   ]
  },
  {
   "cell_type": "code",
   "execution_count": 48,
   "id": "3f94e48b",
   "metadata": {},
   "outputs": [
    {
     "data": {
      "text/plain": [
       "1801938.14"
      ]
     },
     "execution_count": 48,
     "metadata": {},
     "output_type": "execute_result"
    }
   ],
   "source": [
    "imp[imp[\"Year\"]<2014][\"Value\"].sum()"
   ]
  },
  {
   "cell_type": "markdown",
   "id": "12cf68b6",
   "metadata": {},
   "source": [
    "###### Finding the name of the country from which India imports maximum over the period of 2010-2018"
   ]
  },
  {
   "cell_type": "code",
   "execution_count": 49,
   "id": "4bf1c74b",
   "metadata": {},
   "outputs": [
    {
     "data": {
      "text/plain": [
       "'CHINA P RP'"
      ]
     },
     "execution_count": 49,
     "metadata": {},
     "output_type": "execute_result"
    }
   ],
   "source": [
    "imp.groupby([\"Country\"]).Value.sum().sort_values(ascending=False).idxmax()"
   ]
  },
  {
   "cell_type": "markdown",
   "id": "85d4e13e",
   "metadata": {},
   "source": [
    "###### Finding the 5 countries that dominate Indian imports"
   ]
  },
  {
   "cell_type": "code",
   "execution_count": 50,
   "id": "9bdc6a9a",
   "metadata": {},
   "outputs": [
    {
     "data": {
      "text/plain": [
       "Country\n",
       "CHINA P RP     532179.36\n",
       "U ARAB EMTS    256296.07\n",
       "SAUDI ARAB     241583.48\n",
       "U S A          219278.51\n",
       "SWITZERLAND    206744.20\n",
       "Name: Value, dtype: float64"
      ]
     },
     "execution_count": 50,
     "metadata": {},
     "output_type": "execute_result"
    }
   ],
   "source": [
    "imp.groupby([\"Country\"]).Value.sum().sort_values(ascending=False).head()"
   ]
  },
  {
   "cell_type": "code",
   "execution_count": 51,
   "id": "b6ec1af1",
   "metadata": {},
   "outputs": [
    {
     "data": {
      "image/png": "[encoded data removed]",
      "text/plain": [
       "<Figure size 432x288 with 1 Axes>"
      ]
     },
     "metadata": {
      "needs_background": "light"
     },
     "output_type": "display_data"
    }
   ],
   "source": [
    "imp.groupby([\"Country\"]).Value.sum().sort_values(ascending=False).head().plot(kind=\"barh\",color=\"red\")\n",
    "plt.show()"
   ]
  },
  {
   "cell_type": "code",
   "execution_count": 52,
   "id": "0a7a1656",
   "metadata": {},
   "outputs": [
    {
     "data": {
      "image/png": "[encoded data removed]",
      "text/plain": [
       "<Figure size 864x504 with 1 Axes>"
      ]
     },
     "metadata": {},
     "output_type": "display_data"
    }
   ],
   "source": [
    "plt.figure(figsize=(12,7))\n",
    "imp.groupby([\"Country\"]).Value.sum().sort_values(ascending=False).head().plot.pie(autopct=\"%1.2f%%\")\n",
    "plt.title(\"Countries that account for top 5 Indian Imports\")\n",
    "plt.axis(\"off\")\n",
    "plt.show()"
   ]
  },
  {
   "cell_type": "markdown",
   "id": "dd085ab4",
   "metadata": {},
   "source": [
    "###### Finding the name of the country from India imports the least over the period of 2010-2018"
   ]
  },
  {
   "cell_type": "code",
   "execution_count": 53,
   "id": "8717844f",
   "metadata": {},
   "outputs": [
    {
     "data": {
      "text/plain": [
       "Country\n",
       "FR S ANT TR                  2.25\n",
       "GUERNSEY                     1.11\n",
       "CURACAO                      0.73\n",
       "SINT MAARTEN (DUTCH PART)    0.37\n",
       "JERSEY                       0.36\n",
       "Name: Value, dtype: float64"
      ]
     },
     "execution_count": 53,
     "metadata": {},
     "output_type": "execute_result"
    }
   ],
   "source": [
    "exp.groupby([\"Country\"]).Value.sum().sort_values(ascending=False).tail()"
   ]
  },
  {
   "cell_type": "code",
   "execution_count": 54,
   "id": "127ac3f8",
   "metadata": {},
   "outputs": [
    {
     "data": {
      "image/png": "[encoded data removed]",
      "text/plain": [
       "<Figure size 432x288 with 1 Axes>"
      ]
     },
     "metadata": {
      "needs_background": "light"
     },
     "output_type": "display_data"
    }
   ],
   "source": [
    "exp.groupby([\"Country\"]).Value.sum().sort_values(ascending=False).tail().plot(kind=\"barh\")\n",
    "plt.show()"
   ]
  },
  {
   "cell_type": "code",
   "execution_count": null,
   "id": "237a84ce",
   "metadata": {},
   "outputs": [],
   "source": []
  }
 ],
 "metadata": {
  "kernelspec": {
   "display_name": "Python 3",
   "language": "python",
   "name": "python3"
  },
  "language_info": {
   "codemirror_mode": {
    "name": "ipython",
    "version": 3
   },
   "file_extension": ".py",
   "mimetype": "text/x-python",
   "name": "python",
   "nbconvert_exporter": "python",
   "pygments_lexer": "ipython3",
   "version": "3.8.8"
  }
 },
 "nbformat": 4,
 "nbformat_minor": 5
}
