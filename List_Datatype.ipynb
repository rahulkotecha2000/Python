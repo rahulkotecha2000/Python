{
 "cells": [
  {
   "cell_type": "markdown",
   "id": "f408dea6",
   "metadata": {},
   "source": [
    "# List Datatype- Operations and Methods"
   ]
  },
  {
   "cell_type": "markdown",
   "id": "8187f9d0",
   "metadata": {},
   "source": [
    "- A List is/ belongs to Mutable Datatype, which means that the value of a List can be changed post its initial assignment.\n",
    "- A list datatype can be defined as a collection of values of similar or different datatype that are seperated by a comma (\",\") and surrounded by square parenthesis(\"[ ]\")."
   ]
  },
  {
   "cell_type": "markdown",
   "id": "0c319660",
   "metadata": {},
   "source": [
    "### List Operations"
   ]
  },
  {
   "cell_type": "markdown",
   "id": "f3dc56f9",
   "metadata": {},
   "source": [
    "###### Concatenation"
   ]
  },
  {
   "cell_type": "code",
   "execution_count": 1,
   "id": "07a26c95",
   "metadata": {},
   "outputs": [],
   "source": [
    "a1=[\"riding beneath a moonless sky tonight\",\"across the land corrupted in dark light\"]\n",
    "a2=[\"dragons flying in front of stunned eyes\"]"
   ]
  },
  {
   "cell_type": "code",
   "execution_count": 2,
   "id": "2dedbc72",
   "metadata": {},
   "outputs": [
    {
     "name": "stdout",
     "output_type": "stream",
     "text": [
      "['riding beneath a moonless sky tonight', 'across the land corrupted in dark light', 'dragons flying in front of stunned eyes']\n"
     ]
    }
   ],
   "source": [
    "print(a1+a2)"
   ]
  },
  {
   "cell_type": "markdown",
   "id": "5a65911d",
   "metadata": {},
   "source": [
    "###### Indexation"
   ]
  },
  {
   "cell_type": "code",
   "execution_count": 3,
   "id": "3c74d0f1",
   "metadata": {},
   "outputs": [],
   "source": [
    "b1=[1,2,3,4,5,6,7,8,9,10,112,44,66,3,4,88,3,222,7888,33,556,23]"
   ]
  },
  {
   "cell_type": "code",
   "execution_count": 4,
   "id": "dd16aa14",
   "metadata": {},
   "outputs": [
    {
     "name": "stdout",
     "output_type": "stream",
     "text": [
      "Position 0 in list b1-->1\n",
      "Position 5 in list b1-->6\n",
      "Position 13 in list b1-->66\n"
     ]
    }
   ],
   "source": [
    "print(f\"Position 0 in list b1-->{b1[0]}\")\n",
    "print(f\"Position 5 in list b1-->{b1[5]}\")\n",
    "print(f\"Position 13 in list b1-->{b1[12]}\")"
   ]
  },
  {
   "cell_type": "markdown",
   "id": "8720794e",
   "metadata": {},
   "source": [
    "###### Replication"
   ]
  },
  {
   "cell_type": "code",
   "execution_count": 5,
   "id": "ddc86349",
   "metadata": {},
   "outputs": [],
   "source": [
    "c1=[\"a\",\"b\",\"c\",\"d\"]"
   ]
  },
  {
   "cell_type": "code",
   "execution_count": 6,
   "id": "11533dda",
   "metadata": {},
   "outputs": [
    {
     "name": "stdout",
     "output_type": "stream",
     "text": [
      "['a', 'b', 'c', 'd', 'a', 'b', 'c', 'd', 'a', 'b', 'c', 'd', 'a', 'b', 'c', 'd', 'a', 'b', 'c', 'd']\n"
     ]
    }
   ],
   "source": [
    "print(c1*5)"
   ]
  },
  {
   "cell_type": "markdown",
   "id": "9df54078",
   "metadata": {},
   "source": [
    "###### Slicing"
   ]
  },
  {
   "cell_type": "code",
   "execution_count": 7,
   "id": "5e6284c1",
   "metadata": {},
   "outputs": [],
   "source": [
    "d1=[323,\"a\",\"b\",88,33,292,11,\"c\",\"d\",\"5z\"]"
   ]
  },
  {
   "cell_type": "code",
   "execution_count": 8,
   "id": "73a1f162",
   "metadata": {},
   "outputs": [
    {
     "name": "stdout",
     "output_type": "stream",
     "text": [
      "[323, 'b', 33, 11, 'd']\n"
     ]
    }
   ],
   "source": [
    "print(d1[ :-1:2])"
   ]
  },
  {
   "cell_type": "markdown",
   "id": "77f75043",
   "metadata": {},
   "source": [
    "### List Methods"
   ]
  },
  {
   "cell_type": "markdown",
   "id": "dcfe2689",
   "metadata": {},
   "source": [
    "###### Append"
   ]
  },
  {
   "cell_type": "code",
   "execution_count": 9,
   "id": "2de58cbc",
   "metadata": {},
   "outputs": [],
   "source": [
    "e1=[\"I AM the God Thor\"]\n",
    "e2=[\"I am the War God\"]\n",
    "e3=[\"I am the Thunderer!\"]"
   ]
  },
  {
   "cell_type": "code",
   "execution_count": 10,
   "id": "dee28510",
   "metadata": {},
   "outputs": [],
   "source": [
    "e1.append(e2)\n",
    "e1.append(e3)"
   ]
  },
  {
   "cell_type": "code",
   "execution_count": 11,
   "id": "7ee4a43a",
   "metadata": {},
   "outputs": [
    {
     "name": "stdout",
     "output_type": "stream",
     "text": [
      "['I AM the God Thor', ['I am the War God'], ['I am the Thunderer!']]\n"
     ]
    }
   ],
   "source": [
    "print(e1)"
   ]
  },
  {
   "cell_type": "code",
   "execution_count": 12,
   "id": "b4737833",
   "metadata": {},
   "outputs": [],
   "source": [
    "f=[12,24,36,48]"
   ]
  },
  {
   "cell_type": "code",
   "execution_count": 13,
   "id": "8439a0c8",
   "metadata": {},
   "outputs": [
    {
     "name": "stdout",
     "output_type": "stream",
     "text": [
      "[12, 24, 36, 48, 60]\n"
     ]
    }
   ],
   "source": [
    "f.append(60)\n",
    "print(f)"
   ]
  },
  {
   "cell_type": "markdown",
   "id": "b2a98497",
   "metadata": {},
   "source": [
    "###### Extend"
   ]
  },
  {
   "cell_type": "code",
   "execution_count": 14,
   "id": "19a50053",
   "metadata": {},
   "outputs": [],
   "source": [
    "g=[12,24,36,48,60]\n",
    "h=[72,84]"
   ]
  },
  {
   "cell_type": "code",
   "execution_count": 15,
   "id": "fa856cfe",
   "metadata": {},
   "outputs": [
    {
     "name": "stdout",
     "output_type": "stream",
     "text": [
      "[12, 24, 36, 48, 60, 72, 84]\n"
     ]
    }
   ],
   "source": [
    "g.extend(h)\n",
    "print(g)"
   ]
  },
  {
   "cell_type": "markdown",
   "id": "83f1e779",
   "metadata": {},
   "source": [
    "###### Count"
   ]
  },
  {
   "cell_type": "code",
   "execution_count": 16,
   "id": "c2b98f04",
   "metadata": {},
   "outputs": [],
   "source": [
    "i=[10,20,30,40,50,60,70,80,90,100,110,120,130,140,150]"
   ]
  },
  {
   "cell_type": "code",
   "execution_count": 17,
   "id": "933e7600",
   "metadata": {},
   "outputs": [
    {
     "name": "stdout",
     "output_type": "stream",
     "text": [
      "1\n"
     ]
    }
   ],
   "source": [
    "print(i.count(70))"
   ]
  },
  {
   "cell_type": "code",
   "execution_count": 18,
   "id": "cb8c1bfe",
   "metadata": {},
   "outputs": [],
   "source": [
    "j=[1,1,1,1,1,1,1,1,1,2,4,4,4,4,4,4,7,7,7,7,4,4,4,2,2,2,1,1,1,8,8,8,4,4,42,2,2,2,2,1,1,1,5,5,5,6,3,3,22,4,5,5,6,4,3]"
   ]
  },
  {
   "cell_type": "code",
   "execution_count": 19,
   "id": "093f33f1",
   "metadata": {},
   "outputs": [
    {
     "name": "stdout",
     "output_type": "stream",
     "text": [
      "4\n"
     ]
    }
   ],
   "source": [
    "print(j.count(7))"
   ]
  },
  {
   "cell_type": "markdown",
   "id": "637a791b",
   "metadata": {},
   "source": [
    "###### Index"
   ]
  },
  {
   "cell_type": "code",
   "execution_count": 20,
   "id": "49778e03",
   "metadata": {},
   "outputs": [],
   "source": [
    "k=['I', 'AM', 'the', 'God', 'Thor,I', 'am', 'the', 'War', 'God,I', 'am', 'the', 'Thunderer', '!']"
   ]
  },
  {
   "cell_type": "code",
   "execution_count": 21,
   "id": "32437e45",
   "metadata": {},
   "outputs": [
    {
     "name": "stdout",
     "output_type": "stream",
     "text": [
      "I\n"
     ]
    }
   ],
   "source": [
    "print(k[0])"
   ]
  },
  {
   "cell_type": "code",
   "execution_count": 22,
   "id": "7bcca255",
   "metadata": {},
   "outputs": [
    {
     "name": "stdout",
     "output_type": "stream",
     "text": [
      "Thor,I\n"
     ]
    }
   ],
   "source": [
    "print(k[4])"
   ]
  },
  {
   "cell_type": "markdown",
   "id": "0c5b1f9d",
   "metadata": {},
   "source": [
    "###### Insert"
   ]
  },
  {
   "cell_type": "code",
   "execution_count": 23,
   "id": "11729242",
   "metadata": {},
   "outputs": [],
   "source": [
    "l=['I', 'AM', 'the', 'God', 'Thor', 'I', 'am', 'the', 'War', 'God,I', 'am', 'the', 'Thunderer', '!']"
   ]
  },
  {
   "cell_type": "code",
   "execution_count": 24,
   "id": "cf1dbeaa",
   "metadata": {},
   "outputs": [
    {
     "name": "stdout",
     "output_type": "stream",
     "text": [
      "['I', 'AM', 'the', 'Mighty', 'God', 'Thor', 'I', 'am', 'the', 'War', 'God,I', 'am', 'the', 'Thunderer', '!']\n"
     ]
    }
   ],
   "source": [
    "l.insert(3,\"Mighty\")\n",
    "print(l)"
   ]
  },
  {
   "cell_type": "markdown",
   "id": "e481f0ef",
   "metadata": {},
   "source": [
    "###### Pop"
   ]
  },
  {
   "cell_type": "code",
   "execution_count": 25,
   "id": "43b22f5b",
   "metadata": {},
   "outputs": [],
   "source": [
    "m=['I', 'AM', 'the', 'Mighty', 'God', 'Thor', 'I', 'am', 'the', 'War', 'God,I', 'am', 'the', 'Thunderer', '!']"
   ]
  },
  {
   "cell_type": "code",
   "execution_count": 26,
   "id": "fb3c5122",
   "metadata": {},
   "outputs": [
    {
     "name": "stdout",
     "output_type": "stream",
     "text": [
      "!\n"
     ]
    }
   ],
   "source": [
    "print(m.pop()) #If value is not provided the last element in the list is popped out"
   ]
  },
  {
   "cell_type": "code",
   "execution_count": 27,
   "id": "c626b290",
   "metadata": {},
   "outputs": [
    {
     "name": "stdout",
     "output_type": "stream",
     "text": [
      "['I', 'AM', 'the', 'Mighty', 'God', 'Thor', 'I', 'am', 'the', 'War', 'God,I', 'am', 'the', 'Thunderer']\n"
     ]
    }
   ],
   "source": [
    "print(m)"
   ]
  },
  {
   "cell_type": "code",
   "execution_count": 28,
   "id": "a33c6981",
   "metadata": {},
   "outputs": [
    {
     "data": {
      "text/plain": [
       "'Mighty'"
      ]
     },
     "execution_count": 28,
     "metadata": {},
     "output_type": "execute_result"
    }
   ],
   "source": [
    "m.pop(3) #Pop method requires index value of the object to be popped out"
   ]
  },
  {
   "cell_type": "code",
   "execution_count": 29,
   "id": "b566d9a7",
   "metadata": {},
   "outputs": [
    {
     "name": "stdout",
     "output_type": "stream",
     "text": [
      "['I', 'AM', 'the', 'God', 'Thor', 'I', 'am', 'the', 'War', 'God,I', 'am', 'the', 'Thunderer']\n"
     ]
    }
   ],
   "source": [
    "print(m)"
   ]
  },
  {
   "cell_type": "markdown",
   "id": "d3bcc159",
   "metadata": {},
   "source": [
    "###### Remove"
   ]
  },
  {
   "cell_type": "code",
   "execution_count": 30,
   "id": "301f76f4",
   "metadata": {},
   "outputs": [],
   "source": [
    "n=['I', 'AM', 'the', 'Mighty', 'God', 'Thor', 'I', 'am', 'the', 'War', 'God,I', 'am', 'the', 'Thunderer', '!']"
   ]
  },
  {
   "cell_type": "code",
   "execution_count": 31,
   "id": "a40b2a27",
   "metadata": {},
   "outputs": [
    {
     "name": "stdout",
     "output_type": "stream",
     "text": [
      "['I', 'AM', 'the', 'Mighty', 'God', 'Thor', 'I', 'am', 'the', 'War', 'God,I', 'am', 'the', 'Thunderer']\n"
     ]
    }
   ],
   "source": [
    "n.remove(\"!\")\n",
    "print(n)"
   ]
  },
  {
   "cell_type": "code",
   "execution_count": 32,
   "id": "acbdde37",
   "metadata": {},
   "outputs": [
    {
     "name": "stdout",
     "output_type": "stream",
     "text": [
      "['I', 'AM', 'the', 'Mighty', 'God', 'I', 'am', 'the', 'War', 'God,I', 'am', 'the', 'Thunderer']\n"
     ]
    }
   ],
   "source": [
    "n.remove(\"Thor\")\n",
    "print(n)"
   ]
  },
  {
   "cell_type": "markdown",
   "id": "785834fb",
   "metadata": {},
   "source": [
    "###### Reverse"
   ]
  },
  {
   "cell_type": "code",
   "execution_count": 33,
   "id": "60976c34",
   "metadata": {},
   "outputs": [],
   "source": [
    "o=['I', 'AM', 'the', 'Mighty', 'God', 'Thor', 'I', 'am', 'the', 'War', 'God,I', 'am', 'the', 'Thunderer']"
   ]
  },
  {
   "cell_type": "code",
   "execution_count": 34,
   "id": "13951e4f",
   "metadata": {},
   "outputs": [
    {
     "name": "stdout",
     "output_type": "stream",
     "text": [
      "['Thunderer', 'the', 'am', 'God,I', 'War', 'the', 'am', 'I', 'Thor', 'God', 'Mighty', 'the', 'AM', 'I']\n"
     ]
    }
   ],
   "source": [
    "o.reverse()\n",
    "print(o)"
   ]
  },
  {
   "cell_type": "markdown",
   "id": "9e950ebd",
   "metadata": {},
   "source": [
    "###### Sort"
   ]
  },
  {
   "cell_type": "code",
   "execution_count": 35,
   "id": "c792858c",
   "metadata": {},
   "outputs": [],
   "source": [
    "p=[12,26,2,89,33,11,223,108,84]"
   ]
  },
  {
   "cell_type": "code",
   "execution_count": 36,
   "id": "2e35d9ae",
   "metadata": {},
   "outputs": [
    {
     "name": "stdout",
     "output_type": "stream",
     "text": [
      "[2, 11, 12, 26, 33, 84, 89, 108, 223]\n"
     ]
    }
   ],
   "source": [
    "p.sort() #Ascending Order\n",
    "print(p)"
   ]
  },
  {
   "cell_type": "code",
   "execution_count": 37,
   "id": "130bfd80",
   "metadata": {},
   "outputs": [
    {
     "name": "stdout",
     "output_type": "stream",
     "text": [
      "[223, 108, 89, 84, 33, 26, 12, 11, 2]\n"
     ]
    }
   ],
   "source": [
    "p.sort(reverse=True) #Descending Order\n",
    "print(p)"
   ]
  },
  {
   "cell_type": "markdown",
   "id": "17161448",
   "metadata": {},
   "source": [
    "###### Join"
   ]
  },
  {
   "cell_type": "code",
   "execution_count": 38,
   "id": "3c2f490c",
   "metadata": {},
   "outputs": [],
   "source": [
    "q=['I', 'AM', 'the', 'Mighty', 'God', 'Thor', 'I', 'am', 'the', 'War', 'God,I', 'am', 'the', 'Thunderer']\n",
    "r=\"_\"\n",
    "s=\" \""
   ]
  },
  {
   "cell_type": "code",
   "execution_count": 39,
   "id": "5fb81dbf",
   "metadata": {},
   "outputs": [
    {
     "data": {
      "text/plain": [
       "'I_AM_the_Mighty_God_Thor_I_am_the_War_God,I_am_the_Thunderer'"
      ]
     },
     "execution_count": 39,
     "metadata": {},
     "output_type": "execute_result"
    }
   ],
   "source": [
    "r.join(q)"
   ]
  },
  {
   "cell_type": "code",
   "execution_count": 40,
   "id": "2f9caf4c",
   "metadata": {},
   "outputs": [
    {
     "data": {
      "text/plain": [
       "'I AM the Mighty God Thor I am the War God,I am the Thunderer'"
      ]
     },
     "execution_count": 40,
     "metadata": {},
     "output_type": "execute_result"
    }
   ],
   "source": [
    "s.join(q)"
   ]
  },
  {
   "cell_type": "markdown",
   "id": "ac6b8014",
   "metadata": {},
   "source": [
    "###### Copy"
   ]
  },
  {
   "cell_type": "code",
   "execution_count": 41,
   "id": "9965207e",
   "metadata": {},
   "outputs": [],
   "source": [
    "t=['I', 'AM', 'the', 'Mighty', 'God', 'Thor', 'I', 'am', 'the', 'War', 'God,I', 'am', 'the', 'Thunderer']"
   ]
  },
  {
   "cell_type": "code",
   "execution_count": 42,
   "id": "a33591d4",
   "metadata": {},
   "outputs": [
    {
     "name": "stdout",
     "output_type": "stream",
     "text": [
      "['I', 'AM', 'the', 'Mighty', 'God', 'Thor', 'I', 'am', 'the', 'War', 'God,I', 'am', 'the', 'Thunderer']\n"
     ]
    }
   ],
   "source": [
    "u=t.copy()\n",
    "print(u)"
   ]
  },
  {
   "cell_type": "markdown",
   "id": "43f49da2",
   "metadata": {},
   "source": [
    "###### Clear"
   ]
  },
  {
   "cell_type": "code",
   "execution_count": 43,
   "id": "48ed971c",
   "metadata": {},
   "outputs": [],
   "source": [
    "v=['I', 'AM', 'the', 'Mighty', 'God', 'Thor', 'I', 'am', 'the', 'War', 'God,I', 'am', 'the', 'Thunderer']"
   ]
  },
  {
   "cell_type": "code",
   "execution_count": 44,
   "id": "5ea8605a",
   "metadata": {},
   "outputs": [
    {
     "name": "stdout",
     "output_type": "stream",
     "text": [
      "[]\n"
     ]
    }
   ],
   "source": [
    "v.clear()\n",
    "print(v)"
   ]
  }
 ],
 "metadata": {
  "kernelspec": {
   "display_name": "Python 3",
   "language": "python",
   "name": "python3"
  },
  "language_info": {
   "codemirror_mode": {
    "name": "ipython",
    "version": 3
   },
   "file_extension": ".py",
   "mimetype": "text/x-python",
   "name": "python",
   "nbconvert_exporter": "python",
   "pygments_lexer": "ipython3",
   "version": "3.8.8"
  }
 },
 "nbformat": 4,
 "nbformat_minor": 5
}
