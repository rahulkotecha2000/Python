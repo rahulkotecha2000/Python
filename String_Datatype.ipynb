{
 "cells": [
  {
   "cell_type": "markdown",
   "id": "2b2eed0e",
   "metadata": {},
   "source": [
    "# String Datatype- Operations and Methods "
   ]
  },
  {
   "cell_type": "markdown",
   "id": "86dd92ee",
   "metadata": {},
   "source": [
    "- A String as a Datatype in Python Programming language can be defined as a sequence of characters that are surrounded by   Quotation marks.\n",
    "- A String belongs to/ is Immutable datatype, which means that the value of a string cannot be changed post its initial assignment."
   ]
  },
  {
   "cell_type": "markdown",
   "id": "e6feb774",
   "metadata": {},
   "source": [
    "### String Operations"
   ]
  },
  {
   "cell_type": "markdown",
   "id": "caceb028",
   "metadata": {},
   "source": [
    "###### Concatenation"
   ]
  },
  {
   "cell_type": "code",
   "execution_count": 1,
   "id": "0bbc3a1b",
   "metadata": {},
   "outputs": [],
   "source": [
    "mr=\"ak\"\n",
    "mrs=\"47\""
   ]
  },
  {
   "cell_type": "code",
   "execution_count": 2,
   "id": "3e2d5a48",
   "metadata": {},
   "outputs": [
    {
     "name": "stdout",
     "output_type": "stream",
     "text": [
      "ak47\n"
     ]
    }
   ],
   "source": [
    "print(mr+mrs)"
   ]
  },
  {
   "cell_type": "markdown",
   "id": "02ab3ff1",
   "metadata": {},
   "source": [
    "###### Indexation"
   ]
  },
  {
   "cell_type": "code",
   "execution_count": 3,
   "id": "98541638",
   "metadata": {},
   "outputs": [],
   "source": [
    "h8=\"I am the HULK\""
   ]
  },
  {
   "cell_type": "code",
   "execution_count": 4,
   "id": "1802799a",
   "metadata": {},
   "outputs": [
    {
     "name": "stdout",
     "output_type": "stream",
     "text": [
      "I\n"
     ]
    }
   ],
   "source": [
    "print(h8[0])"
   ]
  },
  {
   "cell_type": "code",
   "execution_count": 5,
   "id": "fc8153df",
   "metadata": {},
   "outputs": [
    {
     "name": "stdout",
     "output_type": "stream",
     "text": [
      "K\n"
     ]
    }
   ],
   "source": [
    "print(h8[-1])"
   ]
  },
  {
   "cell_type": "markdown",
   "id": "64a33879",
   "metadata": {},
   "source": [
    "###### Replication"
   ]
  },
  {
   "cell_type": "code",
   "execution_count": 6,
   "id": "ed0486b9",
   "metadata": {},
   "outputs": [],
   "source": [
    "love=\"I Love you 3000 \""
   ]
  },
  {
   "cell_type": "code",
   "execution_count": 7,
   "id": "8b869630",
   "metadata": {},
   "outputs": [
    {
     "name": "stdout",
     "output_type": "stream",
     "text": [
      "I Love you 3000 I Love you 3000 I Love you 3000 I Love you 3000 \n"
     ]
    }
   ],
   "source": [
    "print(love*4)"
   ]
  },
  {
   "cell_type": "markdown",
   "id": "dc9be902",
   "metadata": {},
   "source": [
    "###### Slicing"
   ]
  },
  {
   "cell_type": "code",
   "execution_count": 8,
   "id": "9e383dcd",
   "metadata": {},
   "outputs": [],
   "source": [
    "x2=\"Jack and Jill went up the hillTo fetch a pail of water.Jack fell down and broke his crown,And Jill came tumbling after.\""
   ]
  },
  {
   "cell_type": "code",
   "execution_count": 9,
   "id": "af31e825",
   "metadata": {},
   "outputs": [
    {
     "name": "stdout",
     "output_type": "stream",
     "text": [
      "kadJl et\n"
     ]
    }
   ],
   "source": [
    "print(x2[3:18:2]) #Start:Stop:Step used for Indexation of String elements"
   ]
  },
  {
   "cell_type": "markdown",
   "id": "9f22d2cd",
   "metadata": {},
   "source": [
    "### String Methods"
   ]
  },
  {
   "cell_type": "markdown",
   "id": "46f24a62",
   "metadata": {},
   "source": [
    "###### Find"
   ]
  },
  {
   "cell_type": "code",
   "execution_count": 10,
   "id": "e8aa81bd",
   "metadata": {},
   "outputs": [],
   "source": [
    "a=\"Twinkle twinkle little star How I wonder what you are\""
   ]
  },
  {
   "cell_type": "code",
   "execution_count": 11,
   "id": "9fab6963",
   "metadata": {},
   "outputs": [
    {
     "name": "stdout",
     "output_type": "stream",
     "text": [
      "18\n"
     ]
    }
   ],
   "source": [
    "print(a.find(\"t\",15,25))  #S.find(sub[, start[, end]]) -> int"
   ]
  },
  {
   "cell_type": "markdown",
   "id": "dfca5e77",
   "metadata": {},
   "source": [
    "###### Rfind"
   ]
  },
  {
   "cell_type": "code",
   "execution_count": 12,
   "id": "a135173c",
   "metadata": {},
   "outputs": [],
   "source": [
    "a2=\"Twinkle twinkle little star How I wonder what you are\" #The rfind() method finds the last occurrence of the specified value."
   ]
  },
  {
   "cell_type": "code",
   "execution_count": 13,
   "id": "1644386d",
   "metadata": {},
   "outputs": [
    {
     "name": "stdout",
     "output_type": "stream",
     "text": [
      "8\n"
     ]
    }
   ],
   "source": [
    "print(a2.rfind(\"twinkle\")) #The rfind() method returns -1 if the value is not found."
   ]
  },
  {
   "cell_type": "markdown",
   "id": "93c8cd23",
   "metadata": {},
   "source": [
    "###### Capitalize"
   ]
  },
  {
   "cell_type": "code",
   "execution_count": 14,
   "id": "6ab6f83d",
   "metadata": {},
   "outputs": [],
   "source": [
    "b=\"Twinkle twinkle little star How I wonder what you are\""
   ]
  },
  {
   "cell_type": "code",
   "execution_count": 15,
   "id": "bc37b881",
   "metadata": {},
   "outputs": [
    {
     "name": "stdout",
     "output_type": "stream",
     "text": [
      "Twinkle twinkle little star how i wonder what you are\n"
     ]
    }
   ],
   "source": [
    "print(b.capitalize())"
   ]
  },
  {
   "cell_type": "markdown",
   "id": "b80d6fd8",
   "metadata": {},
   "source": [
    "###### Title"
   ]
  },
  {
   "cell_type": "code",
   "execution_count": 16,
   "id": "e468f0fa",
   "metadata": {},
   "outputs": [],
   "source": [
    "c=\"Twinkle twinkle little star How I wonder what you are\""
   ]
  },
  {
   "cell_type": "code",
   "execution_count": 17,
   "id": "ebfa870a",
   "metadata": {},
   "outputs": [
    {
     "name": "stdout",
     "output_type": "stream",
     "text": [
      "Twinkle Twinkle Little Star How I Wonder What You Are\n"
     ]
    }
   ],
   "source": [
    "print(c.title())"
   ]
  },
  {
   "cell_type": "markdown",
   "id": "189a7f3b",
   "metadata": {},
   "source": [
    "###### IsTitle"
   ]
  },
  {
   "cell_type": "code",
   "execution_count": 18,
   "id": "e88b9108",
   "metadata": {},
   "outputs": [],
   "source": [
    "c8=\"Twinkle Twinkle Little Star How I Wonder What You Are\""
   ]
  },
  {
   "cell_type": "code",
   "execution_count": 19,
   "id": "c5232b65",
   "metadata": {},
   "outputs": [
    {
     "name": "stdout",
     "output_type": "stream",
     "text": [
      "True\n"
     ]
    }
   ],
   "source": [
    "print(c8.istitle())"
   ]
  },
  {
   "cell_type": "markdown",
   "id": "44d21772",
   "metadata": {},
   "source": [
    "###### Upper"
   ]
  },
  {
   "cell_type": "code",
   "execution_count": 20,
   "id": "cb4d8669",
   "metadata": {},
   "outputs": [],
   "source": [
    "d=\"Twinkle twinkle little star How I wonder what you are\""
   ]
  },
  {
   "cell_type": "code",
   "execution_count": 21,
   "id": "459f4ceb",
   "metadata": {},
   "outputs": [
    {
     "name": "stdout",
     "output_type": "stream",
     "text": [
      "TWINKLE TWINKLE LITTLE STAR HOW I WONDER WHAT YOU ARE\n"
     ]
    }
   ],
   "source": [
    "print(d.upper())"
   ]
  },
  {
   "cell_type": "markdown",
   "id": "63e9ba07",
   "metadata": {},
   "source": [
    "###### Lower"
   ]
  },
  {
   "cell_type": "code",
   "execution_count": 22,
   "id": "7f5aca18",
   "metadata": {},
   "outputs": [],
   "source": [
    "e=\"Twinkle twinkle little star How I wonder what you are\""
   ]
  },
  {
   "cell_type": "code",
   "execution_count": 23,
   "id": "7200abb9",
   "metadata": {},
   "outputs": [
    {
     "name": "stdout",
     "output_type": "stream",
     "text": [
      "twinkle twinkle little star how i wonder what you are\n"
     ]
    }
   ],
   "source": [
    "print(e.lower())"
   ]
  },
  {
   "cell_type": "markdown",
   "id": "16f2dce0",
   "metadata": {},
   "source": [
    "###### IsUpper"
   ]
  },
  {
   "cell_type": "code",
   "execution_count": 24,
   "id": "17548f17",
   "metadata": {},
   "outputs": [],
   "source": [
    "f=\"Twinkle twinkle little star How I wonder what you are\""
   ]
  },
  {
   "cell_type": "code",
   "execution_count": 25,
   "id": "c2504f8d",
   "metadata": {},
   "outputs": [
    {
     "name": "stdout",
     "output_type": "stream",
     "text": [
      "False\n"
     ]
    }
   ],
   "source": [
    "print(f.isupper()) #Return True if the string is an uppercase string, False otherwise."
   ]
  },
  {
   "cell_type": "markdown",
   "id": "bc1c43ab",
   "metadata": {},
   "source": [
    "###### IsLower"
   ]
  },
  {
   "cell_type": "code",
   "execution_count": 26,
   "id": "9625cbcb",
   "metadata": {},
   "outputs": [],
   "source": [
    "g=\"twinkle twinkle little star how i wonder what you are\""
   ]
  },
  {
   "cell_type": "code",
   "execution_count": 27,
   "id": "14512c8c",
   "metadata": {},
   "outputs": [
    {
     "name": "stdout",
     "output_type": "stream",
     "text": [
      "True\n"
     ]
    }
   ],
   "source": [
    "print(g.islower()) #Return True if the string is a lowercase string, False otherwise."
   ]
  },
  {
   "cell_type": "markdown",
   "id": "f8f9f18a",
   "metadata": {},
   "source": [
    "###### Swapcase"
   ]
  },
  {
   "cell_type": "code",
   "execution_count": 28,
   "id": "20a609af",
   "metadata": {},
   "outputs": [],
   "source": [
    "h=\"Twinkle twinkle little star How I wonder what you are\""
   ]
  },
  {
   "cell_type": "code",
   "execution_count": 29,
   "id": "47fd443b",
   "metadata": {},
   "outputs": [
    {
     "name": "stdout",
     "output_type": "stream",
     "text": [
      "tWINKLE TWINKLE LITTLE STAR hOW i WONDER WHAT YOU ARE\n"
     ]
    }
   ],
   "source": [
    "print(h.swapcase())"
   ]
  },
  {
   "cell_type": "markdown",
   "id": "8a7743e0",
   "metadata": {},
   "source": [
    "###### Lstrip"
   ]
  },
  {
   "cell_type": "code",
   "execution_count": 30,
   "id": "dbc9ae6f",
   "metadata": {},
   "outputs": [],
   "source": [
    "i=\"           hi      my name    is               Tarzan                                 \""
   ]
  },
  {
   "cell_type": "code",
   "execution_count": 31,
   "id": "840f0ee4",
   "metadata": {},
   "outputs": [
    {
     "name": "stdout",
     "output_type": "stream",
     "text": [
      "hi      my name    is               Tarzan                                 \n"
     ]
    }
   ],
   "source": [
    "print(i.lstrip()) #Removes all the blank spaces on the left-side of the string"
   ]
  },
  {
   "cell_type": "markdown",
   "id": "323cea1c",
   "metadata": {},
   "source": [
    "###### Rstrip"
   ]
  },
  {
   "cell_type": "code",
   "execution_count": 32,
   "id": "21457972",
   "metadata": {},
   "outputs": [],
   "source": [
    "j=\"           hi      my name    is               Tarzan                                 \""
   ]
  },
  {
   "cell_type": "code",
   "execution_count": 33,
   "id": "a73e1195",
   "metadata": {},
   "outputs": [
    {
     "name": "stdout",
     "output_type": "stream",
     "text": [
      "           hi      my name    is               Tarzan\n"
     ]
    }
   ],
   "source": [
    "print(i.rstrip()) #Removes all the blank spaces on the right-side of the string"
   ]
  },
  {
   "cell_type": "markdown",
   "id": "32d873f6",
   "metadata": {},
   "source": [
    "###### Strip"
   ]
  },
  {
   "cell_type": "code",
   "execution_count": 34,
   "id": "45669ce1",
   "metadata": {},
   "outputs": [],
   "source": [
    "k=\"           hi      my name    is               Tarzan                                 \""
   ]
  },
  {
   "cell_type": "code",
   "execution_count": 35,
   "id": "d9732b0f",
   "metadata": {},
   "outputs": [
    {
     "name": "stdout",
     "output_type": "stream",
     "text": [
      "hi      my name    is               Tarzan\n"
     ]
    }
   ],
   "source": [
    "print(k.strip()) #Removes all the blank spaces on both the extreme ends of the string"
   ]
  },
  {
   "cell_type": "markdown",
   "id": "cfc5af53",
   "metadata": {},
   "source": [
    "###### RStrip"
   ]
  },
  {
   "cell_type": "markdown",
   "id": "831cd526",
   "metadata": {},
   "source": [
    "The rstrip() method removes any trailing characters (characters at the end a string), \n",
    "space is the default trailing character to remove."
   ]
  },
  {
   "cell_type": "code",
   "execution_count": 36,
   "id": "d5ac45f5",
   "metadata": {},
   "outputs": [],
   "source": [
    "k2=\"hello....,,,,,,,,,,,yyyyyssssshhhhhssssbbbbbssssvvvsssvvvvvvvssssssssjjjjjaaaakkkk    \""
   ]
  },
  {
   "cell_type": "code",
   "execution_count": 37,
   "id": "e94a6b9d",
   "metadata": {},
   "outputs": [
    {
     "name": "stdout",
     "output_type": "stream",
     "text": [
      "hello\n"
     ]
    }
   ],
   "source": [
    "print(k2.rstrip(\" .,yshbvjak\"))"
   ]
  },
  {
   "cell_type": "markdown",
   "id": "4d2e935d",
   "metadata": {},
   "source": [
    "###### Startswith"
   ]
  },
  {
   "cell_type": "code",
   "execution_count": 38,
   "id": "4794e618",
   "metadata": {},
   "outputs": [],
   "source": [
    "l=\"Twinkle twinkle little star How I wonder what you are\""
   ]
  },
  {
   "cell_type": "code",
   "execution_count": 39,
   "id": "7e922c92",
   "metadata": {},
   "outputs": [
    {
     "name": "stdout",
     "output_type": "stream",
     "text": [
      "False\n"
     ]
    }
   ],
   "source": [
    "print(l.startswith(\"t\")) #Checks if the string starts with a specific defined element \n",
    "                         #or not and returns Boolean value (Case Sensitive)"
   ]
  },
  {
   "cell_type": "markdown",
   "id": "d0f33c96",
   "metadata": {},
   "source": [
    "###### Endswith"
   ]
  },
  {
   "cell_type": "code",
   "execution_count": 40,
   "id": "23363354",
   "metadata": {},
   "outputs": [],
   "source": [
    "m=\"Twinkle twinkle little star How I wonder what you are\""
   ]
  },
  {
   "cell_type": "code",
   "execution_count": 41,
   "id": "39955557",
   "metadata": {},
   "outputs": [
    {
     "name": "stdout",
     "output_type": "stream",
     "text": [
      "True\n"
     ]
    }
   ],
   "source": [
    "print(m.endswith(\"e\")) #Checks if the string ends with a specific defined element \n",
    "                       #or not and returns Boolean value (Case Sensitive)"
   ]
  },
  {
   "cell_type": "markdown",
   "id": "ea9a7710",
   "metadata": {},
   "source": [
    "###### Format"
   ]
  },
  {
   "cell_type": "code",
   "execution_count": 42,
   "id": "82c79031",
   "metadata": {},
   "outputs": [
    {
     "name": "stdout",
     "output_type": "stream",
     "text": [
      "Hi my name  is Rahul and i am 21 years old\n"
     ]
    }
   ],
   "source": [
    "n=\"Hi my name  is {} and i am {} years old\"\n",
    "print(n.format(\"Rahul\",\"21\"))  #Using .format()"
   ]
  },
  {
   "cell_type": "code",
   "execution_count": 43,
   "id": "e535f029",
   "metadata": {},
   "outputs": [
    {
     "name": "stdout",
     "output_type": "stream",
     "text": [
      "Hi my name  is Rahul and i am 21 years old\n"
     ]
    }
   ],
   "source": [
    "o=\"Hi my name  is {x} and i am {y} years old\"\n",
    "print(o.format(x=\"Rahul\",y=\"21\")) #using variable in .format()"
   ]
  },
  {
   "cell_type": "code",
   "execution_count": 44,
   "id": "d3ed49aa",
   "metadata": {},
   "outputs": [
    {
     "name": "stdout",
     "output_type": "stream",
     "text": [
      "Enter your name:thor\n",
      "Enter your age:37\n",
      "Hi my name is thor and i am 37 years old\n"
     ]
    }
   ],
   "source": [
    "name=input(\"Enter your name:\")\n",
    "age=input(\"Enter your age:\")\n",
    "p=(f\"Hi my name is {name} and i am {age} years old\")\n",
    "print(p)"
   ]
  },
  {
   "cell_type": "markdown",
   "id": "592f3951",
   "metadata": {},
   "source": [
    "###### Replace"
   ]
  },
  {
   "cell_type": "code",
   "execution_count": 45,
   "id": "0d68e095",
   "metadata": {},
   "outputs": [],
   "source": [
    "q=\"Twinkle twinkle little star How I wonder what you are\""
   ]
  },
  {
   "cell_type": "code",
   "execution_count": 46,
   "id": "dc2daa67",
   "metadata": {},
   "outputs": [
    {
     "name": "stdout",
     "output_type": "stream",
     "text": [
      "Twinkle hulk little star How I wonder what you are\n"
     ]
    }
   ],
   "source": [
    "print(q.replace(\"twinkle\",\"hulk\"))"
   ]
  },
  {
   "cell_type": "markdown",
   "id": "4f30876b",
   "metadata": {},
   "source": [
    "###### Count"
   ]
  },
  {
   "cell_type": "code",
   "execution_count": 47,
   "id": "5105119d",
   "metadata": {},
   "outputs": [],
   "source": [
    "r=\"Twinkle twinkle little star How I wonder what you are\""
   ]
  },
  {
   "cell_type": "code",
   "execution_count": 48,
   "id": "5a8d7b18",
   "metadata": {},
   "outputs": [
    {
     "name": "stdout",
     "output_type": "stream",
     "text": [
      "3\n",
      "1\n"
     ]
    }
   ],
   "source": [
    "print(r.count(\"i\"))\n",
    "print(r.count(\"i\",15,25))"
   ]
  },
  {
   "cell_type": "markdown",
   "id": "2c81ce61",
   "metadata": {},
   "source": [
    "###### Split"
   ]
  },
  {
   "cell_type": "code",
   "execution_count": 49,
   "id": "f1f7e559",
   "metadata": {},
   "outputs": [],
   "source": [
    "s=\"Twinkle twinkle little star How I wonder what you are\""
   ]
  },
  {
   "cell_type": "code",
   "execution_count": 50,
   "id": "58d7272b",
   "metadata": {},
   "outputs": [
    {
     "name": "stdout",
     "output_type": "stream",
     "text": [
      "['Twinkle', 'twinkle', 'little', 'star', 'How', 'I', 'wonder', 'what', 'you', 'are']\n"
     ]
    }
   ],
   "source": [
    "print(s.split(\" \"))"
   ]
  },
  {
   "cell_type": "markdown",
   "id": "6ec09085",
   "metadata": {},
   "source": [
    "###### RSplit"
   ]
  },
  {
   "cell_type": "markdown",
   "id": "ae814034",
   "metadata": {},
   "source": [
    "The rsplit() method splits a string into a list, starting from the right.\n",
    "If no \"max\" is specified, this method will return the same as the split() method."
   ]
  },
  {
   "cell_type": "code",
   "execution_count": 51,
   "id": "a4274d84",
   "metadata": {},
   "outputs": [],
   "source": [
    "s1=\"Twinkle twinkle little star How I wonder what you are\""
   ]
  },
  {
   "cell_type": "code",
   "execution_count": 52,
   "id": "269d6fcb",
   "metadata": {},
   "outputs": [
    {
     "name": "stdout",
     "output_type": "stream",
     "text": [
      "['Twinkle twinkle little star How I wonder', 'what', 'you', 'are']\n"
     ]
    }
   ],
   "source": [
    "print(s1.rsplit(\" \",maxsplit=3))"
   ]
  },
  {
   "cell_type": "markdown",
   "id": "fb4b0620",
   "metadata": {},
   "source": [
    "###### Center"
   ]
  },
  {
   "cell_type": "code",
   "execution_count": 53,
   "id": "313f1efc",
   "metadata": {},
   "outputs": [],
   "source": [
    "t=\"Twinkle twinkle little star How I wonder what you are\""
   ]
  },
  {
   "cell_type": "code",
   "execution_count": 54,
   "id": "a3550636",
   "metadata": {},
   "outputs": [],
   "source": [
    "u=t.center(100,\"$\")"
   ]
  },
  {
   "cell_type": "code",
   "execution_count": 55,
   "id": "fa9b79ce",
   "metadata": {},
   "outputs": [
    {
     "data": {
      "text/plain": [
       "'$$$$$$$$$$$$$$$$$$$$$$$Twinkle twinkle little star How I wonder what you are$$$$$$$$$$$$$$$$$$$$$$$$'"
      ]
     },
     "execution_count": 55,
     "metadata": {},
     "output_type": "execute_result"
    }
   ],
   "source": [
    "u"
   ]
  },
  {
   "cell_type": "markdown",
   "id": "c58b3115",
   "metadata": {},
   "source": [
    "###### Encode"
   ]
  },
  {
   "cell_type": "code",
   "execution_count": 56,
   "id": "ba4dd64e",
   "metadata": {},
   "outputs": [],
   "source": [
    "v=\"Avengers2863\""
   ]
  },
  {
   "cell_type": "code",
   "execution_count": 57,
   "id": "f5a0425b",
   "metadata": {},
   "outputs": [
    {
     "name": "stdout",
     "output_type": "stream",
     "text": [
      "b'Avengers2863'\n"
     ]
    }
   ],
   "source": [
    "print(v.encode())"
   ]
  },
  {
   "cell_type": "markdown",
   "id": "b20a1eef",
   "metadata": {},
   "source": [
    "###### Casefold"
   ]
  },
  {
   "cell_type": "code",
   "execution_count": 58,
   "id": "322ba6fe",
   "metadata": {},
   "outputs": [],
   "source": [
    "w=\"Twinkle twinkle little star How I wonder what you are\""
   ]
  },
  {
   "cell_type": "code",
   "execution_count": 59,
   "id": "e4b029cf",
   "metadata": {},
   "outputs": [
    {
     "name": "stdout",
     "output_type": "stream",
     "text": [
      "twinkle twinkle little star how i wonder what you are\n"
     ]
    }
   ],
   "source": [
    "print(w.casefold()) # Return a version of the string suitable for caseless comparisons."
   ]
  },
  {
   "cell_type": "markdown",
   "id": "14300bb7",
   "metadata": {},
   "source": [
    "###### Index"
   ]
  },
  {
   "cell_type": "code",
   "execution_count": 60,
   "id": "cd87b5fa",
   "metadata": {},
   "outputs": [],
   "source": [
    "x=\"Twinkle twinkle little star How I wonder what you are\""
   ]
  },
  {
   "cell_type": "code",
   "execution_count": 61,
   "id": "b473355d",
   "metadata": {},
   "outputs": [
    {
     "name": "stdout",
     "output_type": "stream",
     "text": [
      "2\n"
     ]
    }
   ],
   "source": [
    "print(x.index(\"i\"))"
   ]
  },
  {
   "cell_type": "markdown",
   "id": "0cc9fa36",
   "metadata": {},
   "source": [
    "###### RIndex"
   ]
  },
  {
   "cell_type": "code",
   "execution_count": 62,
   "id": "18c500f8",
   "metadata": {},
   "outputs": [],
   "source": [
    "b1=\"Twinkle twinkle little star How I wonder what you are\""
   ]
  },
  {
   "cell_type": "code",
   "execution_count": 63,
   "id": "77f32ac0",
   "metadata": {},
   "outputs": [
    {
     "name": "stdout",
     "output_type": "stream",
     "text": [
      "17\n"
     ]
    }
   ],
   "source": [
    "print(b1.rindex(\"i\")) #The rindex() method finds the last occurrence of the specified value."
   ]
  },
  {
   "cell_type": "markdown",
   "id": "94643a26",
   "metadata": {},
   "source": [
    "###### IsAlpha"
   ]
  },
  {
   "cell_type": "code",
   "execution_count": 64,
   "id": "41b10dbd",
   "metadata": {},
   "outputs": [],
   "source": [
    "y=\"Twinkle twinkle little star How I wonder what you are\""
   ]
  },
  {
   "cell_type": "code",
   "execution_count": 65,
   "id": "908ad7a7",
   "metadata": {},
   "outputs": [
    {
     "name": "stdout",
     "output_type": "stream",
     "text": [
      "False\n"
     ]
    }
   ],
   "source": [
    "print(y.isalpha()) #The isalpha() method returns True if all the characters are alphabet letters (a-z).Space is not alphabet."
   ]
  },
  {
   "cell_type": "markdown",
   "id": "c57e9b39",
   "metadata": {},
   "source": [
    "###### IsNumeric"
   ]
  },
  {
   "cell_type": "code",
   "execution_count": 66,
   "id": "2ea5e7b5",
   "metadata": {},
   "outputs": [],
   "source": [
    "z=\"1234\""
   ]
  },
  {
   "cell_type": "code",
   "execution_count": 67,
   "id": "37428e21",
   "metadata": {},
   "outputs": [
    {
     "name": "stdout",
     "output_type": "stream",
     "text": [
      "True\n"
     ]
    }
   ],
   "source": [
    "print(z.isnumeric()) #Checks if the string contains calue which is Numeric in nature or not"
   ]
  },
  {
   "cell_type": "markdown",
   "id": "a8c27833",
   "metadata": {},
   "source": [
    "###### Isalnum"
   ]
  },
  {
   "cell_type": "code",
   "execution_count": 68,
   "id": "dc27e578",
   "metadata": {},
   "outputs": [],
   "source": [
    "a1=\"iloveyou3000\""
   ]
  },
  {
   "cell_type": "code",
   "execution_count": 69,
   "id": "bea89fc7",
   "metadata": {},
   "outputs": [
    {
     "name": "stdout",
     "output_type": "stream",
     "text": [
      "True\n"
     ]
    }
   ],
   "source": [
    "print(a1.isalnum()) #Checks if string is Alphanumeric.Unacceptable characters include- (space)!#%&? etc."
   ]
  },
  {
   "cell_type": "markdown",
   "id": "25347f2d",
   "metadata": {},
   "source": [
    "###### Splitlines"
   ]
  },
  {
   "cell_type": "code",
   "execution_count": 70,
   "id": "ebc38652",
   "metadata": {},
   "outputs": [],
   "source": [
    "c1=\"This is the anthem\\nTold the world I need everything and some, yeah\\nTwo girls that's a tandem\""
   ]
  },
  {
   "cell_type": "code",
   "execution_count": 71,
   "id": "9d5136eb",
   "metadata": {},
   "outputs": [
    {
     "name": "stdout",
     "output_type": "stream",
     "text": [
      "['This is the anthem', 'Told the world I need everything and some, yeah', \"Two girls that's a tandem\"]\n"
     ]
    }
   ],
   "source": [
    "print(c1.splitlines())"
   ]
  },
  {
   "cell_type": "markdown",
   "id": "c6aae7d1",
   "metadata": {},
   "source": [
    "###### IsDecomal"
   ]
  },
  {
   "cell_type": "code",
   "execution_count": 72,
   "id": "e4e6495a",
   "metadata": {},
   "outputs": [],
   "source": [
    "d1=\"3\""
   ]
  },
  {
   "cell_type": "code",
   "execution_count": 73,
   "id": "5d158bb3",
   "metadata": {},
   "outputs": [
    {
     "name": "stdout",
     "output_type": "stream",
     "text": [
      "True\n"
     ]
    }
   ],
   "source": [
    "print(d1.isdecimal()) #Returns True if value is between 0-9"
   ]
  },
  {
   "cell_type": "code",
   "execution_count": 74,
   "id": "24420465",
   "metadata": {},
   "outputs": [],
   "source": [
    "d2=\"\\u0030\""
   ]
  },
  {
   "cell_type": "code",
   "execution_count": 75,
   "id": "9a575cf7",
   "metadata": {},
   "outputs": [
    {
     "name": "stdout",
     "output_type": "stream",
     "text": [
      "True\n"
     ]
    }
   ],
   "source": [
    "print(d2.isdecimal())"
   ]
  },
  {
   "cell_type": "markdown",
   "id": "10a68b70",
   "metadata": {},
   "source": [
    "###### IsDigit"
   ]
  },
  {
   "cell_type": "code",
   "execution_count": 76,
   "id": "e5b474b1",
   "metadata": {},
   "outputs": [],
   "source": [
    "e1=\"2.32\""
   ]
  },
  {
   "cell_type": "code",
   "execution_count": 77,
   "id": "d43daf22",
   "metadata": {},
   "outputs": [
    {
     "name": "stdout",
     "output_type": "stream",
     "text": [
      "False\n"
     ]
    }
   ],
   "source": [
    "print(e1.isdigit())"
   ]
  },
  {
   "cell_type": "code",
   "execution_count": 78,
   "id": "8ca01d7f",
   "metadata": {},
   "outputs": [],
   "source": [
    "e2=\"3362\""
   ]
  },
  {
   "cell_type": "code",
   "execution_count": 79,
   "id": "2ad36aa4",
   "metadata": {},
   "outputs": [
    {
     "name": "stdout",
     "output_type": "stream",
     "text": [
      "True\n"
     ]
    }
   ],
   "source": [
    "print(e2.isdigit())"
   ]
  },
  {
   "cell_type": "markdown",
   "id": "edab243f",
   "metadata": {},
   "source": [
    "###### Join"
   ]
  },
  {
   "cell_type": "code",
   "execution_count": 80,
   "id": "f2cbc249",
   "metadata": {},
   "outputs": [],
   "source": [
    "f2=[\"hi\",\"how\",\"are\",\"you\"]\n",
    "f3=\" \""
   ]
  },
  {
   "cell_type": "code",
   "execution_count": 81,
   "id": "2ec5fc8a",
   "metadata": {},
   "outputs": [
    {
     "name": "stdout",
     "output_type": "stream",
     "text": [
      "hi how are you\n"
     ]
    }
   ],
   "source": [
    "print(f3.join(f2))"
   ]
  }
 ],
 "metadata": {
  "kernelspec": {
   "display_name": "Python 3",
   "language": "python",
   "name": "python3"
  },
  "language_info": {
   "codemirror_mode": {
    "name": "ipython",
    "version": 3
   },
   "file_extension": ".py",
   "mimetype": "text/x-python",
   "name": "python",
   "nbconvert_exporter": "python",
   "pygments_lexer": "ipython3",
   "version": "3.8.8"
  }
 },
 "nbformat": 4,
 "nbformat_minor": 5
}
