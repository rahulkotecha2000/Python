{
 "cells": [
  {
   "cell_type": "markdown",
   "id": "a654a672",
   "metadata": {},
   "source": [
    "# Dictionary Datatype- Operations and Methods"
   ]
  },
  {
   "cell_type": "markdown",
   "id": "8b083793",
   "metadata": {},
   "source": [
    "### Dictionary Operations"
   ]
  },
  {
   "cell_type": "markdown",
   "id": "0611d831",
   "metadata": {},
   "source": [
    "###### Add"
   ]
  },
  {
   "cell_type": "code",
   "execution_count": 1,
   "id": "848e4a0d",
   "metadata": {},
   "outputs": [],
   "source": [
    "veggies={\"tomato\":5,\"onion\":4,\"potato\":12,\"cauliflower\":48,\"cabbage\":50,\"ladyfinger\":36,\"beetroot\":10,\"spinach\":15}"
   ]
  },
  {
   "cell_type": "code",
   "execution_count": 2,
   "id": "c807543e",
   "metadata": {},
   "outputs": [
    {
     "name": "stdout",
     "output_type": "stream",
     "text": [
      "{'tomato': 5, 'onion': 4, 'potato': 12, 'cauliflower': 48, 'cabbage': 50, 'ladyfinger': 36, 'beetroot': 10, 'spinach': 15, 'eggplant': 30}\n"
     ]
    }
   ],
   "source": [
    "veggies[\"eggplant\"]=30\n",
    "print(veggies)"
   ]
  },
  {
   "cell_type": "markdown",
   "id": "6b886817",
   "metadata": {},
   "source": [
    "###### Update"
   ]
  },
  {
   "cell_type": "code",
   "execution_count": 3,
   "id": "84cb5e5c",
   "metadata": {},
   "outputs": [],
   "source": [
    "veggies1={'tomato': 5, 'onion': 4, 'potato': 12, 'cauliflower': 48, 'cabbage': 50, 'ladyfinger': 36,\n",
    "          'beetroot': 10, 'spinach': 15, 'eggplant': 30}"
   ]
  },
  {
   "cell_type": "code",
   "execution_count": 4,
   "id": "58b1662c",
   "metadata": {},
   "outputs": [
    {
     "name": "stdout",
     "output_type": "stream",
     "text": [
      "{'tomato': 5, 'onion': 29, 'potato': 12, 'cauliflower': 48, 'cabbage': 50, 'ladyfinger': 36, 'beetroot': 10, 'spinach': 55, 'eggplant': 30}\n"
     ]
    }
   ],
   "source": [
    "veggies1[\"onion\"]=29\n",
    "veggies1[\"spinach\"]=55\n",
    "print(veggies1)"
   ]
  },
  {
   "cell_type": "markdown",
   "id": "d227eda9",
   "metadata": {},
   "source": [
    "###### Retrieve"
   ]
  },
  {
   "cell_type": "code",
   "execution_count": 5,
   "id": "bb212e5a",
   "metadata": {},
   "outputs": [],
   "source": [
    "veggies2={'tomato': 5, 'onion': 29, 'potato': 12, 'cauliflower': 48, 'cabbage': 50, \n",
    "          'ladyfinger': 36, 'beetroot': 10, 'spinach': 55, 'eggplant': 30}"
   ]
  },
  {
   "cell_type": "code",
   "execution_count": 6,
   "id": "1a609e0e",
   "metadata": {},
   "outputs": [
    {
     "data": {
      "text/plain": [
       "36"
      ]
     },
     "execution_count": 6,
     "metadata": {},
     "output_type": "execute_result"
    }
   ],
   "source": [
    "veggies2[\"ladyfinger\"]"
   ]
  },
  {
   "cell_type": "markdown",
   "id": "463dfc48",
   "metadata": {},
   "source": [
    "### Dictionary Methods"
   ]
  },
  {
   "cell_type": "markdown",
   "id": "4b6d46a6",
   "metadata": {},
   "source": [
    "###### Keys"
   ]
  },
  {
   "cell_type": "code",
   "execution_count": 7,
   "id": "7387153e",
   "metadata": {},
   "outputs": [],
   "source": [
    "fruits={\"apple\":5,\"banana\":4,\"mango\":12,\"grapes\":48,\"oranges\":50,\"kiwi\":36,\"dragonfruit\":10,\"avacado\":15}"
   ]
  },
  {
   "cell_type": "code",
   "execution_count": 8,
   "id": "c5bca549",
   "metadata": {},
   "outputs": [
    {
     "name": "stdout",
     "output_type": "stream",
     "text": [
      "dict_keys(['apple', 'banana', 'mango', 'grapes', 'oranges', 'kiwi', 'dragonfruit', 'avacado'])\n"
     ]
    }
   ],
   "source": [
    "print(fruits.keys())"
   ]
  },
  {
   "cell_type": "markdown",
   "id": "7d183721",
   "metadata": {},
   "source": [
    "###### Values"
   ]
  },
  {
   "cell_type": "code",
   "execution_count": 9,
   "id": "9502e074",
   "metadata": {},
   "outputs": [],
   "source": [
    "fruits1={\"apple\":5,\"banana\":4,\"mango\":12,\"grapes\":48,\"oranges\":50,\"kiwi\":36,\"dragonfruit\":10,\"avacado\":15}"
   ]
  },
  {
   "cell_type": "code",
   "execution_count": 10,
   "id": "2d48f93f",
   "metadata": {},
   "outputs": [
    {
     "name": "stdout",
     "output_type": "stream",
     "text": [
      "dict_values([5, 4, 12, 48, 50, 36, 10, 15])\n"
     ]
    }
   ],
   "source": [
    "print(fruits1.values())"
   ]
  },
  {
   "cell_type": "markdown",
   "id": "313f7bb5",
   "metadata": {},
   "source": [
    "###### Items"
   ]
  },
  {
   "cell_type": "code",
   "execution_count": 11,
   "id": "c8a369c6",
   "metadata": {},
   "outputs": [],
   "source": [
    "fruits2={\"apple\":5,\"banana\":4,\"mango\":12,\"grapes\":48,\"oranges\":50,\"kiwi\":36,\"dragonfruit\":10,\"avacado\":15}"
   ]
  },
  {
   "cell_type": "code",
   "execution_count": 12,
   "id": "3de77f38",
   "metadata": {},
   "outputs": [
    {
     "name": "stdout",
     "output_type": "stream",
     "text": [
      "dict_items([('apple', 5), ('banana', 4), ('mango', 12), ('grapes', 48), ('oranges', 50), ('kiwi', 36), ('dragonfruit', 10), ('avacado', 15)])\n"
     ]
    }
   ],
   "source": [
    "print(fruits1.items())"
   ]
  },
  {
   "cell_type": "markdown",
   "id": "5ec5a996",
   "metadata": {},
   "source": [
    "###### Get"
   ]
  },
  {
   "cell_type": "code",
   "execution_count": 13,
   "id": "a28a1cac",
   "metadata": {},
   "outputs": [],
   "source": [
    "fruits3={\"apple\":5,\"banana\":4,\"mango\":12,\"grapes\":48,\"oranges\":50,\"kiwi\":36,\"dragonfruit\":10,\"avacado\":15}"
   ]
  },
  {
   "cell_type": "code",
   "execution_count": 14,
   "id": "e570d7f8",
   "metadata": {},
   "outputs": [
    {
     "data": {
      "text/plain": [
       "48"
      ]
     },
     "execution_count": 14,
     "metadata": {},
     "output_type": "execute_result"
    }
   ],
   "source": [
    "fruits3.get(\"grapes\")"
   ]
  },
  {
   "cell_type": "code",
   "execution_count": 15,
   "id": "2bdfd35d",
   "metadata": {},
   "outputs": [
    {
     "data": {
      "text/plain": [
       "12"
      ]
     },
     "execution_count": 15,
     "metadata": {},
     "output_type": "execute_result"
    }
   ],
   "source": [
    "fruits3.get(\"mango\")"
   ]
  },
  {
   "cell_type": "markdown",
   "id": "8d743b6a",
   "metadata": {},
   "source": [
    "###### Setdefault"
   ]
  },
  {
   "cell_type": "code",
   "execution_count": 16,
   "id": "cad7c584",
   "metadata": {},
   "outputs": [],
   "source": [
    "fruits4={\"apple\":5,\"banana\":4,\"mango\":12,\"grapes\":48,\"oranges\":50,\"kiwi\":36,\"dragonfruit\":10,\"avacado\":15}"
   ]
  },
  {
   "cell_type": "code",
   "execution_count": 17,
   "id": "158994f7",
   "metadata": {},
   "outputs": [
    {
     "name": "stdout",
     "output_type": "stream",
     "text": [
      "{'apple': 5, 'banana': 4, 'mango': 12, 'grapes': 48, 'oranges': 50, 'kiwi': 36, 'dragonfruit': 10, 'avacado': 15, 'guava': 30}\n"
     ]
    }
   ],
   "source": [
    "fruits4.setdefault(\"guava\",30)\n",
    "print(fruits4)"
   ]
  },
  {
   "cell_type": "code",
   "execution_count": 18,
   "id": "77268cab",
   "metadata": {},
   "outputs": [
    {
     "name": "stdout",
     "output_type": "stream",
     "text": [
      "{'apple': 5, 'banana': 4, 'mango': 12, 'grapes': 48, 'oranges': 50, 'kiwi': 36, 'dragonfruit': 10, 'avacado': 15, 'guava': 30, 'peach': 20}\n"
     ]
    }
   ],
   "source": [
    "fruits4.setdefault(\"peach\",20)\n",
    "print(fruits4)"
   ]
  },
  {
   "cell_type": "markdown",
   "id": "1b957863",
   "metadata": {},
   "source": [
    "###### Pop"
   ]
  },
  {
   "cell_type": "code",
   "execution_count": 19,
   "id": "00b873f0",
   "metadata": {},
   "outputs": [],
   "source": [
    "fruits5={'apple': 5, 'banana': 4, 'mango': 12, 'grapes': 48, 'oranges': 50, 'kiwi': 36, 'dragonfruit': 10, 'avacado': 15, \n",
    "         'guava': 30, 'peach': 20}"
   ]
  },
  {
   "cell_type": "code",
   "execution_count": 20,
   "id": "e54cc81a",
   "metadata": {},
   "outputs": [
    {
     "name": "stdout",
     "output_type": "stream",
     "text": [
      "{'apple': 5, 'banana': 4, 'mango': 12, 'grapes': 48, 'oranges': 50, 'kiwi': 36, 'dragonfruit': 10, 'avacado': 15, 'guava': 30}\n"
     ]
    }
   ],
   "source": [
    "fruits5.pop(\"peach\") #Pop in Dictionary datatype requires the kay as an argument to be passed\n",
    "print(fruits5)"
   ]
  },
  {
   "cell_type": "markdown",
   "id": "aac44a55",
   "metadata": {},
   "source": [
    "###### Popitem"
   ]
  },
  {
   "cell_type": "code",
   "execution_count": 21,
   "id": "3dc6ebd6",
   "metadata": {},
   "outputs": [],
   "source": [
    "fruits7={'apple': 5, 'banana': 4, 'mango': 12, 'grapes': 48, 'oranges': 50, 'kiwi': 36, 'dragonfruit': 10, 'avacado': 15, \n",
    "         'guava': 30, 'peach': 20}"
   ]
  },
  {
   "cell_type": "code",
   "execution_count": 22,
   "id": "3b4424aa",
   "metadata": {},
   "outputs": [
    {
     "data": {
      "text/plain": [
       "('peach', 20)"
      ]
     },
     "execution_count": 22,
     "metadata": {},
     "output_type": "execute_result"
    }
   ],
   "source": [
    "fruits7.popitem() #Popitem takes no arguments and only removes the last item in the dictionary one at a time"
   ]
  },
  {
   "cell_type": "code",
   "execution_count": 23,
   "id": "a92c505c",
   "metadata": {},
   "outputs": [
    {
     "name": "stdout",
     "output_type": "stream",
     "text": [
      "{'apple': 5, 'banana': 4, 'mango': 12, 'grapes': 48, 'oranges': 50, 'kiwi': 36, 'dragonfruit': 10, 'avacado': 15, 'guava': 30}\n"
     ]
    }
   ],
   "source": [
    "print(fruits7)"
   ]
  },
  {
   "cell_type": "markdown",
   "id": "31bf500c",
   "metadata": {},
   "source": [
    "###### Update"
   ]
  },
  {
   "cell_type": "code",
   "execution_count": 24,
   "id": "28cf7672",
   "metadata": {},
   "outputs": [],
   "source": [
    "fruits6={'apple': 5, 'banana': 4, 'mango': 12, 'grapes': 48, 'oranges': 50, 'kiwi': 36, 'dragonfruit': 10, 'avacado': 15, \n",
    "         'guava': 30, 'peach': 20}\n",
    "change={\"apple\":10}"
   ]
  },
  {
   "cell_type": "code",
   "execution_count": 25,
   "id": "b42dd8b7",
   "metadata": {},
   "outputs": [
    {
     "name": "stdout",
     "output_type": "stream",
     "text": [
      "{'apple': 10, 'banana': 4, 'mango': 12, 'grapes': 48, 'oranges': 50, 'kiwi': 36, 'dragonfruit': 10, 'avacado': 15, 'guava': 30, 'peach': 20}\n"
     ]
    }
   ],
   "source": [
    "fruits6.update(change)\n",
    "print(fruits6)"
   ]
  },
  {
   "cell_type": "markdown",
   "id": "d93b7f22",
   "metadata": {},
   "source": [
    "###### Clear"
   ]
  },
  {
   "cell_type": "code",
   "execution_count": 26,
   "id": "dd5978e9",
   "metadata": {},
   "outputs": [],
   "source": [
    "fruits8={'apple': 5, 'banana': 4, 'mango': 12, 'grapes': 48, 'oranges': 50, 'kiwi': 36, 'dragonfruit': 10, 'avacado': 15, \n",
    "         'guava': 30, 'peach': 20}"
   ]
  },
  {
   "cell_type": "code",
   "execution_count": 27,
   "id": "e1e603b2",
   "metadata": {},
   "outputs": [
    {
     "name": "stdout",
     "output_type": "stream",
     "text": [
      "{}\n"
     ]
    }
   ],
   "source": [
    "fruits8.clear()\n",
    "print(fruits8)"
   ]
  },
  {
   "cell_type": "markdown",
   "id": "219f9dbc",
   "metadata": {},
   "source": [
    "###### Copy"
   ]
  },
  {
   "cell_type": "code",
   "execution_count": 28,
   "id": "fe303602",
   "metadata": {},
   "outputs": [],
   "source": [
    "fruits9={'apple': 5, 'banana': 4, 'mango': 12, 'grapes': 48, 'oranges': 50, 'kiwi': 36, 'dragonfruit': 10, 'avacado': 15, \n",
    "         'guava': 30, 'peach': 20}"
   ]
  },
  {
   "cell_type": "code",
   "execution_count": 29,
   "id": "1783ae36",
   "metadata": {},
   "outputs": [
    {
     "name": "stdout",
     "output_type": "stream",
     "text": [
      "{'apple': 5, 'banana': 4, 'mango': 12, 'grapes': 48, 'oranges': 50, 'kiwi': 36, 'dragonfruit': 10, 'avacado': 15, 'guava': 30, 'peach': 20}\n"
     ]
    }
   ],
   "source": [
    "basket=fruits9.copy()\n",
    "print(basket)"
   ]
  },
  {
   "cell_type": "markdown",
   "id": "386dbfcc",
   "metadata": {},
   "source": [
    "###### Fromkeys"
   ]
  },
  {
   "cell_type": "code",
   "execution_count": 30,
   "id": "bfe13036",
   "metadata": {},
   "outputs": [],
   "source": [
    "x={\"key1\",\"key2\",\"key3\",\"key4\",\"key5\"}\n",
    "x1=200  "
   ]
  },
  {
   "cell_type": "code",
   "execution_count": 31,
   "id": "356160e6",
   "metadata": {},
   "outputs": [
    {
     "name": "stdout",
     "output_type": "stream",
     "text": [
      "{'key1': 200, 'key4': 200, 'key2': 200, 'key3': 200, 'key5': 200}\n"
     ]
    }
   ],
   "source": [
    "xx=dict.fromkeys(x,x1) #The fromkeys() method returns a dictionary with the specified keys and the specified value.\n",
    "print(xx)"
   ]
  }
 ],
 "metadata": {
  "kernelspec": {
   "display_name": "Python 3",
   "language": "python",
   "name": "python3"
  },
  "language_info": {
   "codemirror_mode": {
    "name": "ipython",
    "version": 3
   },
   "file_extension": ".py",
   "mimetype": "text/x-python",
   "name": "python",
   "nbconvert_exporter": "python",
   "pygments_lexer": "ipython3",
   "version": "3.8.8"
  }
 },
 "nbformat": 4,
 "nbformat_minor": 5
}
